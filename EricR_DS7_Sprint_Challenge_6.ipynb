{
  "nbformat": 4,
  "nbformat_minor": 0,
  "metadata": {
    "colab": {
      "name": "Copy of Copy of DS7_Sprint_Challenge_6 (1).ipynb",
      "version": "0.3.2",
      "provenance": [],
      "collapsed_sections": [],
      "include_colab_link": true
    },
    "kernelspec": {
      "display_name": "Python 3",
      "language": "python",
      "name": "python3"
    },
    "language_info": {
      "codemirror_mode": {
        "name": "ipython",
        "version": 3
      },
      "file_extension": ".py",
      "mimetype": "text/x-python",
      "name": "python",
      "nbconvert_exporter": "python",
      "pygments_lexer": "ipython3",
      "version": "3.7.3"
    }
  },
  "cells": [
    {
      "cell_type": "markdown",
      "metadata": {
        "id": "view-in-github",
        "colab_type": "text"
      },
      "source": [
        "<a href=\"https://colab.research.google.com/github/erivetna87/DS-Unit-2-Kaggle-Challenge/blob/master/EricR_DS7_Sprint_Challenge_6.ipynb\" target=\"_parent\"><img src=\"https://colab.research.google.com/assets/colab-badge.svg\" alt=\"Open In Colab\"/></a>"
      ]
    },
    {
      "cell_type": "markdown",
      "metadata": {
        "colab_type": "text",
        "id": "M3XH_XLsy_Bn"
      },
      "source": [
        "_Lambda School Data Science, Unit 2_\n",
        " \n",
        "# Sprint Challenge: Predict Steph Curry's shots 🏀\n",
        "\n",
        "For your Sprint Challenge, you'll use a dataset with all Steph Curry's NBA field goal attempts. (Regular season and playoff games, from October 28, 2009, through June 5, 2019.) \n",
        "\n",
        "You'll predict whether each shot was made, using information about the shot and the game. This is hard to predict! Try to get above 60% accuracy. The dataset was collected with the [nba_api](https://github.com/swar/nba_api) Python library."
      ]
    },
    {
      "cell_type": "code",
      "metadata": {
        "colab_type": "code",
        "id": "Nw3CL7TE7tNq",
        "outputId": "4d443982-6f5a-496b-e210-c6f7b75fd6ab",
        "colab": {
          "base_uri": "https://localhost:8080/",
          "height": 1000
        }
      },
      "source": [
        "import sys\n",
        "in_colab = 'google.colab' in sys.modules\n",
        "\n",
        "if in_colab:\n",
        "    # Install packages in Colab\n",
        "    !pip install category_encoders==2.0.0\n",
        "    !pip install pandas-profiling==2.3.0\n",
        "    !pip install plotly==4.1.1"
      ],
      "execution_count": 25,
      "outputs": [
        {
          "output_type": "stream",
          "text": [
            "Requirement already satisfied: category_encoders==2.0.0 in /usr/local/lib/python3.6/dist-packages (2.0.0)\n",
            "Requirement already satisfied: statsmodels>=0.6.1 in /usr/local/lib/python3.6/dist-packages (from category_encoders==2.0.0) (0.10.1)\n",
            "Requirement already satisfied: pandas>=0.21.1 in /usr/local/lib/python3.6/dist-packages (from category_encoders==2.0.0) (0.24.2)\n",
            "Requirement already satisfied: patsy>=0.4.1 in /usr/local/lib/python3.6/dist-packages (from category_encoders==2.0.0) (0.5.1)\n",
            "Requirement already satisfied: numpy>=1.11.3 in /usr/local/lib/python3.6/dist-packages (from category_encoders==2.0.0) (1.16.5)\n",
            "Requirement already satisfied: scipy>=0.19.0 in /usr/local/lib/python3.6/dist-packages (from category_encoders==2.0.0) (1.3.1)\n",
            "Requirement already satisfied: scikit-learn>=0.20.0 in /usr/local/lib/python3.6/dist-packages (from category_encoders==2.0.0) (0.21.3)\n",
            "Requirement already satisfied: python-dateutil>=2.5.0 in /usr/local/lib/python3.6/dist-packages (from pandas>=0.21.1->category_encoders==2.0.0) (2.5.3)\n",
            "Requirement already satisfied: pytz>=2011k in /usr/local/lib/python3.6/dist-packages (from pandas>=0.21.1->category_encoders==2.0.0) (2018.9)\n",
            "Requirement already satisfied: six in /usr/local/lib/python3.6/dist-packages (from patsy>=0.4.1->category_encoders==2.0.0) (1.12.0)\n",
            "Requirement already satisfied: joblib>=0.11 in /usr/local/lib/python3.6/dist-packages (from scikit-learn>=0.20.0->category_encoders==2.0.0) (0.13.2)\n",
            "Requirement already satisfied: pandas-profiling==2.3.0 in /usr/local/lib/python3.6/dist-packages (2.3.0)\n",
            "Requirement already satisfied: matplotlib>=1.4 in /usr/local/lib/python3.6/dist-packages (from pandas-profiling==2.3.0) (3.0.3)\n",
            "Requirement already satisfied: pandas>=0.19 in /usr/local/lib/python3.6/dist-packages (from pandas-profiling==2.3.0) (0.24.2)\n",
            "Requirement already satisfied: jinja2>=2.8 in /usr/local/lib/python3.6/dist-packages (from pandas-profiling==2.3.0) (2.10.1)\n",
            "Requirement already satisfied: htmlmin>=0.1.12 in /usr/local/lib/python3.6/dist-packages (from pandas-profiling==2.3.0) (0.1.12)\n",
            "Requirement already satisfied: astropy in /usr/local/lib/python3.6/dist-packages (from pandas-profiling==2.3.0) (3.0.5)\n",
            "Requirement already satisfied: missingno>=0.4.2 in /usr/local/lib/python3.6/dist-packages (from pandas-profiling==2.3.0) (0.4.2)\n",
            "Requirement already satisfied: confuse>=1.0.0 in /usr/local/lib/python3.6/dist-packages (from pandas-profiling==2.3.0) (1.0.0)\n",
            "Requirement already satisfied: phik>=0.9.8 in /usr/local/lib/python3.6/dist-packages (from pandas-profiling==2.3.0) (0.9.8)\n",
            "Requirement already satisfied: kiwisolver>=1.0.1 in /usr/local/lib/python3.6/dist-packages (from matplotlib>=1.4->pandas-profiling==2.3.0) (1.1.0)\n",
            "Requirement already satisfied: python-dateutil>=2.1 in /usr/local/lib/python3.6/dist-packages (from matplotlib>=1.4->pandas-profiling==2.3.0) (2.5.3)\n",
            "Requirement already satisfied: pyparsing!=2.0.4,!=2.1.2,!=2.1.6,>=2.0.1 in /usr/local/lib/python3.6/dist-packages (from matplotlib>=1.4->pandas-profiling==2.3.0) (2.4.2)\n",
            "Requirement already satisfied: cycler>=0.10 in /usr/local/lib/python3.6/dist-packages (from matplotlib>=1.4->pandas-profiling==2.3.0) (0.10.0)\n",
            "Requirement already satisfied: numpy>=1.10.0 in /usr/local/lib/python3.6/dist-packages (from matplotlib>=1.4->pandas-profiling==2.3.0) (1.16.5)\n",
            "Requirement already satisfied: pytz>=2011k in /usr/local/lib/python3.6/dist-packages (from pandas>=0.19->pandas-profiling==2.3.0) (2018.9)\n",
            "Requirement already satisfied: MarkupSafe>=0.23 in /usr/local/lib/python3.6/dist-packages (from jinja2>=2.8->pandas-profiling==2.3.0) (1.1.1)\n",
            "Requirement already satisfied: seaborn in /usr/local/lib/python3.6/dist-packages (from missingno>=0.4.2->pandas-profiling==2.3.0) (0.9.0)\n",
            "Requirement already satisfied: scipy in /usr/local/lib/python3.6/dist-packages (from missingno>=0.4.2->pandas-profiling==2.3.0) (1.3.1)\n",
            "Requirement already satisfied: pyyaml in /usr/local/lib/python3.6/dist-packages (from confuse>=1.0.0->pandas-profiling==2.3.0) (3.13)\n",
            "Requirement already satisfied: nbconvert>=5.3.1 in /usr/local/lib/python3.6/dist-packages (from phik>=0.9.8->pandas-profiling==2.3.0) (5.6.0)\n",
            "Requirement already satisfied: numba>=0.38.1 in /usr/local/lib/python3.6/dist-packages (from phik>=0.9.8->pandas-profiling==2.3.0) (0.40.1)\n",
            "Requirement already satisfied: pytest-pylint>=0.13.0 in /usr/local/lib/python3.6/dist-packages (from phik>=0.9.8->pandas-profiling==2.3.0) (0.14.1)\n",
            "Requirement already satisfied: pytest>=4.0.2 in /usr/local/lib/python3.6/dist-packages (from phik>=0.9.8->pandas-profiling==2.3.0) (5.1.2)\n",
            "Requirement already satisfied: jupyter-client>=5.2.3 in /usr/local/lib/python3.6/dist-packages (from phik>=0.9.8->pandas-profiling==2.3.0) (5.3.1)\n",
            "Requirement already satisfied: setuptools in /usr/local/lib/python3.6/dist-packages (from kiwisolver>=1.0.1->matplotlib>=1.4->pandas-profiling==2.3.0) (41.2.0)\n",
            "Requirement already satisfied: six>=1.5 in /usr/local/lib/python3.6/dist-packages (from python-dateutil>=2.1->matplotlib>=1.4->pandas-profiling==2.3.0) (1.12.0)\n",
            "Requirement already satisfied: mistune<2,>=0.8.1 in /usr/local/lib/python3.6/dist-packages (from nbconvert>=5.3.1->phik>=0.9.8->pandas-profiling==2.3.0) (0.8.4)\n",
            "Requirement already satisfied: testpath in /usr/local/lib/python3.6/dist-packages (from nbconvert>=5.3.1->phik>=0.9.8->pandas-profiling==2.3.0) (0.4.2)\n",
            "Requirement already satisfied: jupyter-core in /usr/local/lib/python3.6/dist-packages (from nbconvert>=5.3.1->phik>=0.9.8->pandas-profiling==2.3.0) (4.5.0)\n",
            "Requirement already satisfied: pygments in /usr/local/lib/python3.6/dist-packages (from nbconvert>=5.3.1->phik>=0.9.8->pandas-profiling==2.3.0) (2.1.3)\n",
            "Requirement already satisfied: nbformat>=4.4 in /usr/local/lib/python3.6/dist-packages (from nbconvert>=5.3.1->phik>=0.9.8->pandas-profiling==2.3.0) (4.4.0)\n",
            "Requirement already satisfied: entrypoints>=0.2.2 in /usr/local/lib/python3.6/dist-packages (from nbconvert>=5.3.1->phik>=0.9.8->pandas-profiling==2.3.0) (0.3)\n",
            "Requirement already satisfied: defusedxml in /usr/local/lib/python3.6/dist-packages (from nbconvert>=5.3.1->phik>=0.9.8->pandas-profiling==2.3.0) (0.6.0)\n",
            "Requirement already satisfied: pandocfilters>=1.4.1 in /usr/local/lib/python3.6/dist-packages (from nbconvert>=5.3.1->phik>=0.9.8->pandas-profiling==2.3.0) (1.4.2)\n",
            "Requirement already satisfied: bleach in /usr/local/lib/python3.6/dist-packages (from nbconvert>=5.3.1->phik>=0.9.8->pandas-profiling==2.3.0) (3.1.0)\n",
            "Requirement already satisfied: traitlets>=4.2 in /usr/local/lib/python3.6/dist-packages (from nbconvert>=5.3.1->phik>=0.9.8->pandas-profiling==2.3.0) (4.3.2)\n",
            "Requirement already satisfied: llvmlite>=0.25.0dev0 in /usr/local/lib/python3.6/dist-packages (from numba>=0.38.1->phik>=0.9.8->pandas-profiling==2.3.0) (0.29.0)\n",
            "Requirement already satisfied: pylint>=1.4.5 in /usr/local/lib/python3.6/dist-packages (from pytest-pylint>=0.13.0->phik>=0.9.8->pandas-profiling==2.3.0) (2.3.1)\n",
            "Requirement already satisfied: attrs>=17.4.0 in /usr/local/lib/python3.6/dist-packages (from pytest>=4.0.2->phik>=0.9.8->pandas-profiling==2.3.0) (19.1.0)\n",
            "Requirement already satisfied: wcwidth in /usr/local/lib/python3.6/dist-packages (from pytest>=4.0.2->phik>=0.9.8->pandas-profiling==2.3.0) (0.1.7)\n",
            "Requirement already satisfied: importlib-metadata>=0.12; python_version < \"3.8\" in /usr/local/lib/python3.6/dist-packages (from pytest>=4.0.2->phik>=0.9.8->pandas-profiling==2.3.0) (0.20)\n",
            "Requirement already satisfied: py>=1.5.0 in /usr/local/lib/python3.6/dist-packages (from pytest>=4.0.2->phik>=0.9.8->pandas-profiling==2.3.0) (1.8.0)\n",
            "Requirement already satisfied: packaging in /usr/local/lib/python3.6/dist-packages (from pytest>=4.0.2->phik>=0.9.8->pandas-profiling==2.3.0) (19.1)\n",
            "Requirement already satisfied: atomicwrites>=1.0 in /usr/local/lib/python3.6/dist-packages (from pytest>=4.0.2->phik>=0.9.8->pandas-profiling==2.3.0) (1.3.0)\n",
            "Requirement already satisfied: more-itertools>=4.0.0 in /usr/local/lib/python3.6/dist-packages (from pytest>=4.0.2->phik>=0.9.8->pandas-profiling==2.3.0) (7.2.0)\n",
            "Requirement already satisfied: pluggy<1.0,>=0.12 in /usr/local/lib/python3.6/dist-packages (from pytest>=4.0.2->phik>=0.9.8->pandas-profiling==2.3.0) (0.13.0)\n",
            "Requirement already satisfied: pyzmq>=13 in /usr/local/lib/python3.6/dist-packages (from jupyter-client>=5.2.3->phik>=0.9.8->pandas-profiling==2.3.0) (17.0.0)\n",
            "Requirement already satisfied: tornado>=4.1 in /usr/local/lib/python3.6/dist-packages (from jupyter-client>=5.2.3->phik>=0.9.8->pandas-profiling==2.3.0) (4.5.3)\n",
            "Requirement already satisfied: jsonschema!=2.5.0,>=2.4 in /usr/local/lib/python3.6/dist-packages (from nbformat>=4.4->nbconvert>=5.3.1->phik>=0.9.8->pandas-profiling==2.3.0) (2.6.0)\n",
            "Requirement already satisfied: ipython-genutils in /usr/local/lib/python3.6/dist-packages (from nbformat>=4.4->nbconvert>=5.3.1->phik>=0.9.8->pandas-profiling==2.3.0) (0.2.0)\n",
            "Requirement already satisfied: webencodings in /usr/local/lib/python3.6/dist-packages (from bleach->nbconvert>=5.3.1->phik>=0.9.8->pandas-profiling==2.3.0) (0.5.1)\n",
            "Requirement already satisfied: decorator in /usr/local/lib/python3.6/dist-packages (from traitlets>=4.2->nbconvert>=5.3.1->phik>=0.9.8->pandas-profiling==2.3.0) (4.4.0)\n",
            "Requirement already satisfied: mccabe<0.7,>=0.6 in /usr/local/lib/python3.6/dist-packages (from pylint>=1.4.5->pytest-pylint>=0.13.0->phik>=0.9.8->pandas-profiling==2.3.0) (0.6.1)\n",
            "Requirement already satisfied: isort<5,>=4.2.5 in /usr/local/lib/python3.6/dist-packages (from pylint>=1.4.5->pytest-pylint>=0.13.0->phik>=0.9.8->pandas-profiling==2.3.0) (4.3.21)\n",
            "Requirement already satisfied: astroid<3,>=2.2.0 in /usr/local/lib/python3.6/dist-packages (from pylint>=1.4.5->pytest-pylint>=0.13.0->phik>=0.9.8->pandas-profiling==2.3.0) (2.2.5)\n",
            "Requirement already satisfied: zipp>=0.5 in /usr/local/lib/python3.6/dist-packages (from importlib-metadata>=0.12; python_version < \"3.8\"->pytest>=4.0.2->phik>=0.9.8->pandas-profiling==2.3.0) (0.6.0)\n",
            "Requirement already satisfied: typed-ast>=1.3.0; implementation_name == \"cpython\" in /usr/local/lib/python3.6/dist-packages (from astroid<3,>=2.2.0->pylint>=1.4.5->pytest-pylint>=0.13.0->phik>=0.9.8->pandas-profiling==2.3.0) (1.4.0)\n",
            "Requirement already satisfied: wrapt in /usr/local/lib/python3.6/dist-packages (from astroid<3,>=2.2.0->pylint>=1.4.5->pytest-pylint>=0.13.0->phik>=0.9.8->pandas-profiling==2.3.0) (1.11.2)\n",
            "Requirement already satisfied: lazy-object-proxy in /usr/local/lib/python3.6/dist-packages (from astroid<3,>=2.2.0->pylint>=1.4.5->pytest-pylint>=0.13.0->phik>=0.9.8->pandas-profiling==2.3.0) (1.4.2)\n",
            "Requirement already satisfied: plotly==4.1.1 in /usr/local/lib/python3.6/dist-packages (4.1.1)\n",
            "Requirement already satisfied: six in /usr/local/lib/python3.6/dist-packages (from plotly==4.1.1) (1.12.0)\n",
            "Requirement already satisfied: retrying>=1.3.3 in /usr/local/lib/python3.6/dist-packages (from plotly==4.1.1) (1.3.3)\n"
          ],
          "name": "stdout"
        }
      ]
    },
    {
      "cell_type": "code",
      "metadata": {
        "colab_type": "code",
        "id": "-Nm24pCHy_Bo",
        "colab": {}
      },
      "source": [
        "import numpy as np\n",
        "import pandas as pd\n",
        "from sklearn.model_selection import train_test_split\n",
        "import category_encoders as ce\n",
        "from sklearn.ensemble import RandomForestClassifier\n",
        "from sklearn.dummy import DummyClassifier\n",
        "from sklearn.impute import SimpleImputer\n",
        "from sklearn.pipeline import make_pipeline\n",
        "from sklearn.linear_model import LogisticRegressionCV\n",
        "from sklearn.preprocessing import StandardScaler\n",
        "from sklearn.tree import DecisionTreeClassifier\n",
        "from sklearn.ensemble import RandomForestRegressor\n",
        "\n",
        "# Read data\n",
        "url = 'https://drive.google.com/uc?export=download&id=1fL7KPyxgGYfQDsuJoBWHIWwCAf-HTFpX'\n",
        "df = pd.read_csv(url)\n",
        "\n",
        "# Check data shape\n",
        "assert df.shape == (13958, 20)"
      ],
      "execution_count": 0,
      "outputs": []
    },
    {
      "cell_type": "markdown",
      "metadata": {
        "colab_type": "text",
        "id": "B8BvDKLFy_Bq"
      },
      "source": [
        "To demonstrate mastery on your Sprint Challenge, do all the required, numbered instructions in this notebook.\n",
        "\n",
        "To earn a score of \"3\", also do all the stretch goals.\n",
        "\n",
        "You are permitted and encouraged to do as much data exploration as you want.\n",
        "\n",
        "**1. Begin with baselines for classification.** Your target to predict is `shot_made_flag`. What is your baseline accuracy, if you guessed the majority class for every prediction?\n",
        "\n",
        "**2. Hold out your test set.** Use the 2018-19 season to test. NBA seasons begin in October and end in June. You'll know you've split the data correctly when your test set has 1,709 observations.\n",
        "\n",
        "**3. Engineer new feature.** Engineer at least **1** new feature, from this list, or your own idea.\n",
        "- **Homecourt Advantage**: Is the home team (`htm`) the Golden State Warriors (`GSW`) ?\n",
        "- **Opponent**: Who is the other team playing the Golden State Warriors?\n",
        "- **Seconds remaining in the period**: Combine minutes remaining with seconds remaining, to get the total number of seconds remaining in the period.\n",
        "- **Seconds remaining in the game**: Combine period, and seconds remaining in the period, to get the total number of seconds remaining in the game. A basketball game has 4 periods, each 12 minutes long.\n",
        "- **Made previous shot**: Was Steph Curry's previous shot successful?\n",
        "\n",
        "**4. Decide how to validate** your model. Choose one of the following options. Any of these options are good. You are not graded on which you choose.\n",
        "- **Train/validate/test split: train on the 2009-10 season through 2016-17 season, validate with the 2017-18 season.** You'll know you've split the data correctly when your train set has 11,081 observations, and your validation set has 1,168 observations.\n",
        "- **Train/validate/test split: random 80/20%** train/validate split.\n",
        "- **Cross-validation** with independent test set. You may use any scikit-learn cross-validation method.\n",
        "\n",
        "**5.** Use a scikit-learn **pipeline** to **encode categoricals** and fit a **Decision Tree** or **Random Forest** model.\n",
        "\n",
        "**6.** Get your model's **validation accuracy.** (Multiple times if you try multiple iterations.) \n",
        "\n",
        "**7.** Get your model's **test accuracy.** (One time, at the end.)\n",
        "\n",
        "\n",
        "**8.** Given a **confusion matrix** for a hypothetical binary classification model, **calculate accuracy, precision, and recall.**\n",
        "\n",
        "### Stretch Goals\n",
        "- Engineer 4+ new features total, either from the list above, or your own ideas.\n",
        "- Make 2+ visualizations to explore relationships between features and target.\n",
        "- Optimize 3+ hyperparameters by trying 10+ \"candidates\" (possible combinations of hyperparameters). You can use `RandomizedSearchCV` or do it manually.\n",
        "- Get and plot your model's feature importances.\n",
        "\n"
      ]
    },
    {
      "cell_type": "markdown",
      "metadata": {
        "colab_type": "text",
        "id": "t6Jt3qjQ-zig"
      },
      "source": [
        "## 1. Begin with baselines for classification. \n",
        "\n",
        ">Your target to predict is `shot_made_flag`. What would your baseline accuracy be, if you guessed the majority class for every prediction?"
      ]
    },
    {
      "cell_type": "code",
      "metadata": {
        "colab_type": "code",
        "id": "I0BDeNFG_Kee",
        "colab": {}
      },
      "source": [
        "# 1. Begin with baselines for classification. Your target to predict is shot_made_flag.\n",
        "#What is your baseline accuracy, if you guessed the majority class for every prediction?\n",
        "\n"
      ],
      "execution_count": 0,
      "outputs": []
    },
    {
      "cell_type": "code",
      "metadata": {
        "id": "SYiDZNQKgzFx",
        "colab_type": "code",
        "outputId": "b8173a96-66ba-4830-e578-ae4fd8b2b95b",
        "colab": {
          "base_uri": "https://localhost:8080/",
          "height": 117
        }
      },
      "source": [
        "df.head(1)"
      ],
      "execution_count": 27,
      "outputs": [
        {
          "output_type": "execute_result",
          "data": {
            "text/html": [
              "<div>\n",
              "<style scoped>\n",
              "    .dataframe tbody tr th:only-of-type {\n",
              "        vertical-align: middle;\n",
              "    }\n",
              "\n",
              "    .dataframe tbody tr th {\n",
              "        vertical-align: top;\n",
              "    }\n",
              "\n",
              "    .dataframe thead th {\n",
              "        text-align: right;\n",
              "    }\n",
              "</style>\n",
              "<table border=\"1\" class=\"dataframe\">\n",
              "  <thead>\n",
              "    <tr style=\"text-align: right;\">\n",
              "      <th></th>\n",
              "      <th>game_id</th>\n",
              "      <th>game_event_id</th>\n",
              "      <th>player_name</th>\n",
              "      <th>period</th>\n",
              "      <th>minutes_remaining</th>\n",
              "      <th>seconds_remaining</th>\n",
              "      <th>action_type</th>\n",
              "      <th>shot_type</th>\n",
              "      <th>shot_zone_basic</th>\n",
              "      <th>shot_zone_area</th>\n",
              "      <th>shot_zone_range</th>\n",
              "      <th>shot_distance</th>\n",
              "      <th>loc_x</th>\n",
              "      <th>loc_y</th>\n",
              "      <th>shot_made_flag</th>\n",
              "      <th>game_date</th>\n",
              "      <th>htm</th>\n",
              "      <th>vtm</th>\n",
              "      <th>season_type</th>\n",
              "      <th>scoremargin_before_shot</th>\n",
              "    </tr>\n",
              "  </thead>\n",
              "  <tbody>\n",
              "    <tr>\n",
              "      <th>0</th>\n",
              "      <td>20900015</td>\n",
              "      <td>4</td>\n",
              "      <td>Stephen Curry</td>\n",
              "      <td>1</td>\n",
              "      <td>11</td>\n",
              "      <td>25</td>\n",
              "      <td>Jump Shot</td>\n",
              "      <td>3PT Field Goal</td>\n",
              "      <td>Above the Break 3</td>\n",
              "      <td>Right Side Center(RC)</td>\n",
              "      <td>24+ ft.</td>\n",
              "      <td>26</td>\n",
              "      <td>99</td>\n",
              "      <td>249</td>\n",
              "      <td>0</td>\n",
              "      <td>2009-10-28</td>\n",
              "      <td>GSW</td>\n",
              "      <td>HOU</td>\n",
              "      <td>Regular Season</td>\n",
              "      <td>2.0</td>\n",
              "    </tr>\n",
              "  </tbody>\n",
              "</table>\n",
              "</div>"
            ],
            "text/plain": [
              "    game_id  game_event_id  ...     season_type  scoremargin_before_shot\n",
              "0  20900015              4  ...  Regular Season                      2.0\n",
              "\n",
              "[1 rows x 20 columns]"
            ]
          },
          "metadata": {
            "tags": []
          },
          "execution_count": 27
        }
      ]
    },
    {
      "cell_type": "code",
      "metadata": {
        "id": "8PewwC85oW-W",
        "colab_type": "code",
        "outputId": "c6d9860f-e450-415c-bfd0-f02381a35fcb",
        "colab": {
          "base_uri": "https://localhost:8080/",
          "height": 317
        }
      },
      "source": [
        "df.describe()"
      ],
      "execution_count": 28,
      "outputs": [
        {
          "output_type": "execute_result",
          "data": {
            "text/html": [
              "<div>\n",
              "<style scoped>\n",
              "    .dataframe tbody tr th:only-of-type {\n",
              "        vertical-align: middle;\n",
              "    }\n",
              "\n",
              "    .dataframe tbody tr th {\n",
              "        vertical-align: top;\n",
              "    }\n",
              "\n",
              "    .dataframe thead th {\n",
              "        text-align: right;\n",
              "    }\n",
              "</style>\n",
              "<table border=\"1\" class=\"dataframe\">\n",
              "  <thead>\n",
              "    <tr style=\"text-align: right;\">\n",
              "      <th></th>\n",
              "      <th>game_id</th>\n",
              "      <th>game_event_id</th>\n",
              "      <th>period</th>\n",
              "      <th>minutes_remaining</th>\n",
              "      <th>seconds_remaining</th>\n",
              "      <th>shot_distance</th>\n",
              "      <th>loc_x</th>\n",
              "      <th>loc_y</th>\n",
              "      <th>shot_made_flag</th>\n",
              "      <th>scoremargin_before_shot</th>\n",
              "    </tr>\n",
              "  </thead>\n",
              "  <tbody>\n",
              "    <tr>\n",
              "      <th>count</th>\n",
              "      <td>1.395800e+04</td>\n",
              "      <td>13958.000000</td>\n",
              "      <td>13958.000000</td>\n",
              "      <td>13958.000000</td>\n",
              "      <td>13958.000000</td>\n",
              "      <td>13958.000000</td>\n",
              "      <td>13958.000000</td>\n",
              "      <td>13958.000000</td>\n",
              "      <td>13958.000000</td>\n",
              "      <td>13958.000000</td>\n",
              "    </tr>\n",
              "    <tr>\n",
              "      <th>mean</th>\n",
              "      <td>2.442837e+07</td>\n",
              "      <td>270.438458</td>\n",
              "      <td>2.412380</td>\n",
              "      <td>4.727540</td>\n",
              "      <td>28.506376</td>\n",
              "      <td>17.600373</td>\n",
              "      <td>-0.554162</td>\n",
              "      <td>131.257988</td>\n",
              "      <td>0.472919</td>\n",
              "      <td>1.615561</td>\n",
              "    </tr>\n",
              "    <tr>\n",
              "      <th>std</th>\n",
              "      <td>7.226620e+06</td>\n",
              "      <td>169.927170</td>\n",
              "      <td>1.125828</td>\n",
              "      <td>3.331646</td>\n",
              "      <td>17.597701</td>\n",
              "      <td>10.295807</td>\n",
              "      <td>124.721869</td>\n",
              "      <td>102.666562</td>\n",
              "      <td>0.499284</td>\n",
              "      <td>10.127139</td>\n",
              "    </tr>\n",
              "    <tr>\n",
              "      <th>min</th>\n",
              "      <td>2.090002e+07</td>\n",
              "      <td>2.000000</td>\n",
              "      <td>1.000000</td>\n",
              "      <td>0.000000</td>\n",
              "      <td>0.000000</td>\n",
              "      <td>0.000000</td>\n",
              "      <td>-250.000000</td>\n",
              "      <td>-41.000000</td>\n",
              "      <td>0.000000</td>\n",
              "      <td>-39.000000</td>\n",
              "    </tr>\n",
              "    <tr>\n",
              "      <th>25%</th>\n",
              "      <td>2.120091e+07</td>\n",
              "      <td>109.000000</td>\n",
              "      <td>1.000000</td>\n",
              "      <td>2.000000</td>\n",
              "      <td>13.000000</td>\n",
              "      <td>8.000000</td>\n",
              "      <td>-96.000000</td>\n",
              "      <td>23.000000</td>\n",
              "      <td>0.000000</td>\n",
              "      <td>-4.000000</td>\n",
              "    </tr>\n",
              "    <tr>\n",
              "      <th>50%</th>\n",
              "      <td>2.150026e+07</td>\n",
              "      <td>275.500000</td>\n",
              "      <td>2.000000</td>\n",
              "      <td>4.000000</td>\n",
              "      <td>29.000000</td>\n",
              "      <td>22.000000</td>\n",
              "      <td>1.000000</td>\n",
              "      <td>141.000000</td>\n",
              "      <td>0.000000</td>\n",
              "      <td>1.000000</td>\n",
              "    </tr>\n",
              "    <tr>\n",
              "      <th>75%</th>\n",
              "      <td>2.170096e+07</td>\n",
              "      <td>398.000000</td>\n",
              "      <td>3.000000</td>\n",
              "      <td>7.000000</td>\n",
              "      <td>44.000000</td>\n",
              "      <td>25.000000</td>\n",
              "      <td>95.000000</td>\n",
              "      <td>219.000000</td>\n",
              "      <td>1.000000</td>\n",
              "      <td>8.000000</td>\n",
              "    </tr>\n",
              "    <tr>\n",
              "      <th>max</th>\n",
              "      <td>4.180040e+07</td>\n",
              "      <td>752.000000</td>\n",
              "      <td>6.000000</td>\n",
              "      <td>11.000000</td>\n",
              "      <td>59.000000</td>\n",
              "      <td>83.000000</td>\n",
              "      <td>247.000000</td>\n",
              "      <td>811.000000</td>\n",
              "      <td>1.000000</td>\n",
              "      <td>43.000000</td>\n",
              "    </tr>\n",
              "  </tbody>\n",
              "</table>\n",
              "</div>"
            ],
            "text/plain": [
              "            game_id  game_event_id  ...  shot_made_flag  scoremargin_before_shot\n",
              "count  1.395800e+04   13958.000000  ...    13958.000000             13958.000000\n",
              "mean   2.442837e+07     270.438458  ...        0.472919                 1.615561\n",
              "std    7.226620e+06     169.927170  ...        0.499284                10.127139\n",
              "min    2.090002e+07       2.000000  ...        0.000000               -39.000000\n",
              "25%    2.120091e+07     109.000000  ...        0.000000                -4.000000\n",
              "50%    2.150026e+07     275.500000  ...        0.000000                 1.000000\n",
              "75%    2.170096e+07     398.000000  ...        1.000000                 8.000000\n",
              "max    4.180040e+07     752.000000  ...        1.000000                43.000000\n",
              "\n",
              "[8 rows x 10 columns]"
            ]
          },
          "metadata": {
            "tags": []
          },
          "execution_count": 28
        }
      ]
    },
    {
      "cell_type": "code",
      "metadata": {
        "id": "O1Gj_raCiIDL",
        "colab_type": "code",
        "colab": {}
      },
      "source": [
        "df['game_date'] = pd.to_datetime(df['game_date'], infer_datetime_format=True)"
      ],
      "execution_count": 0,
      "outputs": []
    },
    {
      "cell_type": "code",
      "metadata": {
        "id": "nG8LWC0OlCKW",
        "colab_type": "code",
        "colab": {}
      },
      "source": [
        "df.drop(columns=['game_id','game_event_id'])"
      ],
      "execution_count": 0,
      "outputs": []
    },
    {
      "cell_type": "code",
      "metadata": {
        "id": "jG91iFwRrYPp",
        "colab_type": "code",
        "colab": {}
      },
      "source": [
        "train, test = df, df"
      ],
      "execution_count": 0,
      "outputs": []
    },
    {
      "cell_type": "code",
      "metadata": {
        "id": "l-HiEYoHl5DF",
        "colab_type": "code",
        "outputId": "48074d42-2796-4367-ded3-471582ac2f1b",
        "colab": {
          "base_uri": "https://localhost:8080/",
          "height": 34
        }
      },
      "source": [
        "train, test = train_test_split(df, train_size=0.80, test_size=0.20, \n",
        "                              stratify=train['shot_made_flag'])\n",
        "\n",
        "train.shape, test.shape"
      ],
      "execution_count": 32,
      "outputs": [
        {
          "output_type": "execute_result",
          "data": {
            "text/plain": [
              "((11166, 20), (2792, 20))"
            ]
          },
          "metadata": {
            "tags": []
          },
          "execution_count": 32
        }
      ]
    },
    {
      "cell_type": "code",
      "metadata": {
        "id": "-02R4HCziIKY",
        "colab_type": "code",
        "colab": {}
      },
      "source": [
        "# Target is shot_made_flag\n",
        "target = 'shot_made_flag'\n",
        "#Dataframe dropping target\n",
        "\n",
        "train_features = train.drop(columns=[target])\n",
        "\n",
        "#obtain numeric features\n",
        "\n",
        "numeric_features = train_features.select_dtypes(include='number').columns.tolist()\n",
        "\n",
        "#Get Cardinality \n",
        "cardinality = train_features.select_dtypes(exclude='number').nunique()\n",
        "\n",
        "categorical_features = cardinality[cardinality <= 15].index.tolist()\n",
        "# print(categorical_features)\n",
        "\n",
        "#combine feature lists\n",
        "features = numeric_features + categorical_features\n",
        "\n",
        "\n",
        "\n"
      ],
      "execution_count": 0,
      "outputs": []
    },
    {
      "cell_type": "code",
      "metadata": {
        "id": "Bf6hHPhS6GVf",
        "colab_type": "code",
        "colab": {
          "base_uri": "https://localhost:8080/",
          "height": 617
        },
        "outputId": "84d40ddb-2a63-4c42-fd17-4b18e6f99c18"
      },
      "source": [
        "import plotly.express as px\n",
        "px.scatter(train, x='loc_x', y='loc_y', color='shot_made_flag')"
      ],
      "execution_count": 34,
      "outputs": [
        {
          "output_type": "display_data",
          "data": {
            "text/html": [
              "<html>\n",
              "<head><meta charset=\"utf-8\" /></head>\n",
              "<body>\n",
              "    <div>\n",
              "            <script src=\"https://cdnjs.cloudflare.com/ajax/libs/mathjax/2.7.5/MathJax.js?config=TeX-AMS-MML_SVG\"></script><script type=\"text/javascript\">if (window.MathJax) {MathJax.Hub.Config({SVG: {font: \"STIX-Web\"}});}</script>\n",
              "                <script type=\"text/javascript\">window.PlotlyConfig = {MathJaxConfig: 'local'};</script>\n",
              "        <script src=\"https://cdn.plot.ly/plotly-latest.min.js\"></script>    \n",
              "            <div id=\"024c7f12-ee06-450f-bf58-9fbdadc83eda\" class=\"plotly-graph-div\" style=\"height:600px; width:100%;\"></div>\n",
              "            <script type=\"text/javascript\">\n",
              "                \n",
              "                    window.PLOTLYENV=window.PLOTLYENV || {};\n",
              "                    \n",
              "                if (document.getElementById(\"024c7f12-ee06-450f-bf58-9fbdadc83eda\")) {\n",
              "                    Plotly.newPlot(\n",
              "                        '024c7f12-ee06-450f-bf58-9fbdadc83eda',\n",
              "                        [{\"hoverlabel\": {\"namelength\": 0}, \"hovertemplate\": \"loc_x=%{x}<br>loc_y=%{y}<br>shot_made_flag=%{marker.color}\", \"legendgroup\": \"\", \"marker\": {\"color\": [0, 1, 1, 1, 1, 0, 1, 1, 1, 0, 0, 0, 0, 1, 1, 1, 1, 0, 0, 0, 0, 0, 1, 1, 0, 1, 1, 1, 0, 1, 1, 1, 1, 1, 1, 1, 0, 0, 0, 1, 1, 1, 1, 1, 1, 0, 1, 1, 1, 0, 0, 1, 0, 0, 1, 1, 1, 0, 0, 0, 1, 0, 1, 0, 0, 0, 0, 0, 0, 1, 0, 0, 0, 1, 0, 0, 1, 0, 0, 1, 0, 0, 1, 0, 0, 1, 1, 0, 0, 1, 0, 1, 1, 0, 1, 0, 0, 0, 1, 0, 0, 1, 0, 1, 1, 0, 1, 0, 0, 0, 1, 1, 0, 1, 1, 1, 0, 0, 0, 0, 0, 1, 1, 0, 0, 0, 1, 1, 1, 0, 0, 1, 1, 1, 1, 0, 1, 0, 0, 1, 1, 0, 1, 0, 0, 1, 0, 0, 0, 0, 1, 1, 1, 1, 1, 1, 0, 0, 1, 0, 0, 1, 0, 0, 1, 0, 1, 0, 1, 0, 0, 0, 1, 0, 0, 0, 1, 1, 1, 1, 1, 1, 1, 1, 1, 0, 1, 1, 1, 1, 0, 0, 0, 1, 0, 0, 0, 1, 1, 0, 0, 0, 0, 1, 0, 1, 0, 0, 1, 1, 1, 0, 1, 0, 0, 0, 1, 1, 1, 1, 1, 1, 0, 1, 0, 0, 1, 1, 0, 1, 0, 0, 0, 0, 0, 1, 1, 0, 1, 0, 0, 1, 1, 1, 0, 0, 0, 1, 0, 0, 0, 0, 1, 1, 0, 0, 0, 0, 1, 1, 0, 1, 1, 1, 0, 1, 0, 1, 1, 1, 0, 0, 1, 1, 0, 1, 0, 1, 1, 1, 1, 1, 0, 0, 0, 0, 0, 1, 1, 0, 1, 0, 1, 0, 1, 1, 0, 0, 0, 0, 1, 0, 0, 0, 1, 0, 0, 1, 1, 0, 1, 1, 1, 0, 1, 1, 0, 0, 1, 1, 1, 0, 0, 1, 0, 0, 0, 1, 0, 0, 1, 1, 1, 0, 1, 0, 0, 0, 0, 1, 0, 1, 1, 0, 0, 0, 0, 0, 1, 1, 0, 1, 1, 0, 0, 1, 0, 0, 1, 1, 0, 1, 0, 1, 0, 1, 0, 0, 0, 0, 1, 0, 0, 1, 0, 1, 0, 0, 0, 1, 1, 0, 1, 1, 0, 0, 0, 0, 1, 1, 1, 0, 0, 1, 1, 0, 1, 1, 0, 0, 0, 1, 1, 1, 0, 0, 0, 0, 1, 0, 1, 0, 0, 0, 1, 0, 1, 0, 0, 0, 0, 0, 0, 0, 0, 0, 0, 0, 0, 1, 0, 1, 1, 0, 1, 1, 1, 0, 1, 0, 1, 0, 0, 0, 0, 1, 1, 0, 1, 1, 0, 1, 1, 1, 0, 1, 0, 1, 1, 1, 1, 1, 0, 0, 1, 0, 1, 0, 0, 1, 1, 0, 0, 1, 1, 1, 1, 0, 1, 1, 1, 0, 0, 0, 1, 1, 0, 0, 0, 1, 1, 0, 0, 1, 0, 0, 1, 0, 1, 1, 0, 0, 0, 1, 0, 1, 0, 1, 1, 1, 0, 0, 0, 0, 1, 0, 1, 0, 0, 0, 1, 0, 0, 1, 1, 1, 0, 1, 0, 1, 0, 0, 0, 0, 1, 0, 1, 0, 1, 0, 0, 0, 0, 0, 1, 0, 0, 1, 1, 1, 1, 1, 0, 1, 1, 0, 1, 1, 1, 0, 1, 1, 1, 0, 0, 1, 1, 1, 1, 0, 1, 1, 0, 1, 1, 0, 1, 1, 0, 1, 1, 1, 0, 0, 0, 0, 0, 1, 1, 1, 1, 1, 1, 0, 1, 1, 1, 1, 1, 1, 0, 0, 1, 1, 1, 0, 1, 0, 1, 0, 0, 0, 0, 0, 0, 0, 1, 0, 1, 0, 1, 1, 0, 1, 1, 0, 0, 0, 1, 0, 1, 1, 1, 1, 0, 1, 0, 0, 1, 0, 0, 0, 1, 0, 0, 0, 1, 0, 0, 1, 1, 1, 0, 0, 0, 1, 1, 0, 1, 1, 1, 1, 0, 1, 0, 0, 1, 0, 1, 1, 0, 1, 0, 1, 1, 0, 1, 1, 1, 1, 0, 0, 0, 1, 1, 1, 0, 0, 1, 0, 0, 0, 0, 1, 0, 0, 0, 1, 0, 1, 0, 1, 0, 0, 0, 0, 1, 0, 0, 1, 0, 1, 1, 1, 1, 1, 0, 1, 0, 0, 1, 1, 1, 1, 0, 1, 0, 0, 1, 1, 0, 1, 1, 0, 0, 0, 1, 1, 1, 1, 1, 0, 1, 1, 1, 0, 0, 1, 1, 0, 1, 0, 1, 0, 0, 0, 0, 0, 1, 1, 0, 0, 0, 1, 0, 1, 0, 0, 1, 0, 1, 0, 1, 0, 1, 1, 0, 1, 0, 0, 0, 0, 1, 1, 1, 0, 1, 0, 0, 0, 1, 1, 0, 1, 0, 1, 1, 0, 0, 0, 1, 1, 0, 1, 1, 0, 1, 0, 1, 0, 1, 0, 0, 1, 1, 1, 0, 0, 0, 1, 1, 0, 1, 0, 1, 1, 0, 1, 0, 0, 1, 0, 0, 1, 0, 1, 0, 0, 1, 0, 1, 1, 0, 1, 1, 0, 0, 0, 0, 0, 1, 0, 1, 0, 0, 1, 0, 0, 0, 1, 0, 0, 0, 1, 0, 1, 1, 1, 0, 1, 0, 0, 0, 1, 0, 0, 0, 1, 1, 1, 0, 1, 0, 1, 1, 1, 0, 1, 1, 0, 1, 1, 0, 0, 1, 0, 1, 1, 1, 0, 1, 1, 1, 0, 1, 1, 0, 0, 1, 1, 0, 1, 1, 1, 1, 1, 0, 1, 0, 0, 0, 0, 0, 0, 0, 0, 0, 0, 1, 0, 0, 0, 1, 0, 1, 1, 1, 0, 0, 1, 0, 1, 0, 0, 0, 0, 0, 0, 0, 0, 0, 1, 0, 0, 0, 1, 0, 1, 1, 1, 0, 1, 1, 1, 1, 1, 1, 1, 1, 1, 1, 0, 0, 0, 0, 1, 0, 0, 1, 1, 0, 1, 1, 0, 0, 1, 0, 1, 0, 1, 0, 0, 1, 0, 1, 0, 0, 1, 1, 0, 1, 0, 1, 1, 0, 0, 1, 0, 1, 0, 0, 0, 0, 0, 0, 1, 0, 0, 1, 0, 0, 1, 1, 0, 0, 0, 1, 1, 0, 0, 0, 1, 0, 0, 0, 1, 1, 0, 1, 1, 0, 0, 0, 1, 0, 0, 1, 0, 0, 1, 1, 0, 1, 1, 0, 0, 0, 1, 0, 0, 1, 1, 1, 1, 0, 0, 0, 0, 0, 0, 0, 0, 1, 1, 1, 1, 1, 1, 0, 1, 0, 1, 0, 0, 1, 1, 0, 0, 0, 0, 0, 0, 1, 1, 1, 1, 0, 0, 1, 1, 1, 1, 0, 0, 1, 1, 0, 1, 1, 0, 1, 1, 1, 1, 1, 0, 1, 1, 1, 1, 0, 1, 1, 0, 0, 0, 1, 0, 0, 1, 1, 1, 1, 0, 0, 0, 0, 0, 0, 0, 0, 0, 1, 1, 0, 0, 0, 1, 0, 1, 0, 0, 0, 1, 1, 1, 1, 0, 0, 1, 0, 1, 0, 1, 0, 1, 0, 1, 0, 1, 0, 0, 0, 0, 1, 1, 1, 1, 1, 1, 0, 1, 0, 1, 1, 0, 1, 1, 0, 0, 0, 1, 1, 0, 0, 1, 0, 1, 0, 0, 1, 0, 0, 0, 0, 1, 0, 0, 1, 1, 1, 0, 0, 0, 0, 0, 1, 0, 0, 1, 0, 0, 0, 1, 0, 1, 0, 1, 0, 0, 1, 0, 1, 0, 1, 0, 0, 0, 1, 1, 1, 1, 0, 1, 0, 0, 0, 0, 0, 1, 1, 1, 0, 0, 1, 0, 1, 1, 0, 0, 1, 0, 0, 1, 0, 1, 0, 1, 1, 0, 1, 0, 0, 1, 1, 1, 0, 1, 0, 0, 1, 1, 0, 0, 0, 1, 1, 0, 1, 0, 0, 1, 0, 0, 0, 1, 0, 0, 0, 1, 1, 1, 0, 0, 1, 0, 1, 1, 0, 1, 0, 1, 1, 0, 0, 1, 1, 0, 0, 1, 0, 0, 0, 1, 1, 0, 1, 0, 1, 1, 1, 1, 0, 1, 1, 1, 0, 0, 0, 0, 0, 1, 1, 1, 1, 0, 1, 0, 0, 0, 1, 1, 0, 1, 1, 1, 0, 0, 1, 0, 1, 1, 1, 0, 1, 0, 0, 0, 1, 0, 1, 1, 0, 0, 0, 1, 0, 0, 0, 0, 1, 1, 1, 1, 0, 0, 1, 0, 0, 1, 1, 1, 0, 1, 1, 0, 1, 0, 0, 0, 0, 1, 1, 1, 0, 0, 1, 1, 0, 1, 1, 1, 0, 1, 0, 0, 1, 0, 0, 1, 0, 0, 0, 0, 1, 1, 0, 0, 0, 1, 0, 1, 1, 1, 1, 1, 0, 0, 0, 1, 0, 0, 1, 0, 1, 0, 1, 1, 1, 1, 0, 0, 0, 1, 1, 1, 0, 0, 0, 0, 0, 0, 0, 1, 1, 1, 0, 0, 1, 0, 0, 1, 0, 0, 0, 1, 1, 1, 0, 0, 1, 0, 0, 0, 0, 1, 1, 0, 1, 0, 0, 0, 0, 0, 0, 1, 1, 1, 0, 1, 0, 1, 1, 0, 1, 0, 1, 1, 0, 0, 1, 1, 0, 1, 1, 0, 0, 0, 0, 0, 0, 1, 1, 1, 0, 0, 0, 1, 0, 1, 1, 0, 1, 1, 0, 1, 0, 0, 1, 0, 0, 1, 0, 0, 1, 0, 1, 0, 0, 0, 1, 0, 1, 1, 1, 0, 0, 1, 0, 0, 0, 0, 0, 0, 0, 0, 1, 0, 1, 0, 1, 1, 0, 1, 0, 1, 1, 1, 1, 1, 0, 0, 1, 0, 0, 0, 1, 1, 1, 0, 0, 1, 0, 0, 1, 1, 0, 0, 0, 1, 1, 1, 0, 1, 1, 0, 1, 1, 0, 1, 0, 1, 0, 0, 1, 0, 1, 1, 1, 1, 1, 1, 1, 0, 1, 0, 0, 0, 0, 1, 0, 0, 1, 1, 1, 0, 0, 1, 0, 1, 1, 1, 1, 1, 0, 1, 0, 0, 0, 0, 0, 0, 0, 0, 1, 0, 1, 0, 0, 1, 0, 1, 0, 0, 1, 1, 0, 1, 0, 1, 1, 1, 0, 1, 0, 0, 1, 0, 0, 0, 1, 0, 0, 0, 0, 1, 0, 0, 1, 0, 0, 0, 0, 0, 1, 0, 0, 1, 1, 1, 0, 0, 1, 1, 1, 0, 1, 1, 1, 0, 1, 0, 0, 1, 1, 1, 1, 1, 0, 0, 1, 0, 1, 1, 1, 0, 0, 1, 0, 0, 1, 1, 1, 1, 1, 1, 1, 0, 1, 0, 1, 0, 1, 0, 0, 0, 0, 1, 0, 0, 1, 0, 0, 1, 1, 1, 0, 0, 0, 1, 1, 1, 0, 1, 0, 0, 0, 0, 0, 1, 1, 1, 1, 0, 0, 1, 1, 0, 0, 0, 0, 0, 0, 1, 1, 1, 0, 1, 1, 1, 0, 0, 1, 0, 0, 1, 1, 1, 1, 1, 0, 0, 1, 0, 1, 0, 0, 0, 0, 1, 0, 1, 1, 1, 1, 1, 0, 0, 0, 0, 0, 0, 1, 1, 1, 1, 0, 1, 0, 0, 0, 1, 0, 0, 1, 1, 0, 0, 1, 1, 0, 0, 0, 1, 0, 0, 0, 0, 0, 0, 0, 0, 0, 0, 1, 1, 1, 0, 1, 1, 1, 1, 1, 1, 0, 0, 1, 0, 1, 0, 1, 1, 0, 1, 0, 0, 1, 0, 1, 0, 1, 0, 0, 1, 1, 1, 1, 1, 0, 0, 0, 1, 1, 0, 0, 1, 1, 0, 1, 1, 0, 0, 0, 0, 1, 0, 1, 0, 0, 0, 1, 1, 0, 0, 1, 1, 0, 0, 0, 1, 1, 0, 1, 0, 0, 0, 0, 1, 0, 0, 1, 0, 1, 0, 1, 1, 1, 0, 1, 0, 1, 0, 0, 0, 0, 1, 1, 1, 1, 0, 0, 0, 0, 1, 1, 0, 1, 1, 0, 1, 1, 0, 1, 1, 1, 1, 0, 0, 0, 0, 0, 0, 0, 0, 0, 0, 0, 0, 1, 0, 0, 0, 1, 0, 1, 1, 1, 1, 0, 0, 1, 1, 0, 0, 1, 0, 1, 0, 1, 1, 0, 0, 0, 0, 1, 1, 1, 0, 0, 1, 0, 0, 1, 0, 1, 0, 0, 0, 1, 1, 0, 0, 1, 0, 0, 0, 1, 1, 0, 0, 1, 1, 0, 1, 0, 0, 0, 1, 0, 1, 0, 0, 0, 0, 1, 1, 0, 1, 0, 1, 0, 0, 1, 0, 0, 0, 1, 1, 1, 0, 0, 0, 1, 0, 1, 1, 1, 1, 0, 0, 1, 1, 1, 1, 1, 1, 1, 1, 0, 1, 1, 0, 0, 0, 0, 0, 1, 1, 0, 0, 0, 0, 1, 0, 0, 0, 0, 1, 0, 1, 1, 1, 1, 1, 0, 1, 0, 0, 1, 0, 1, 1, 1, 0, 1, 0, 0, 1, 1, 1, 1, 1, 1, 0, 1, 0, 0, 0, 1, 0, 1, 0, 0, 1, 0, 0, 0, 0, 1, 0, 1, 1, 0, 1, 0, 1, 0, 1, 0, 0, 1, 1, 0, 0, 0, 0, 0, 0, 1, 1, 0, 0, 0, 0, 0, 0, 1, 0, 1, 1, 0, 1, 0, 0, 1, 1, 1, 0, 1, 1, 0, 1, 0, 1, 1, 0, 0, 0, 1, 1, 0, 0, 1, 1, 1, 1, 1, 0, 0, 0, 1, 1, 0, 1, 1, 0, 1, 0, 0, 0, 1, 0, 0, 1, 1, 0, 0, 1, 1, 1, 1, 0, 1, 0, 0, 0, 0, 1, 0, 0, 0, 0, 0, 0, 1, 0, 1, 0, 0, 1, 0, 0, 0, 1, 0, 1, 0, 1, 1, 1, 1, 1, 1, 0, 0, 0, 1, 0, 0, 0, 1, 0, 1, 0, 0, 0, 1, 1, 0, 1, 1, 0, 1, 0, 1, 0, 0, 0, 0, 0, 0, 1, 1, 0, 0, 1, 0, 1, 1, 0, 0, 1, 1, 0, 0, 1, 0, 0, 0, 1, 1, 0, 1, 0, 0, 0, 0, 0, 1, 0, 0, 1, 0, 0, 0, 1, 0, 1, 1, 0, 0, 1, 0, 0, 0, 0, 1, 0, 1, 1, 0, 1, 1, 0, 0, 0, 1, 0, 0, 1, 1, 1, 0, 0, 0, 0, 0, 1, 1, 0, 1, 1, 0, 0, 0, 1, 0, 0, 1, 1, 0, 1, 0, 0, 0, 0, 0, 1, 0, 0, 1, 0, 0, 1, 0, 1, 0, 1, 1, 0, 0, 1, 1, 0, 1, 1, 1, 0, 1, 0, 0, 0, 0, 0, 1, 1, 0, 0, 0, 1, 0, 0, 1, 0, 1, 1, 1, 0, 0, 1, 1, 0, 0, 1, 1, 1, 0, 0, 1, 0, 1, 1, 0, 1, 1, 0, 0, 0, 0, 1, 0, 1, 0, 1, 0, 1, 0, 0, 0, 0, 0, 0, 1, 0, 1, 1, 0, 0, 0, 1, 1, 0, 0, 0, 1, 1, 1, 1, 0, 1, 0, 1, 1, 1, 1, 1, 1, 0, 0, 0, 0, 1, 0, 0, 0, 1, 0, 1, 0, 0, 0, 0, 0, 0, 0, 0, 0, 0, 0, 1, 0, 0, 1, 0, 0, 0, 1, 1, 0, 0, 1, 0, 1, 0, 1, 0, 0, 1, 0, 1, 1, 1, 1, 0, 0, 1, 1, 1, 1, 1, 1, 0, 0, 1, 1, 0, 0, 1, 1, 1, 0, 1, 0, 1, 1, 0, 1, 1, 1, 0, 0, 1, 1, 0, 1, 0, 0, 0, 0, 1, 0, 1, 1, 1, 1, 1, 1, 0, 0, 1, 0, 1, 0, 1, 1, 0, 1, 1, 0, 1, 0, 1, 0, 0, 0, 0, 0, 0, 1, 0, 0, 0, 0, 0, 0, 0, 1, 0, 0, 0, 1, 1, 0, 0, 1, 0, 1, 0, 1, 0, 1, 0, 0, 1, 1, 1, 1, 1, 1, 1, 1, 0, 1, 0, 1, 0, 0, 0, 0, 1, 0, 1, 0, 1, 1, 0, 0, 1, 0, 0, 1, 1, 1, 1, 1, 0, 0, 0, 0, 0, 0, 0, 1, 0, 0, 0, 0, 0, 1, 0, 1, 1, 0, 1, 1, 0, 1, 1, 1, 1, 0, 0, 0, 1, 1, 0, 1, 1, 1, 1, 1, 0, 1, 1, 1, 1, 1, 0, 1, 1, 1, 0, 1, 0, 0, 1, 1, 0, 0, 1, 1, 1, 1, 1, 0, 0, 1, 1, 0, 0, 0, 0, 0, 1, 0, 1, 1, 1, 0, 0, 0, 1, 1, 1, 1, 0, 0, 0, 1, 0, 0, 1, 1, 1, 1, 0, 0, 1, 0, 1, 0, 1, 1, 0, 0, 0, 0, 1, 1, 0, 0, 0, 0, 0, 0, 0, 1, 1, 1, 0, 0, 0, 1, 1, 0, 1, 1, 1, 0, 1, 1, 1, 0, 0, 0, 1, 0, 1, 0, 0, 1, 0, 1, 1, 1, 0, 1, 0, 0, 1, 1, 0, 0, 0, 1, 1, 0, 0, 0, 1, 1, 0, 1, 0, 1, 1, 1, 1, 0, 1, 0, 0, 0, 0, 1, 0, 0, 1, 0, 1, 1, 1, 0, 1, 0, 0, 1, 1, 0, 0, 0, 0, 0, 0, 1, 1, 1, 1, 1, 1, 0, 0, 1, 1, 0, 0, 1, 0, 1, 1, 0, 1, 1, 0, 1, 1, 0, 0, 0, 0, 0, 1, 0, 0, 0, 0, 0, 1, 1, 0, 0, 0, 0, 1, 1, 0, 0, 1, 0, 0, 0, 0, 1, 0, 1, 1, 0, 1, 1, 0, 0, 0, 0, 1, 1, 0, 0, 0, 0, 0, 0, 1, 1, 1, 1, 0, 0, 0, 0, 1, 1, 1, 0, 0, 1, 0, 0, 0, 0, 0, 0, 1, 0, 0, 0, 0, 0, 0, 0, 0, 1, 0, 1, 0, 0, 1, 0, 1, 1, 0, 1, 0, 0, 0, 1, 0, 0, 0, 0, 0, 0, 1, 0, 0, 1, 1, 0, 0, 0, 0, 0, 1, 1, 1, 0, 0, 0, 1, 1, 0, 0, 0, 1, 0, 1, 0, 1, 1, 1, 1, 0, 0, 1, 1, 0, 0, 0, 0, 0, 0, 0, 0, 0, 1, 0, 0, 1, 0, 0, 1, 1, 0, 1, 0, 0, 0, 0, 1, 0, 0, 1, 0, 0, 0, 1, 1, 1, 1, 1, 1, 1, 1, 0, 0, 1, 0, 0, 0, 1, 1, 1, 1, 1, 0, 1, 0, 1, 1, 1, 0, 0, 1, 0, 1, 0, 0, 0, 1, 1, 0, 1, 0, 1, 1, 0, 0, 0, 0, 0, 1, 1, 0, 1, 0, 0, 0, 1, 0, 1, 1, 1, 0, 1, 0, 1, 0, 1, 1, 0, 0, 0, 1, 0, 1, 1, 1, 1, 0, 0, 0, 0, 0, 1, 1, 0, 1, 0, 0, 0, 0, 1, 0, 0, 1, 1, 0, 1, 1, 0, 0, 1, 1, 1, 0, 0, 1, 0, 0, 1, 0, 0, 0, 0, 1, 0, 0, 1, 1, 0, 1, 0, 0, 1, 0, 1, 0, 0, 1, 1, 1, 1, 0, 1, 0, 0, 0, 1, 1, 1, 1, 0, 0, 1, 0, 1, 1, 1, 0, 1, 1, 1, 0, 0, 0, 1, 1, 1, 0, 0, 1, 0, 1, 0, 0, 0, 0, 0, 1, 1, 1, 1, 1, 1, 1, 0, 1, 1, 0, 1, 0, 1, 1, 0, 0, 0, 0, 0, 0, 0, 1, 0, 0, 0, 0, 1, 1, 1, 1, 0, 1, 1, 1, 1, 0, 0, 1, 1, 0, 1, 0, 1, 0, 1, 0, 1, 0, 0, 1, 1, 0, 0, 0, 1, 1, 1, 1, 1, 1, 1, 1, 1, 0, 1, 0, 0, 0, 0, 0, 0, 1, 0, 1, 1, 0, 1, 1, 0, 1, 1, 0, 1, 0, 1, 1, 0, 0, 1, 0, 0, 0, 0, 0, 1, 1, 1, 1, 0, 1, 1, 1, 1, 1, 0, 1, 0, 0, 1, 0, 1, 1, 0, 1, 1, 1, 1, 0, 0, 0, 1, 1, 0, 1, 1, 1, 1, 1, 1, 1, 0, 0, 1, 0, 0, 0, 1, 0, 1, 1, 1, 0, 1, 1, 0, 1, 0, 1, 1, 1, 0, 1, 0, 1, 1, 0, 0, 1, 1, 1, 0, 1, 0, 1, 1, 0, 1, 0, 1, 1, 0, 1, 1, 1, 0, 1, 0, 0, 0, 0, 0, 0, 0, 0, 0, 1, 0, 0, 0, 1, 0, 1, 0, 0, 1, 1, 0, 0, 1, 0, 1, 1, 0, 0, 0, 1, 1, 0, 0, 0, 1, 0, 0, 0, 0, 0, 0, 0, 1, 0, 0, 1, 0, 1, 0, 1, 1, 0, 0, 0, 1, 0, 0, 0, 0, 1, 0, 1, 1, 1, 0, 1, 1, 0, 1, 1, 1, 1, 0, 1, 0, 0, 0, 1, 1, 0, 0, 0, 1, 0, 1, 1, 1, 1, 1, 1, 1, 0, 1, 0, 0, 1, 1, 0, 0, 1, 0, 0, 0, 0, 1, 0, 0, 1, 1, 0, 1, 0, 0, 0, 1, 1, 1, 1, 0, 0, 0, 1, 1, 0, 1, 1, 1, 1, 0, 1, 1, 1, 0, 1, 1, 0, 1, 0, 0, 0, 0, 1, 0, 0, 0, 1, 1, 1, 1, 1, 0, 0, 1, 0, 0, 1, 0, 1, 0, 1, 1, 1, 1, 0, 1, 0, 1, 1, 1, 0, 1, 1, 0, 0, 1, 0, 0, 1, 1, 0, 1, 1, 0, 0, 0, 1, 0, 1, 1, 0, 0, 1, 1, 0, 1, 1, 0, 1, 1, 1, 0, 0, 1, 1, 1, 0, 0, 0, 1, 1, 1, 0, 1, 0, 0, 1, 1, 0, 0, 1, 0, 0, 1, 0, 0, 1, 1, 1, 0, 1, 0, 0, 1, 1, 0, 0, 1, 0, 1, 0, 1, 1, 0, 1, 1, 1, 0, 0, 0, 1, 1, 1, 0, 0, 0, 0, 1, 0, 0, 1, 0, 0, 1, 1, 1, 0, 0, 1, 0, 0, 0, 0, 1, 0, 1, 1, 0, 1, 0, 0, 1, 0, 1, 0, 0, 1, 0, 1, 0, 1, 1, 0, 0, 1, 1, 0, 1, 0, 1, 0, 1, 1, 0, 0, 0, 0, 1, 1, 1, 1, 0, 1, 0, 0, 1, 1, 1, 0, 1, 0, 1, 1, 1, 1, 0, 0, 1, 1, 1, 1, 1, 0, 0, 1, 1, 1, 0, 1, 0, 0, 0, 0, 0, 1, 0, 1, 0, 1, 0, 0, 0, 1, 1, 0, 1, 1, 1, 0, 0, 1, 0, 0, 0, 1, 0, 1, 0, 1, 1, 1, 1, 1, 0, 0, 0, 0, 1, 0, 0, 0, 1, 1, 0, 0, 0, 0, 1, 0, 0, 0, 1, 1, 1, 0, 0, 0, 1, 1, 1, 0, 0, 1, 1, 0, 1, 1, 0, 1, 1, 0, 0, 1, 1, 0, 0, 1, 0, 0, 1, 0, 1, 0, 1, 1, 1, 0, 0, 1, 1, 1, 1, 1, 1, 1, 0, 0, 1, 1, 1, 1, 1, 1, 1, 1, 0, 1, 1, 0, 1, 0, 1, 0, 0, 0, 0, 0, 0, 1, 1, 0, 0, 0, 1, 1, 0, 0, 1, 1, 1, 0, 0, 0, 1, 0, 0, 1, 0, 1, 0, 0, 0, 1, 0, 0, 1, 0, 0, 1, 1, 1, 1, 1, 1, 1, 0, 0, 1, 1, 1, 0, 0, 0, 0, 1, 1, 0, 0, 0, 1, 0, 0, 0, 0, 1, 0, 0, 1, 1, 0, 1, 1, 1, 0, 0, 1, 0, 1, 1, 1, 0, 1, 1, 1, 0, 1, 0, 0, 0, 0, 0, 1, 0, 0, 0, 0, 0, 0, 1, 1, 0, 1, 0, 0, 0, 1, 0, 0, 0, 1, 0, 0, 0, 0, 0, 1, 0, 0, 1, 1, 1, 0, 1, 0, 0, 1, 0, 0, 0, 1, 0, 1, 0, 1, 0, 0, 0, 1, 0, 1, 0, 1, 1, 1, 0, 0, 0, 1, 0, 1, 0, 1, 1, 0, 0, 1, 0, 0, 0, 0, 0, 0, 0, 1, 0, 1, 0, 0, 1, 0, 1, 0, 0, 0, 0, 1, 0, 1, 1, 0, 1, 1, 1, 0, 1, 0, 1, 0, 1, 1, 1, 0, 0, 0, 0, 1, 1, 0, 1, 1, 1, 1, 1, 0, 1, 0, 1, 1, 1, 1, 0, 1, 0, 1, 0, 0, 1, 1, 1, 0, 1, 0, 0, 1, 0, 0, 0, 1, 0, 0, 0, 1, 1, 1, 0, 1, 1, 0, 1, 0, 0, 1, 0, 0, 0, 0, 1, 1, 0, 1, 0, 0, 1, 0, 0, 0, 1, 1, 1, 0, 1, 0, 1, 0, 1, 0, 0, 0, 1, 0, 0, 0, 0, 1, 0, 1, 1, 1, 1, 0, 0, 0, 0, 1, 0, 1, 0, 1, 0, 0, 0, 1, 0, 1, 1, 1, 0, 1, 1, 0, 0, 0, 1, 1, 0, 1, 0, 0, 1, 0, 1, 0, 1, 1, 0, 0, 0, 0, 1, 1, 1, 0, 0, 0, 0, 0, 0, 0, 0, 1, 1, 0, 1, 0, 1, 0, 1, 1, 0, 1, 1, 0, 1, 0, 0, 0, 0, 1, 1, 1, 1, 0, 1, 0, 1, 0, 0, 1, 0, 1, 0, 0, 0, 1, 0, 0, 0, 0, 1, 0, 1, 1, 0, 1, 0, 0, 1, 1, 0, 1, 1, 0, 0, 1, 0, 0, 0, 1, 1, 1, 1, 0, 0, 1, 1, 1, 1, 1, 0, 0, 0, 1, 1, 0, 1, 0, 1, 1, 1, 0, 1, 0, 0, 0, 1, 1, 0, 1, 0, 0, 1, 1, 0, 1, 0, 0, 0, 0, 0, 0, 0, 1, 0, 1, 1, 1, 0, 1, 1, 0, 1, 1, 0, 0, 0, 1, 0, 1, 1, 0, 0, 1, 0, 1, 1, 1, 1, 1, 0, 1, 1, 0, 1, 1, 0, 0, 0, 1, 0, 1, 1, 1, 1, 0, 1, 1, 1, 0, 1, 0, 0, 1, 0, 0, 0, 1, 0, 1, 0, 1, 1, 1, 0, 0, 0, 1, 1, 1, 0, 0, 0, 1, 1, 1, 0, 1, 0, 0, 0, 0, 1, 0, 0, 0, 0, 1, 1, 1, 1, 1, 1, 1, 1, 0, 0, 0, 0, 0, 0, 0, 0, 1, 0, 1, 0, 0, 1, 0, 1, 1, 1, 0, 1, 0, 0, 1, 1, 1, 0, 0, 1, 1, 0, 1, 0, 0, 0, 1, 0, 1, 0, 1, 1, 0, 0, 0, 0, 1, 1, 1, 0, 0, 1, 1, 0, 1, 0, 1, 1, 1, 0, 0, 0, 0, 1, 0, 1, 0, 1, 1, 0, 0, 1, 0, 1, 1, 1, 1, 0, 0, 0, 0, 1, 1, 1, 1, 1, 1, 0, 0, 1, 1, 0, 0, 0, 0, 1, 1, 0, 0, 1, 1, 0, 1, 1, 0, 0, 1, 0, 1, 1, 0, 1, 0, 0, 1, 1, 0, 1, 0, 0, 1, 1, 1, 0, 1, 0, 1, 1, 0, 0, 0, 0, 1, 1, 1, 1, 0, 0, 0, 1, 1, 1, 1, 1, 0, 1, 1, 0, 0, 0, 1, 1, 0, 1, 0, 1, 1, 0, 0, 1, 1, 1, 1, 0, 1, 1, 0, 0, 0, 0, 0, 0, 0, 0, 0, 1, 0, 0, 1, 1, 0, 0, 0, 1, 0, 1, 0, 0, 0, 1, 0, 1, 1, 1, 1, 1, 1, 0, 0, 1, 1, 1, 1, 0, 0, 0, 1, 1, 0, 1, 0, 0, 0, 0, 0, 1, 0, 1, 0, 1, 0, 0, 1, 0, 0, 1, 1, 0, 1, 0, 1, 0, 0, 1, 1, 1, 1, 1, 1, 0, 1, 0, 1, 0, 1, 0, 0, 0, 1, 1, 1, 1, 0, 0, 0, 1, 1, 0, 1, 1, 0, 0, 1, 1, 1, 0, 1, 1, 1, 0, 0, 1, 0, 0, 1, 0, 1, 0, 1, 1, 1, 0, 0, 1, 0, 1, 0, 1, 0, 1, 1, 0, 1, 0, 0, 0, 0, 1, 1, 0, 0, 0, 0, 0, 1, 1, 1, 0, 1, 1, 1, 1, 1, 1, 0, 1, 0, 1, 0, 0, 1, 1, 1, 1, 1, 1, 1, 0, 0, 1, 0, 0, 0, 1, 0, 1, 1, 1, 1, 1, 0, 0, 0, 1, 1, 0, 0, 0, 1, 0, 1, 1, 1, 1, 1, 0, 1, 0, 0, 1, 1, 0, 0, 1, 1, 0, 0, 0, 1, 1, 1, 1, 0, 1, 1, 0, 1, 1, 0, 1, 1, 0, 1, 1, 0, 1, 1, 0, 1, 0, 0, 1, 1, 0, 0, 1, 1, 1, 0, 0, 0, 0, 1, 1, 1, 1, 1, 1, 1, 1, 0, 0, 0, 0, 1, 0, 1, 0, 1, 0, 0, 0, 0, 0, 1, 0, 1, 0, 1, 0, 1, 0, 1, 1, 1, 1, 0, 0, 1, 0, 0, 1, 1, 1, 0, 1, 0, 0, 1, 0, 0, 0, 0, 0, 1, 1, 0, 0, 1, 0, 0, 1, 0, 0, 1, 0, 1, 1, 1, 0, 0, 0, 1, 1, 0, 1, 0, 0, 1, 1, 0, 0, 1, 0, 0, 1, 0, 1, 1, 0, 1, 1, 1, 1, 0, 1, 1, 0, 0, 1, 1, 1, 0, 1, 1, 1, 0, 1, 0, 0, 1, 1, 1, 1, 1, 1, 0, 0, 0, 0, 0, 0, 1, 1, 0, 0, 1, 1, 1, 0, 1, 0, 1, 1, 0, 1, 0, 0, 0, 1, 1, 1, 0, 0, 1, 0, 1, 0, 0, 1, 0, 1, 0, 1, 1, 1, 0, 0, 0, 0, 1, 0, 0, 0, 1, 0, 0, 0, 1, 1, 1, 0, 0, 1, 1, 1, 0, 0, 0, 0, 1, 0, 0, 1, 1, 0, 1, 0, 1, 0, 0, 0, 0, 1, 0, 1, 1, 0, 0, 1, 0, 1, 0, 0, 0, 0, 1, 0, 1, 0, 0, 0, 1, 1, 1, 1, 1, 1, 1, 1, 1, 1, 0, 1, 1, 0, 0, 0, 1, 1, 1, 1, 1, 0, 0, 1, 1, 1, 1, 1, 0, 1, 1, 1, 0, 0, 0, 1, 1, 0, 0, 0, 1, 1, 0, 1, 1, 1, 0, 1, 0, 0, 1, 0, 0, 1, 1, 0, 0, 1, 0, 1, 1, 0, 0, 0, 0, 1, 0, 1, 0, 0, 1, 0, 0, 1, 1, 0, 1, 1, 0, 0, 1, 1, 1, 1, 0, 0, 1, 0, 0, 1, 1, 0, 0, 0, 1, 1, 1, 0, 0, 0, 1, 1, 0, 0, 0, 0, 0, 0, 0, 1, 1, 1, 0, 0, 1, 1, 1, 1, 1, 0, 0, 1, 0, 1, 0, 1, 0, 0, 0, 0, 1, 1, 1, 0, 1, 0, 0, 1, 1, 0, 0, 0, 0, 1, 1, 1, 0, 1, 0, 1, 0, 0, 1, 0, 0, 0, 1, 0, 0, 0, 1, 0, 1, 0, 0, 0, 1, 0, 1, 0, 1, 0, 1, 0, 1, 1, 0, 1, 1, 1, 0, 0, 1, 1, 1, 0, 1, 1, 0, 0, 0, 0, 0, 0, 1, 1, 0, 1, 1, 0, 1, 0, 1, 1, 0, 0, 1, 1, 1, 0, 1, 0, 0, 1, 0, 0, 1, 1, 0, 1, 1, 0, 1, 0, 1, 1, 1, 0, 0, 1, 0, 0, 1, 0, 0, 0, 0, 0, 0, 0, 1, 1, 0, 1, 0, 0, 0, 0, 0, 0, 1, 0, 0, 0, 0, 0, 0, 1, 0, 1, 1, 0, 1, 0, 0, 1, 0, 1, 0, 1, 0, 0, 1, 1, 1, 1, 0, 0, 0, 1, 1, 0, 0, 0, 0, 0, 1, 1, 1, 0, 0, 0, 1, 1, 1, 1, 0, 1, 0, 1, 1, 0, 0, 0, 1, 1, 0, 0, 0, 0, 0, 0, 1, 1, 0, 0, 0, 0, 1, 0, 0, 0, 0, 0, 1, 0, 1, 0, 1, 1, 1, 0, 0, 1, 1, 1, 1, 1, 0, 1, 0, 0, 1, 0, 0, 1, 1, 0, 1, 1, 0, 0, 0, 0, 0, 1, 0, 1, 0, 1, 0, 1, 0, 1, 0, 1, 0, 1, 1, 1, 0, 0, 1, 1, 1, 0, 0, 0, 0, 1, 1, 0, 1, 0, 1, 1, 0, 1, 1, 0, 1, 1, 0, 0, 0, 0, 1, 0, 0, 0, 0, 1, 0, 1, 0, 0, 1, 1, 1, 1, 0, 1, 1, 0, 1, 1, 0, 1, 0, 1, 0, 0, 1, 0, 1, 0, 1, 0, 0, 1, 1, 1, 1, 0, 1, 0, 1, 0, 0, 0, 1, 0, 1, 0, 0, 1, 0, 0, 0, 0, 1, 1, 0, 1, 0, 1, 0, 1, 0, 1, 1, 1, 0, 1, 0, 1, 1, 1, 1, 1, 0, 0, 1, 0, 0, 1, 1, 0, 0, 1, 1, 1, 0, 0, 1, 1, 1, 1, 0, 1, 1, 1, 1, 1, 0, 0, 1, 1, 0, 1, 1, 1, 0, 1, 1, 0, 0, 0, 1, 1, 1, 1, 1, 0, 0, 1, 0, 0, 0, 1, 0, 0, 1, 1, 1, 0, 0, 1, 0, 1, 1, 1, 1, 1, 0, 0, 0, 0, 0, 1, 0, 0, 1, 0, 1, 1, 0, 1, 1, 1, 1, 0, 0, 1, 0, 0, 0, 0, 0, 0, 1, 1, 1, 0, 1, 0, 1, 1, 1, 1, 0, 0, 1, 1, 0, 1, 0, 1, 0, 1, 1, 1, 0, 1, 0, 1, 0, 0, 0, 0, 0, 0, 1, 1, 1, 0, 1, 1, 1, 0, 0, 1, 0, 1, 0, 0, 0, 0, 1, 0, 1, 1, 1, 1, 0, 0, 1, 1, 0, 1, 1, 1, 0, 1, 0, 0, 1, 1, 1, 0, 1, 1, 0, 1, 1, 0, 0, 0, 1, 1, 1, 1, 0, 0, 1, 1, 0, 0, 0, 1, 0, 0, 0, 0, 1, 0, 0, 1, 1, 1, 1, 0, 1, 1, 0, 1, 1, 0, 1, 0, 1, 0, 1, 0, 0, 0, 0, 0, 0, 1, 0, 1, 0, 0, 0, 0, 1, 0, 0, 0, 1, 1, 1, 1, 1, 0, 0, 0, 0, 0, 0, 0, 0, 1, 1, 1, 1, 0, 1, 1, 1, 0, 0, 0, 0, 1, 0, 0, 1, 0, 0, 0, 1, 0, 0, 0, 0, 0, 0, 0, 0, 0, 0, 1, 1, 0, 1, 0, 0, 0, 1, 1, 0, 0, 0, 0, 1, 0, 0, 1, 1, 0, 1, 1, 1, 1, 1, 0, 0, 1, 0, 0, 0, 0, 0, 1, 0, 1, 0, 1, 0, 0, 0, 0, 1, 0, 1, 0, 0, 1, 1, 0, 1, 1, 1, 0, 0, 1, 0, 0, 0, 1, 1, 1, 1, 1, 0, 1, 1, 1, 0, 1, 1, 1, 0, 0, 1, 0, 1, 0, 1, 0, 0, 0, 1, 0, 0, 0, 1, 1, 0, 1, 0, 0, 0, 0, 1, 1, 0, 0, 1, 0, 0, 0, 0, 0, 0, 1, 1, 0, 1, 0, 0, 1, 0, 0, 1, 0, 1, 0, 0, 1, 1, 1, 1, 1, 1, 0, 0, 0, 0, 1, 0, 1, 0, 0, 0, 1, 0, 0, 0, 1, 0, 0, 0, 0, 0, 1, 0, 1, 0, 0, 0, 1, 0, 1, 0, 1, 0, 1, 0, 0, 0, 0, 1, 0, 1, 1, 0, 1, 0, 1, 1, 0, 0, 0, 0, 0, 1, 1, 1, 0, 1, 0, 0, 0, 0, 0, 0, 0, 0, 1, 1, 0, 1, 1, 1, 0, 1, 0, 0, 0, 1, 0, 1, 0, 0, 1, 1, 1, 0, 0, 0, 1, 0, 1, 1, 0, 1, 1, 0, 0, 0, 0, 0, 1, 1, 0, 0, 0, 0, 1, 0, 0, 0, 0, 0, 0, 1, 0, 1, 0, 1, 0, 0, 0, 1, 0, 0, 1, 1, 0, 0, 0, 0, 1, 1, 1, 0, 0, 1, 1, 0, 0, 1, 1, 0, 1, 1, 1, 1, 0, 0, 1, 1, 1, 1, 1, 1, 1, 0, 0, 1, 1, 0, 1, 1, 0, 0, 0, 1, 0, 0, 1, 0, 1, 1, 0, 1, 0, 0, 1, 1, 1, 1, 1, 0, 1, 0, 0, 0, 1, 0, 1, 1, 0, 0, 1, 0, 0, 0, 0, 1, 1, 1, 0, 1, 1, 0, 0, 1, 0, 1, 1, 1, 0, 0, 0, 0, 0, 1, 1, 1, 0, 0, 0, 0, 0, 0, 1, 0, 1, 0, 0, 0, 1, 0, 0, 0, 0, 0, 1, 0, 0, 0, 1, 1, 1, 0, 0, 1, 0, 1, 0, 1, 0, 1, 0, 1, 0, 1, 0, 1, 1, 0, 1, 0, 1, 1, 0, 1, 1, 1, 0, 0, 0, 1, 1, 0, 1, 1, 1, 0, 1, 0, 0, 1, 1, 1, 0, 1, 0, 0, 0, 0, 1, 1, 1, 1, 0, 1, 0, 1, 1, 0, 0, 0, 0, 0, 0, 0, 1, 1, 1, 0, 0, 0, 0, 0, 0, 1, 1, 1, 1, 0, 0, 0, 0, 1, 1, 0, 0, 1, 0, 0, 0, 0, 0, 1, 1, 0, 0, 1, 0, 0, 0, 1, 0, 1, 1, 0, 1, 0, 0, 1, 0, 1, 1, 0, 0, 0, 0, 1, 0, 1, 0, 0, 1, 1, 1, 1, 0, 0, 1, 0, 0, 1, 1, 0, 0, 0, 1, 1, 0, 0, 0, 0, 1, 1, 1, 1, 0, 1, 1, 1, 0, 1, 1, 1, 0, 1, 0, 1, 1, 0, 1, 0, 0, 1, 1, 0, 1, 0, 0, 0, 1, 1, 1, 1, 1, 0, 0, 0, 1, 1, 1, 0, 0, 0, 0, 1, 1, 0, 0, 1, 1, 1, 1, 0, 0, 0, 1, 1, 0, 0, 1, 0, 0, 0, 1, 1, 0, 0, 1, 0, 1, 0, 1, 1, 1, 1, 0, 1, 0, 0, 0, 1, 1, 0, 1, 1, 1, 1, 0, 1, 0, 1, 0, 0, 0, 1, 0, 0, 0, 1, 0, 1, 0, 0, 1, 1, 1, 0, 0, 0, 0, 1, 1, 1, 1, 1, 0, 1, 1, 1, 0, 0, 0, 0, 0, 0, 0, 0, 0, 0, 1, 0, 1, 1, 0, 1, 1, 0, 0, 0, 0, 0, 0, 0, 1, 1, 1, 0, 0, 1, 0, 0, 0, 1, 0, 0, 1, 0, 0, 1, 1, 1, 1, 1, 1, 1, 1, 1, 0, 0, 1, 0, 0, 1, 0, 0, 1, 0, 1, 1, 1, 0, 0, 0, 1, 0, 1, 0, 0, 1, 1, 0, 1, 0, 0, 1, 1, 0, 1, 1, 0, 1, 0, 0, 1, 1, 0, 1, 0, 0, 0, 0, 1, 0, 1, 1, 0, 1, 1, 0, 0, 0, 0, 0, 1, 0, 1, 1, 0, 1, 0, 1, 1, 0, 1, 0, 1, 0, 1, 1, 0, 1, 0, 0, 0, 0, 1, 1, 1, 1, 1, 1, 0, 0, 1, 0, 1, 0, 0, 1, 1, 0, 1, 0, 1, 1, 0, 0, 1, 0, 0, 1, 1, 0, 0, 0, 1, 1, 0, 0, 1, 0, 1, 1, 1, 1, 1, 0, 0, 1, 0, 1, 1, 1, 1, 1, 1, 0, 1, 0, 0, 0, 1, 0, 0, 1, 0, 1, 0, 0, 0, 1, 0, 1, 0, 1, 1, 1, 0, 1, 1, 1, 0, 1, 1, 1, 0, 0, 0, 0, 0, 0, 1, 0, 0, 0, 1, 0, 0, 0, 1, 1, 0, 1, 1, 0, 0, 1, 1, 1, 1, 1, 1, 1, 1, 0, 0, 1, 1, 0, 0, 0, 0, 1, 1, 1, 1, 1, 1, 0, 0, 0, 1, 1, 0, 1, 1, 0, 0, 1, 1, 0, 0, 1, 0, 0, 1, 1, 0, 1, 0, 0, 1, 0, 1, 0, 0, 1, 0, 1, 1, 1, 0, 0, 1, 1, 0, 1, 0, 0, 1, 0, 0, 0, 1, 0, 1, 1, 1, 0, 1, 1, 1, 0, 1, 0, 1, 0, 1, 1, 0, 0, 1, 0, 1, 0, 0, 0, 1, 0, 1, 1, 0, 1, 0, 0, 0, 1, 0, 0, 1, 0, 1, 1, 0, 0, 1, 0, 0, 1, 1, 1, 1, 0, 0, 0, 1, 0, 0, 1, 0, 0, 1, 0, 0, 1, 0, 1, 1, 0, 0, 0, 1, 1, 0, 1, 1, 0, 1, 1, 0, 0, 1, 0, 0, 0, 0, 0, 1, 1, 0, 0, 1, 1, 0, 0, 1, 0, 0, 0, 1, 1, 1, 0, 1, 0, 0, 0, 0, 0, 1, 0, 0, 1, 0, 1, 0, 1, 0, 0, 1, 1, 1, 1, 0, 1, 1, 1, 0, 0, 0, 1, 0, 1, 0, 0, 0, 1, 0, 1, 1, 1, 0, 0, 0, 0, 0, 1, 1, 0, 0, 1, 0, 0, 1, 0, 0, 1, 0, 0, 0, 0, 0, 0, 0, 1, 0, 1, 1, 0, 0, 1, 0, 1, 0, 0, 1, 1, 0, 0, 1, 1, 0, 0, 1, 0, 0, 0, 0, 0, 0, 0, 1, 1, 0, 0, 1, 0, 0, 1, 1, 1, 0, 0, 1, 1, 1, 1, 0, 1, 0, 1, 1, 0, 0, 1, 1, 0, 1, 1, 1, 0, 1, 0, 1, 0, 1, 1, 0, 0, 0, 0, 0, 0, 0, 0, 0, 1, 0, 1, 0, 0, 1, 0, 1, 0, 0, 1, 1, 0, 1, 1, 0, 0, 1, 0, 0, 1, 1, 1, 0, 1, 0, 1, 0, 0, 0, 1, 0, 0, 0, 1, 1, 0, 1, 1, 0, 1, 1, 0, 1, 1, 0, 0, 0, 1, 1, 0, 0, 0, 1, 0, 0, 0, 1, 1, 1, 1, 1, 1, 1, 1, 1, 1, 0, 1, 0, 1, 0, 0, 1, 1, 1, 1, 0, 0, 0, 1, 0, 0, 1, 1, 1, 1, 0, 0, 1, 0, 0, 1, 1, 0, 1, 0, 1, 0, 1, 0, 1, 1, 0, 0, 0, 1, 0, 0, 1, 0, 1, 0, 0, 0, 1, 0, 0, 1, 0, 0, 1, 1, 0, 1, 0, 1, 1, 1, 0, 1, 0, 0, 0, 1, 1, 0, 1, 0, 0, 0, 0, 0, 0, 0, 1, 1, 0, 0, 0, 0, 0, 0, 1, 1, 1, 1, 0, 0, 0, 1, 1, 1, 0, 1, 0, 1, 0, 0, 0, 1, 1, 0, 0, 1, 0, 0, 0, 1, 0, 0, 0, 0, 1, 1, 1, 0, 1, 1, 1, 0, 0, 1, 1, 1, 1, 0, 0, 0, 0, 0, 0, 1, 0, 1, 0, 0, 0, 0, 0, 0, 1, 0, 0, 0, 1, 0, 0, 1, 0, 1, 0, 0, 0, 0, 0, 0, 0, 1, 1, 1, 0, 1, 0, 0, 0, 0, 0, 1, 0, 1, 1, 0, 1, 1, 0, 0, 1, 1, 1, 1, 1, 1, 0, 0, 1, 0, 0, 1, 0, 1, 0, 1, 1, 1, 0, 0, 0, 0, 0, 0, 1, 1, 0, 0, 1, 1, 0, 0, 0, 0, 0, 1, 1, 0, 1, 0, 0, 0, 0, 1, 0, 1, 1, 1, 0, 1, 0, 1, 1, 1, 1, 0, 1, 0, 1, 1, 1, 1, 0, 1, 0, 0, 1, 0, 0, 0, 1, 1, 1, 1, 0, 0, 1, 0, 1, 1, 1, 1, 1, 1, 1, 0, 1, 1, 0, 1, 0, 1, 0, 1, 1, 1, 1, 0, 1, 0, 0, 0, 0, 1, 1, 1, 1, 0, 0, 0, 0, 0, 0, 1, 0, 0, 1, 0, 1, 1, 0, 0, 1, 0, 1, 0, 1, 0, 0, 0, 1, 0, 0, 1, 1, 1, 1, 0, 1, 0, 0, 1, 0, 0, 0, 1, 1, 1, 0, 0, 0, 0, 1, 1, 1, 1, 0, 0, 1, 0, 0, 0, 1, 0, 0, 1, 1, 1, 1, 1, 0, 0, 0, 0, 0, 1, 1, 0, 0, 0, 0, 1, 1, 1, 1, 0, 1, 1, 0, 1, 1, 0, 1, 0, 1, 1, 0, 1, 0, 1, 1, 1, 0, 0, 1, 1, 0, 0, 0, 1, 1, 1, 0, 0, 1, 0, 0, 1, 0, 0, 1, 1, 0, 0, 1, 1, 1, 1, 0, 0, 1, 1, 0, 0, 1, 1, 0, 1, 0, 1, 1, 0, 1, 1, 0, 0, 1, 0, 1, 0, 0, 1, 1, 1, 1, 1, 0, 0, 1, 1, 0, 1, 1, 0, 1, 1, 1, 0, 0, 0, 0, 0, 1, 0, 1, 0, 0, 1, 0, 0, 0, 0, 1, 0, 1, 0, 1, 1, 1, 0, 1, 1, 0, 0, 0, 0, 1, 0, 0, 0, 0, 0, 0, 1, 1, 1, 1, 1, 0, 0, 0, 1, 0, 0, 1, 0, 1, 0, 0, 1, 0, 0, 0, 0, 1, 0, 0, 1, 0, 1, 1, 1, 0, 0, 0, 1, 1, 0, 1, 1, 1, 1, 1, 0, 0, 0, 1, 0, 0, 0, 0, 1, 0, 0, 0, 1, 0, 1, 0, 0, 0, 1, 0, 0, 1, 0, 1, 1, 0, 1, 1, 0, 1, 1, 0, 0, 1, 1, 0, 1, 0, 0, 0, 1, 0, 0, 0, 0, 0, 0, 1, 1, 0, 1, 1, 0, 1, 1, 0, 0, 1, 0, 0, 1, 0, 1, 1, 1, 1, 1, 1, 0, 0, 1, 0, 1, 0, 1, 0, 0, 0, 0, 1, 0, 0, 0, 1, 0, 0, 0, 1, 1, 0, 1, 0, 0, 1, 0, 1, 1, 0, 0, 1, 0, 1, 0, 1, 0, 0, 0, 0, 1, 0, 1, 1, 1, 0, 0, 1, 1, 0, 1, 1, 0, 0, 0, 1, 0, 1, 1, 0, 0, 1, 0, 1, 0, 1, 1, 0, 0, 1, 0, 1, 0, 1, 1, 0, 0, 1, 1, 1, 1, 0, 0, 1, 0, 0, 0, 1, 0, 1, 1, 0, 1, 1, 1, 0, 0, 0, 0, 0, 0, 1, 0, 0, 0, 0, 0, 0, 0, 0, 0, 1, 0, 1, 0, 0, 0, 0, 0, 0, 0, 0, 1, 1, 1, 1, 0, 1, 1, 1, 1, 1, 0, 0, 0, 0, 0, 0, 0, 0, 1, 0, 1, 1, 0, 1, 0, 0, 0, 0, 0, 0, 0, 1, 1, 0, 0, 0, 1, 0, 1, 0, 1, 1, 0, 0, 0, 1, 0, 0, 0, 1, 0, 0, 0, 1, 0, 0, 1, 0, 0, 1, 0, 1, 1, 0, 0, 1, 0, 1, 0, 0, 0, 0, 1, 0, 0, 1, 0, 0, 0, 0, 1, 0, 1, 0, 1, 1, 0, 0, 0, 1, 0, 0, 0, 1, 1, 1, 1, 0, 1, 0, 1, 0, 1, 0, 0, 0, 1, 1, 1, 0, 1, 0, 0, 0, 0, 0, 0, 0, 0, 1, 1, 0, 0, 0, 1, 1, 0, 0, 1, 1, 0, 1, 0, 1, 0, 1, 1, 0, 0, 1, 0, 0, 0, 0, 0, 0, 0, 1, 0, 0, 0, 0, 1, 0, 1, 0, 0, 1, 0, 0, 1, 1, 0, 0, 0, 1, 1, 1, 0, 0, 0, 1, 1, 0, 1, 1, 0, 0, 1, 1, 0, 0, 1, 0, 1, 0, 1, 0, 1, 1, 0, 0, 0, 0, 1, 0, 0, 1, 0, 0, 0, 1, 0, 1, 1, 0, 0, 0, 0, 1, 1, 0, 0, 1, 1, 0, 0, 0, 0, 0, 0, 0, 0, 1, 1, 0, 1, 1, 0, 0, 0, 0, 1, 1, 0, 1, 1, 0, 1, 0, 0, 0, 0, 1, 1, 0, 1, 0, 0, 1, 1, 1, 1, 1, 0, 1, 1, 0, 1, 1, 1, 0, 0, 0, 1, 1, 1, 1, 1, 0, 1, 0, 1, 0, 0, 0, 1, 1, 1, 1, 0, 1, 1, 1, 0, 0, 0, 0, 1, 1, 1, 0, 0, 1, 1, 1, 0, 0, 1, 1, 0, 1, 0, 1, 1, 0, 1, 1, 0, 0, 0, 0, 0, 1, 0, 1, 0, 1, 0, 1, 0, 1, 0, 1, 1, 1, 0, 1, 0, 0, 1, 0, 1, 1, 1, 1, 1, 1, 1, 0, 1, 1, 0, 1, 1, 0, 1, 1, 0, 1, 0, 0, 1, 0, 0, 1, 0, 1, 0, 1, 1, 1, 0, 1, 1, 1, 1, 0, 0, 0, 0, 1, 0, 1, 0, 1, 1, 1, 0, 1, 1, 0, 1, 1, 1, 0, 0, 1, 1, 1, 1, 1, 1, 1, 0, 1, 1, 1, 1, 0, 0, 0, 1, 1, 1, 1, 1, 0, 0, 1, 0, 0, 0, 1, 0, 1, 1, 1, 1, 1, 0, 1, 1, 1, 1, 1, 0, 1, 1, 1, 0, 0, 0, 1, 0, 0, 1, 0, 0, 1, 0, 0, 1, 0, 1, 1, 0, 0, 0, 0, 0, 0, 0, 0, 1, 1, 1, 1, 0, 1, 0, 1, 0, 0, 0, 0, 0, 0, 0, 0, 0, 0, 0, 1, 1, 1, 0, 1, 1, 1, 0, 1, 0, 0, 1, 0, 0, 1, 1, 0, 1, 0, 1, 0, 0, 0, 1, 1, 0, 0, 0, 0, 1, 1, 0, 1, 1, 1, 0, 1, 0, 0, 1, 1, 1, 1, 0, 0, 0, 1, 1, 1, 0, 0, 0, 0, 1, 0, 0, 0, 1, 0, 0, 0, 1, 0, 1, 0, 0, 0, 1, 0, 1, 1, 0, 1, 0, 0, 0, 0, 1, 1, 0, 1, 0, 0, 0, 0, 0, 1, 0, 0, 1, 0, 0, 1, 1, 1, 1, 0, 0, 0, 0, 0, 0, 1, 1, 1, 0, 1, 0, 1, 1, 1, 1, 1, 1, 1, 0, 0, 0, 0, 0, 0, 1, 1, 1, 0, 0, 1, 1, 1, 0, 0, 1, 1, 0, 1, 0, 0, 0, 0, 0, 0, 0, 0, 1, 1, 0, 0, 0, 0, 0, 0, 0, 0, 0, 0, 1, 1, 1, 0, 0, 1, 0, 1, 1, 0, 0, 1, 1, 0, 1, 1, 1, 0, 1, 1, 0, 1, 1, 0, 1, 0, 1, 1, 1, 1, 1, 0, 0, 0, 0, 0, 0, 0, 1, 1, 0, 0, 1, 0, 0, 1, 0, 0, 1, 1, 0, 1, 0, 0, 1, 1, 0, 1, 1, 0, 1, 1, 0, 0, 1, 1, 0, 1, 1, 1, 1, 1, 1, 1, 0, 0, 0, 0, 0, 0, 0, 1, 1, 1, 0, 1, 1, 1, 1, 1, 1, 1, 0, 0, 1, 1, 0, 0, 1, 1, 0, 1, 0, 0, 0, 0, 0, 1, 0, 0, 0, 1, 0, 1, 1, 0, 1, 1, 1, 0, 1, 1, 0, 0, 1, 1, 1, 0, 0, 0, 1, 1, 1, 0, 0, 0, 0, 0, 0, 1, 1, 0, 0, 1, 1, 0, 0, 1, 0, 1, 1, 1, 0, 0, 1, 1, 1, 0, 0, 1, 0, 0, 1, 0, 0, 0, 1, 0, 0, 1, 0, 0, 0, 1, 0, 1, 0, 1, 0, 0, 1, 1, 0, 1, 0, 0, 1, 0, 1, 0, 1, 0, 0, 1, 1, 1, 0, 0, 1, 0, 0, 0, 0, 0, 1, 0, 1, 0, 1, 0, 1, 0, 0, 1, 0, 1, 0, 1, 0, 1, 1, 0, 1, 0, 1, 0, 1, 1, 1, 0, 1, 1, 0, 1, 0, 0, 1, 1, 1, 1, 0, 1, 1, 1, 1, 1, 0, 1, 0, 1, 1, 1, 1, 1, 1, 0, 0, 0, 0, 0, 1, 0, 1, 1, 1, 0, 0, 1, 0, 0, 0, 1, 0, 1, 1, 0, 0, 1, 0, 1, 1, 0, 1, 1, 0, 1, 0, 1, 0, 0, 1, 1, 1, 1, 0, 1, 0, 0, 0, 1, 1, 1, 1, 0, 1, 1, 0, 0, 0, 0, 0, 1, 0, 0, 1, 1, 1, 1, 1, 1, 1, 1, 1, 0, 0, 1, 0, 0, 1, 1, 0, 1, 1, 0, 1, 1, 0, 1, 0, 0, 0, 1, 1, 0, 1, 1, 1, 0, 0, 0, 1, 0, 0, 1, 1, 1, 0, 0, 0, 1, 1, 1, 1, 1, 0, 0, 0, 0, 0, 1, 0, 1, 1, 1, 0, 1, 0, 1, 0, 0, 0, 1, 0, 1, 0, 0, 1, 1, 0, 1, 0, 1, 1, 0, 0, 0, 1, 1, 1, 0, 0, 1, 1, 1, 1, 0, 0, 1, 1, 1, 0, 0, 1, 0, 0, 0, 1, 1, 0, 1, 1, 0, 0, 0, 0, 0, 0, 0, 1, 0, 0, 1, 1, 1, 0, 0, 1, 1, 0, 0, 1, 1, 0, 1, 1, 1, 0, 1, 1, 0, 0, 0, 0, 0, 0, 0, 0, 1, 0, 0, 0, 0, 0, 1, 0, 1, 0, 1, 0, 0, 0, 0, 1, 1, 1, 0, 0, 0, 1, 1, 0, 0, 1, 0, 0, 0, 0, 0, 1, 0, 0, 0, 0, 0, 0, 0, 1, 1, 1, 1, 0, 1, 0, 0, 1, 1, 1, 0, 1, 1, 1, 1, 1, 1, 0, 1, 0, 1, 1, 1, 1, 0, 0, 1, 0, 0, 0, 0, 1, 0, 0, 1, 1, 1, 1, 1, 0, 0, 0, 1, 1, 1, 1, 0, 0, 1, 1, 1, 0, 1, 1, 0, 0, 1, 0, 1, 0, 0, 1, 1, 0, 0, 0, 0, 0, 0, 0, 1, 0, 1, 1, 0, 1, 1, 1, 1, 0, 0, 1, 1, 1, 0, 0, 1, 1, 0, 0, 1, 1, 1, 0, 1, 1, 0, 1, 0, 1, 0, 0, 1, 1, 0, 0, 1, 1, 0, 1, 0, 0, 0, 0, 0, 1, 1, 1, 1, 1, 1, 1, 1, 1, 1, 0, 0, 0, 0, 1, 1, 1, 1, 1, 1, 1, 0, 0, 0, 0, 0, 0, 1, 0, 1, 1, 0, 1, 0, 1, 1, 0, 0, 1, 1, 1, 0, 0, 1, 1, 1, 0, 0, 1, 1, 0, 1, 1, 0, 0, 1, 1, 1, 0, 1, 0, 1, 0, 0, 1, 1, 1, 0, 1, 1, 1, 0, 1, 1, 1, 0, 0, 0, 1, 0, 0, 1, 1, 0, 0, 1, 0, 0, 1, 0, 1, 0, 1, 0, 0, 0, 0, 1, 0, 0, 1, 0, 0, 0, 1, 0, 1, 1, 0, 0, 0, 0, 1, 0, 0, 1, 0, 1, 0, 0, 0, 1, 1, 0, 0, 1, 0, 1, 1, 1, 0, 0, 0, 1, 0, 1, 1, 1, 0, 1, 0, 0, 0, 0, 1, 1, 1, 1, 1, 0, 0, 0, 1, 0, 1, 1, 1, 0, 0, 1, 1, 0, 1, 1, 0, 1, 1, 0, 1, 0, 0, 1, 1, 0, 0, 1, 1, 1, 1, 1, 1, 0, 0, 0, 1, 0, 1, 1, 0, 1, 1, 1, 1, 0, 1, 0, 0, 1, 0, 0, 0, 0, 1, 1, 0, 0, 1, 0, 1, 1, 1, 0, 1, 0, 1, 0, 0, 0, 0, 1, 0, 0, 1, 0, 0, 0, 0, 0, 1, 1, 0, 0, 0, 0, 1, 1, 1, 0, 0, 1, 0, 1, 0, 0, 1, 1, 1, 1, 0, 0, 0, 0, 1, 0, 1, 0, 0, 0, 0, 1, 0, 0, 1, 1, 1, 0, 0, 0, 0, 0, 1, 0, 0, 0, 1, 0, 1, 1, 0, 1, 1, 1, 1, 0, 0, 0, 1, 0, 0, 1, 0, 1, 0, 0, 0, 0, 1, 1, 0, 0, 0, 1, 0, 1, 1, 1, 1, 1, 0, 1, 0, 1, 1, 0, 0, 0, 0, 0, 0, 1, 0, 0, 1, 1, 1, 1, 1, 1, 1, 1, 0, 0, 0, 0, 0, 1, 1, 1, 1, 1, 0, 0, 0, 1, 1, 0, 0, 0, 0, 1, 0, 0, 1, 1, 0, 1, 1, 1, 0, 1, 1, 1, 0, 1, 0, 1, 1, 0, 0, 1, 0, 0, 1, 1, 1, 1, 0, 1, 0, 1, 0, 0, 1, 1, 1, 0, 1, 0, 1, 1, 1, 0, 0, 0, 1, 0, 0, 1, 1, 1, 0, 0, 0, 0, 1, 1, 0, 1, 1, 1, 0, 0, 0, 1, 0, 0, 1, 0, 1, 1, 0, 0, 0, 0, 1, 0, 0, 1, 0, 0, 1, 1, 0, 0, 0, 0, 1, 0, 0, 0, 0, 0, 0, 0, 1, 0, 1, 0, 1, 0, 1, 0, 0, 1, 1, 1, 0, 1, 0, 1, 0, 0, 1, 0, 0, 0, 1, 0, 0, 1, 0, 1, 1, 0, 0, 1, 1, 0, 0, 0, 0, 0, 1, 0, 1, 1, 0, 1, 0, 1, 1, 1, 1, 0, 0, 0, 1, 1, 0, 1, 0, 0, 0, 1, 1, 1, 1, 0, 0, 0, 0, 0, 1, 1, 0, 1, 1, 0, 0, 1, 0, 1, 1, 0, 0, 0, 0, 1, 0, 0, 0, 1, 1, 1, 0, 1, 1, 0, 1, 0, 1, 0, 0, 0, 0, 1, 0, 0, 0, 1, 1, 1, 1, 0, 0, 0, 0, 1, 1, 0, 1, 1, 0, 1, 0, 1, 1, 0, 1, 1, 1, 1, 0, 1, 0, 0, 0, 0, 1, 1, 1, 0, 0, 0, 1, 1, 0, 1, 0, 0, 1, 1, 1, 0, 0, 0, 0, 0, 0, 1, 0, 1, 1, 0, 1, 0, 0, 1, 0, 0, 0, 1, 0, 0, 1, 0, 0, 0, 1, 1, 1, 0, 0, 0, 1, 1, 1, 0, 0, 1, 0, 0, 0, 0, 0, 1, 0, 0, 0, 1, 1, 1, 0, 0, 0, 0, 1, 0, 0, 1, 1, 0, 1, 0, 1, 0, 0, 1, 1, 0, 1, 0, 1, 1, 0, 0, 1, 1, 1, 0, 1, 0, 0, 0, 1, 1, 1, 1, 0, 0, 0, 0, 1, 0, 1, 1, 1, 0, 1, 1, 1, 1, 0, 1, 0, 1, 1, 1, 0, 0, 1, 0, 0, 0, 1, 1, 0, 0, 1, 0, 1, 0, 1, 1, 1, 1, 0, 0, 1, 1, 0, 1, 0, 0, 1, 0, 0, 0, 0, 0, 0, 1, 1, 0, 0, 0, 1, 1, 0, 1, 1, 0, 0, 0, 1, 0, 0, 0, 0, 0, 0, 0, 1, 0, 0, 0, 1, 1, 0, 1, 1, 0, 0, 1, 1, 1, 0, 1, 0, 1, 1, 0, 0, 0, 1, 0, 0, 1, 1, 1, 0, 0, 1, 0, 0, 0, 0, 0, 1, 0, 1, 0, 1, 0, 0, 1, 0, 0, 0, 0, 0, 0, 0, 0, 1, 1, 0, 0, 0, 1, 0, 0, 1, 1, 1, 1, 1, 1, 1, 1, 1, 0, 0, 1, 0, 0, 0, 0, 1, 0, 1, 1, 0, 1, 0, 0, 0, 0, 1, 1, 1, 0, 1, 0, 1, 1, 0, 1, 1, 1, 1, 1, 1, 1, 1, 0, 1, 0, 0, 0, 1, 1, 1, 0, 0, 0, 0, 1, 1, 0, 1, 0, 0, 0, 0, 0, 0, 1, 1, 0, 0, 0, 1, 1, 0, 0, 0, 1, 1, 0, 0, 0, 1, 0, 0, 1, 0, 0, 0, 1, 1, 1, 0, 1, 1, 0, 1, 0, 0, 1, 0, 0, 0, 0, 0, 1, 0, 1, 0, 1, 1, 0, 1, 1, 1, 0, 1, 0, 1, 0, 1, 1, 0, 1, 1, 1, 1, 0, 0, 1, 0, 1, 1, 1, 0, 0, 1, 1, 1, 1, 1, 0, 0, 1, 0, 0, 1, 0, 1, 0, 0, 0, 0, 1, 1, 1, 1, 0, 0, 0, 0, 0, 0, 1, 0, 0, 0, 0, 0, 1, 1, 0, 0, 0, 0, 0, 0, 0, 0, 1, 1, 1, 0, 0, 0, 0, 0, 1, 1, 1, 0, 0, 0, 0, 1, 0, 1, 1, 0, 0, 1, 0, 1, 1, 1, 0, 1, 0, 0, 1, 0, 1, 1, 0, 1, 1, 1, 1, 1, 1, 1, 1, 0, 0, 0, 1, 0, 1, 1, 1, 0, 0, 1, 1, 0, 0, 1, 1, 1, 1, 0, 1, 1, 0, 1, 0, 1, 1, 1, 1, 1, 1, 0, 1, 0, 1, 1, 0, 0, 0, 1, 1, 0, 0, 1, 0, 0, 1, 1, 0, 1, 0, 0, 0, 0, 0, 0, 0, 1, 1, 0, 0, 0, 1, 0, 0, 1, 0, 0, 0, 0, 0, 1, 0, 1, 0, 0, 1, 0, 1, 0, 0, 1, 1, 0, 0, 0, 1, 1, 0, 0, 1, 1, 0, 0, 0, 0, 0, 1, 0, 1, 0, 0, 0, 1, 0, 0, 0, 1, 1, 1, 1, 0, 0, 0, 0, 0, 0, 1, 0, 0, 1, 0, 1, 1, 1, 0, 1, 0, 1, 0, 1, 1, 0, 0, 1, 0, 0, 0, 0, 1, 1, 0, 1, 1, 1, 1, 1, 0, 1, 0, 0, 0, 1, 0, 0, 1, 0, 1, 1, 1, 1, 1, 1, 1, 0, 0, 0, 0, 1, 1, 1, 0, 0, 1, 1, 0, 1, 1, 1, 1, 0, 0, 1, 1, 0, 1, 1, 0, 1, 0, 1, 1, 0, 1, 0, 1, 0, 1, 0, 1, 1, 1, 1, 0, 0, 1, 0, 0, 0, 1, 0, 1, 1, 0, 1, 0, 0, 0, 0, 1, 1, 1, 1, 0, 1, 0, 0, 0, 1, 0, 1, 0, 0, 1, 1, 1, 0, 0, 1, 0, 1, 0, 0, 1, 1, 0, 1, 1, 0, 0, 1, 1, 1, 0, 1, 0, 0, 0, 0, 0, 1, 0, 0, 0, 1, 1, 1, 1, 1, 1, 0, 1, 1, 0, 0, 1, 0, 0, 0, 1, 1, 0, 0, 1, 1, 1, 1, 0, 0, 0, 1, 0, 1, 0, 0, 0, 0, 1, 1, 1, 1, 0, 1, 1, 1, 1, 1, 0, 1, 0, 0, 1, 1, 0, 1, 1, 0, 1, 1, 1, 0, 1, 1, 0, 1, 0, 1, 0, 1, 1, 0, 0, 0, 1, 0, 1, 0, 0, 0, 0, 0, 1, 1, 0, 0, 1, 0, 0, 0, 0, 1, 1, 0, 0, 1, 0, 1, 1, 1, 1, 1, 1, 0, 1, 0, 0, 0, 0, 1, 1, 0, 1, 0, 1, 0, 1, 1, 1, 0, 1, 0, 0, 0, 0, 1, 0, 1, 1, 1, 1, 0, 0, 1, 0, 0, 0, 0, 0, 1, 0, 1, 0, 0, 0, 0, 0, 0, 0, 0, 1, 0, 1, 0, 1, 1, 0, 1, 1, 1, 1, 0, 0, 1, 1, 0, 1, 1, 0, 1, 1, 0, 1, 0, 0, 0, 0, 0, 1, 1, 1, 0, 0, 1, 1, 1, 1, 1, 0, 1, 0, 1, 0, 0, 1, 1, 0, 1, 0, 0, 0, 1, 1, 1, 1, 1, 0, 0, 1, 0, 1, 0, 0, 0, 0, 0, 1, 1, 0, 0, 1, 1, 1, 0, 1, 1, 0, 0, 0, 1, 0, 0, 0, 1, 0, 0, 0, 1, 0, 1, 0, 0, 0, 1, 1, 1, 1, 0, 0, 1, 1, 0, 0, 0, 0, 1, 0, 1, 0, 0, 0, 0, 0, 0, 1, 0, 1, 1, 0, 1, 0, 0, 1, 1, 0, 0, 0, 0, 0, 0, 1, 1, 0, 0, 1, 0, 1, 0, 0, 0, 0, 1, 1, 1, 0, 1, 1, 0, 0, 0, 0, 1, 0, 0, 0, 1, 1, 1, 1, 0, 0, 0, 0, 1, 1, 0, 1, 1, 0, 0, 0, 1, 0, 0, 0, 1, 0, 1, 1, 1, 0, 0, 0, 0, 1, 1, 1, 0, 0, 0, 0, 0, 0, 1, 1, 1, 0, 0, 0, 1, 0, 0, 1, 0, 1, 0, 0, 0, 1, 0, 0, 1, 0, 0, 0, 0, 0, 0, 0, 1, 0, 0, 1, 0, 0, 1, 0, 0, 1, 1, 1, 1, 0, 0, 0, 1, 0, 0, 0, 1, 1, 1, 0, 0, 1, 1, 1, 0, 0, 0, 0, 0, 1, 1, 0, 1, 0, 1, 0, 0, 0, 1, 0, 0, 0, 0, 0, 1, 1, 0, 0, 1, 0, 0, 0, 0, 0, 0, 0, 0, 1, 1, 1, 0, 0, 1, 0, 1, 0, 0, 0, 0, 1, 0, 1, 1, 0, 0, 0, 1, 0, 0, 1, 0, 0, 1, 1, 1, 1, 1, 1, 1, 1, 0, 0, 0, 0, 1, 1, 0, 1, 1, 0, 1, 0, 0, 0, 0, 0, 0, 0, 0, 1, 1, 0, 0, 1, 0, 1, 0, 1, 1, 0, 1, 1, 1, 0, 0, 1, 1, 0, 1, 1, 0, 0, 0, 1, 0, 0, 0, 0, 0, 1, 0, 1, 0, 1, 0, 0, 0, 1, 0, 0, 1, 1, 1, 0, 1, 1, 1, 0, 1, 1, 0, 0, 1, 0, 0, 1, 1, 1, 0, 1, 0, 0, 1, 0, 1, 1, 1, 1, 0, 0, 0, 1, 0, 0, 1, 0, 0, 1, 1, 1, 1, 1, 0, 0, 0, 1, 0, 0, 0, 0, 0, 1, 1, 0, 0, 1, 1, 1, 0, 0, 1, 0, 1, 0, 0, 1, 0, 0, 0, 1, 0, 1, 1, 1, 1, 0, 0, 0, 1, 1, 0, 1, 0, 1, 0, 0, 0, 0, 0, 1, 1, 1, 0, 1, 1, 0, 1, 0, 1, 1, 1, 1, 0, 1, 0, 1, 0, 1, 1, 1, 0, 1, 0, 1, 0, 1, 1, 0, 1, 0, 1, 0, 0, 1, 0, 1, 1, 1, 1, 0, 0, 1, 0, 0, 1, 1, 1, 1, 0, 0, 0, 0, 1, 0, 0, 1, 0, 0, 0, 0, 0, 1, 0, 1, 0, 1, 0, 1, 0, 1, 0, 0, 1, 0, 1, 1, 0, 0, 1, 1, 1, 0, 0, 0, 0, 1, 0, 0, 0, 0, 1, 0, 1, 0, 1, 0, 0, 0, 1, 0, 1, 1, 1, 0, 1, 0, 0, 0, 1, 1, 0, 0, 0, 1, 0, 0, 0, 1, 1, 0, 1, 1, 0, 1, 0, 0, 0, 1, 0, 0, 1, 0, 1, 1, 0, 0, 0, 0, 0, 1, 0, 0, 0, 1, 0, 1, 1, 1, 0, 1, 1, 0, 1, 0, 1, 1, 1, 0, 0, 1, 1, 1, 0, 0, 1, 0, 0, 1, 1, 0, 0, 1, 0, 1, 0, 1, 0, 0, 0, 1, 0, 1, 0, 0, 0, 1, 1, 1, 0, 1, 1, 1, 0, 0, 0, 0, 0, 0, 0, 1, 1, 0, 1, 0, 0, 1, 0, 0, 1, 1, 0, 0, 0, 1, 0, 1, 0, 0, 0, 1, 1, 0, 1, 0, 0, 1, 1, 0, 1, 0, 1, 1, 0, 0, 0, 0, 1, 1, 0, 0, 1, 0, 0, 1, 0, 1, 1, 1, 1, 0, 1, 0, 0, 1, 1, 1, 0, 0, 1, 0, 1, 0, 0, 1, 0, 0, 1, 1, 0, 1, 0, 0, 0, 0, 1, 0, 1, 0, 1, 1, 1, 1, 1, 1, 0, 0, 1, 1, 1, 0, 1, 0, 0, 0, 0, 0, 1, 0, 0, 1, 0, 0, 0, 1, 0, 0, 1, 0, 0, 0, 0, 1, 1, 1, 1, 0, 1, 0, 1, 1, 0, 1, 0, 1, 0, 0, 0, 0, 0, 0, 1, 0, 0, 0, 1, 0, 1, 0, 1, 0, 0, 0, 0, 1, 0, 0, 1, 1, 0, 1, 1, 0, 1, 0, 0, 0, 0, 0, 0, 0, 1, 0, 1, 0, 1, 1, 0, 0, 0, 1, 1, 0, 1, 0, 1, 0, 1, 1, 0, 1, 1, 1, 1, 0, 0, 0, 0, 1, 1, 0, 1, 0, 0, 0, 0, 1, 0, 0, 1, 1, 0, 1, 0, 0, 0, 1, 0, 1, 0, 1, 0, 0, 0, 0, 1, 1, 1, 0, 0, 0, 0, 0, 1, 0, 0, 0, 0, 1, 1, 1, 0, 1, 0, 1, 1], \"coloraxis\": \"coloraxis\", \"symbol\": \"circle\"}, \"mode\": \"markers\", \"name\": \"\", \"showlegend\": false, \"type\": \"scattergl\", \"x\": [-210, -5, -169, -56, 130, -56, -19, -105, 192, 198, 0, 125, -148, 155, -7, -47, -47, 71, 1, 68, 36, -127, 17, 32, 132, 99, -177, -161, 0, -15, 10, 0, 0, -22, 26, -115, -7, 223, 7, -57, 65, 95, 21, -12, -185, 133, 0, 233, 0, -43, -108, -43, -122, -114, 15, 155, -103, 174, 125, -37, 110, -228, -198, 76, 31, -153, 123, -46, 225, 14, 214, -11, -164, 179, 176, -67, 7, 97, 5, -214, 0, -145, -96, 31, -32, 99, 80, 28, -79, 164, -2, 15, -68, 14, -19, 133, -212, -140, 122, 43, 226, -7, 150, 129, 17, 64, 2, 204, -135, -30, -192, 231, -35, -11, 0, 207, 117, -207, 4, 154, 151, -90, -81, 2, 94, 10, -136, 13, -3, -3, -119, -81, -4, -13, -42, 84, -4, 9, 204, 4, -97, -187, 23, 129, 13, 174, 51, 2, -101, -5, 7, 140, -158, -2, 24, -7, 74, 7, -4, -122, 73, 72, 135, 90, -4, 17, 230, -172, 17, -160, 159, -70, -19, -30, 163, -205, -226, -227, -189, 51, -78, 91, -207, -114, 111, 113, -175, 228, 236, 24, -17, -117, -103, -25, -143, 155, 5, 163, -127, 32, -130, 37, 18, -235, -223, 119, 230, 210, -138, -202, -175, 28, 201, -186, 233, 15, 163, 63, 9, -8, -64, -221, -84, -117, -19, 140, -198, 12, -8, -8, 6, -21, -60, 173, -145, 187, 139, -4, -4, -22, -19, -194, 53, 12, -7, 189, -13, 108, 177, 137, 72, -10, -168, 160, 149, -177, -163, -169, 24, 197, -49, 97, -207, 124, 1, 73, 223, -11, -17, 170, -52, 193, -120, 20, -13, -180, -45, -193, 107, -48, -141, 187, -56, -59, -4, -144, -155, -21, -164, -217, -240, -229, -5, -232, 43, -229, 127, 27, 59, 148, 9, 9, 223, 24, 1, 48, 10, -237, 6, -131, -171, 141, 241, 5, 159, 237, -228, -146, -11, 27, -231, 160, -133, 94, -160, 113, 45, -174, -106, 180, -22, 53, 19, -233, -6, 95, 147, -149, -239, -156, -182, 129, -6, -231, -43, -57, -221, 56, -190, -19, 9, -149, 47, -237, 114, -155, -16, 21, 116, 227, 97, -4, 7, 2, -157, 45, -163, 87, -16, 163, 54, -138, -123, -7, -2, -62, -148, 103, 114, 65, 37, -234, -2, -150, -51, 185, -201, -11, 25, 7, -25, 144, -112, -6, -16, 152, -196, 20, 94, 0, -97, -48, 86, 232, -13, 138, 125, -157, 15, 239, -110, -24, -108, 175, 174, -201, -150, 129, -119, -147, 123, 174, 8, -187, -34, 2, 127, -61, 18, 137, 54, 168, -235, -6, -2, 9, 177, 3, -231, -87, -1, -31, 116, 95, -1, -89, -147, 6, -127, -119, -240, 28, 12, 1, 64, -23, -119, -229, -169, -187, -6, 132, 236, -197, -8, 16, 76, -150, 204, -166, 223, -177, -123, -179, 53, -174, -41, -18, 2, -143, 117, 43, -196, -235, 198, 159, -116, 12, -18, -4, -58, -3, 131, -163, 141, -108, 17, 119, 15, -78, 185, 108, 34, 228, -248, 240, -188, -5, 5, -6, -146, -13, 105, 64, -10, -183, -106, -158, -7, 40, 9, 158, 61, -62, 39, 124, 84, -8, -181, 235, 20, -60, -7, 129, -54, -27, -101, -2, -123, 127, 7, -19, -174, -101, 6, -2, 173, -19, -32, 0, 0, -155, 6, 169, 133, 14, -174, -238, -23, -201, 12, -24, 103, 176, 155, -227, 38, 149, 15, 104, 174, -173, 7, 64, -120, 232, -223, 189, 149, 240, -16, -218, 131, 6, -226, -163, -52, -101, 218, 189, 59, -199, -13, -233, -1, -24, -8, -81, 34, -156, 84, -6, 24, 173, 15, 17, 6, -180, 12, 128, 53, 146, -233, -204, -32, 150, 32, 152, 6, 72, -9, -89, -180, 193, 80, 1, -7, 106, 24, 53, -89, -86, 1, -57, -164, 9, -207, -51, -179, 150, -38, -128, 9, -76, 0, -161, -2, -140, 6, -75, 1, -52, -7, -82, 0, -8, -10, -198, -215, 222, -5, -160, -155, 92, -152, -125, -232, 58, -228, 30, -5, 32, 235, 19, -235, -73, 147, 1, 147, 21, -114, -30, -32, -149, 88, -15, -5, -237, 144, -15, -112, 78, 14, 72, 107, -27, -128, 104, 158, -30, -84, -191, 10, -140, -190, -202, -102, -175, -97, 43, 121, 3, 12, 12, -168, 3, -229, -201, -175, 29, -127, -86, -108, -147, -235, 107, -16, 53, -188, -6, -237, 78, -105, 113, 39, -4, -136, -234, 6, 28, 106, 6, -8, -8, 47, 36, -27, -104, 16, -37, -16, 2, -105, 157, 145, -201, 174, 2, -41, -4, 122, 133, -105, -182, -182, 43, -2, 60, 138, 86, -23, 168, -78, 129, -161, 127, -223, -158, 29, 166, 78, 64, -112, 76, -10, 231, 86, -14, -7, 1, -139, 14, 13, -94, 150, 143, 78, -13, -171, -112, -183, -192, 23, 181, -5, -205, -67, 0, 5, 125, 75, -112, -14, -199, 0, 91, -203, -7, 158, 169, 117, -24, 120, -76, 228, 138, -156, -117, 76, -226, 160, 19, 133, 45, -20, 127, -189, -150, 0, -187, 124, -61, 119, -209, -205, 140, -57, 151, 36, 90, 151, -97, -40, 209, 30, 9, 37, 168, -22, 43, 91, -60, 36, -226, 176, 28, -7, 226, -202, 26, -35, 8, -190, 13, -193, -206, 26, -64, 54, 6, 10, -55, -1, -223, -7, 136, 179, -13, -14, -101, -133, -20, 193, 76, 78, 118, -197, 0, 12, 149, -199, 1, -15, -207, 231, -86, -43, 130, 2, 214, 105, -119, -89, -199, -51, -235, -233, -171, 113, -232, 147, -164, -97, 47, 20, 59, 4, 187, 4, 88, 203, 146, -109, -21, 53, 159, -213, -226, 27, -21, 135, 87, -38, -230, -18, -119, -95, 192, -108, 162, -207, 231, 157, -232, 8, 32, -202, -18, -122, 113, -90, -165, 1, 94, 9, 0, 0, 141, 4, 173, 150, 172, -5, 14, 24, -157, -196, 32, -30, 67, -16, -2, 204, -225, 148, 9, 19, 92, 109, -2, -232, -19, -180, -155, 31, -154, 171, 207, -18, 166, 137, 157, -32, 16, -153, 223, -39, 82, -160, -117, 165, 62, 55, 72, -8, -239, -149, 89, -18, 138, -155, -108, 7, 7, 24, -202, 6, 56, -185, -204, -178, -149, -116, -196, -78, -98, 50, 15, -32, -87, 177, -4, 0, 124, -169, 9, 0, -228, -81, -8, -90, -32, 12, 31, 10, -223, -5, 7, -120, -93, -4, 132, -2, 20, 91, -160, 143, 125, 64, -234, -127, -191, 0, 228, 138, 99, -117, -18, -19, 1, 0, -227, -125, -106, -231, -232, -131, -180, 67, 65, -16, 20, -188, -62, -16, 69, 73, 6, 68, 209, 168, -179, -14, -214, -127, -16, -235, -13, 171, 130, -19, -232, -19, 53, -101, -7, 0, 10, 25, -184, 32, 110, -76, 58, 48, -245, 88, 10, 230, -127, -14, 2, 14, -149, 134, 0, 176, -205, 11, 163, -32, 106, 94, -233, 207, -227, 173, -57, -13, 15, 163, 138, 174, -30, -114, 0, 132, 65, -158, -4, -128, -190, -11, -86, -103, -161, 61, 91, -231, -91, 164, -114, 223, 170, 129, -25, -98, 19, 0, -223, 12, -2, -228, 40, -100, 130, 193, 138, -109, -134, 136, 146, -8, 227, 130, 9, 151, 89, 76, 223, 124, -136, -30, -20, 84, 0, 155, -228, -206, 153, 125, -175, -177, -163, -128, 67, 26, -9, 223, 125, 119, 123, 100, 168, -116, 6, -11, 10, 18, -3, 9, 156, -100, 230, 236, -34, -191, -235, -224, 86, -117, 0, 1, -127, 114, 4, -92, -112, 45, -5, 16, -94, 173, -37, 158, 13, 12, -205, -171, -194, 115, -2, 0, -8, -235, 144, -142, -105, -4, 133, -180, 20, 145, -169, 143, -200, -10, -8, -68, -231, 140, -235, 25, 102, 122, -101, -233, -13, 138, -27, -8, -161, 133, 117, -232, -168, 120, 78, -185, -14, -194, -46, -166, 1, 116, 1, 10, 9, -15, 174, -99, 89, -242, -220, 2, 191, 32, -207, 193, 15, 65, -16, 103, 155, 209, 65, -15, -56, -10, 130, 0, 1, 8, 103, 8, 53, 32, -123, 31, 17, -237, 200, -7, 12, -65, 6, 24, 28, 181, 65, -60, -237, -10, 114, 39, -1, 113, 158, 114, 163, 31, 12, -136, -108, -102, -128, 14, -157, -132, 230, 20, -199, -191, 23, 27, 14, 56, 225, -142, 82, 163, -155, 241, 204, 10, 205, -14, 9, -235, -210, -171, 103, -84, 67, 127, -8, 111, 236, -204, -116, 6, 26, -19, -133, 7, -205, -225, 89, -128, -152, 179, 76, -221, 87, -153, -82, 10, 22, -105, 73, -22, 106, 129, 234, 4, -11, -138, -116, 86, -9, 200, 214, 228, -130, 23, -196, -76, -229, 47, 2, 110, -175, 12, -78, 233, 110, 28, -37, -11, -16, 236, 191, 78, -98, 19, -175, 158, 155, 39, -84, 191, -32, 54, 38, 4, 0, -224, 119, 2, -209, 1, 165, -24, -4, 185, -232, -234, 64, 230, 184, 163, 94, -56, -102, 232, -205, -230, 215, 22, 237, 9, 232, -171, 129, -225, -215, 15, 2, -145, 143, -73, 9, 239, -52, -75, 64, -21, -2, 100, 115, 158, -229, 10, -2, -46, 12, -6, -45, 117, -128, -98, 194, -47, -1, 104, -3, 27, -13, 231, 51, -95, -21, -240, 139, 190, -106, 222, -112, -43, 207, -22, 110, -3, 124, 16, 33, -112, -12, -116, -126, -111, 173, 231, 12, 19, 177, -119, 15, -4, 200, 166, 87, 232, 235, -161, 140, 221, 31, -235, 209, 43, 10, -1, -225, -169, -201, -5, 10, 61, 12, -119, -7, 154, -64, 195, -9, -229, 1, 181, 239, -22, 4, -92, -192, -16, 21, -226, -128, -92, 179, 160, 236, 20, 171, -235, 234, 15, -81, -108, 0, 84, -4, 196, -11, -199, -2, 232, 37, 0, 35, -234, -171, -89, -5, 125, -4, -156, -57, 18, -32, -6, -221, -158, 159, 166, 2, -138, 154, -221, -199, -210, -154, 8, -18, 20, 151, -188, 131, 175, 228, 79, -82, 184, -116, 62, -37, -4, 192, 234, -199, 9, -4, -172, -18, -7, 18, -98, 209, 50, -142, -53, -7, -10, -2, 152, -153, 120, 23, 175, 17, -122, -158, 189, 70, -9, 11, -133, -232, 39, -9, 24, -209, -144, 184, -19, -19, 13, -18, -8, 231, 143, 224, -117, -237, -194, -168, -155, -131, 113, -92, 39, 177, 94, 14, -106, -122, -152, 77, -174, 6, -52, -67, 10, 230, -30, 10, -122, 163, 0, 9, 19, 48, 78, 236, 6, -214, 144, 102, -222, -157, 9, -152, -5, -194, 230, 0, -14, 15, 51, 154, 46, 99, 174, -202, -106, 29, -8, -125, -8, -149, 9, 15, 51, -209, 90, 189, -13, 169, -235, 220, 120, 179, -237, -213, -137, 40, 0, -18, -103, 84, 9, -101, 160, 155, -108, 84, 227, -204, -183, 18, -153, -23, -89, -15, -1, -231, -48, -2, -7, 212, 15, -78, 9, -82, -7, -237, -5, 89, 226, -10, -212, 125, -13, -9, -229, 21, 83, -158, -212, -149, -13, 20, 2, 80, -147, 22, -25, 155, 6, 15, 240, -7, -16, 74, 7, 61, -5, 79, 20, 141, 108, -155, -21, 14, 69, 18, 51, 48, 187, -16, -175, 177, 234, 150, -127, 24, 2, 120, -145, 13, -10, -106, -55, -55, 141, -16, -98, -228, 207, -112, -215, -9, -144, 102, 69, -100, 148, 155, 80, 233, 149, -96, 103, 5, -228, 37, 0, -15, 50, 151, 4, -59, -102, 127, 115, -185, -97, -87, -213, 228, 227, -211, 114, 225, 196, 7, -190, -11, 147, 141, -127, 40, -22, 39, 18, 17, 160, 18, -153, 23, 7, 185, 59, -4, -96, -97, 15, -46, -233, -130, -196, 157, 2, 235, -230, -97, 13, -2, -90, -111, 121, -123, 1, -229, 123, 40, -15, 57, 138, 185, 230, -23, 187, -4, 99, 170, -7, -166, -11, -38, -138, -7, 106, 88, -14, -232, 4, 17, 122, 209, -144, -7, -158, -130, -172, -22, 184, 226, 34, 137, 127, 107, -5, -183, -177, -2, -125, 17, 24, 113, -103, 237, -131, 82, -59, 62, 3, -133, 24, 8, -104, 3, -172, -19, 10, 166, -16, 9, 94, -101, 0, -16, 6, 105, 234, -10, -15, 103, 10, 53, -81, -8, -191, -228, 213, 127, 114, -10, -78, 45, 4, -11, -153, -67, 140, 228, 115, -138, -18, -60, -230, 58, -11, -10, 213, 143, 67, -19, 204, -158, -30, -4, -153, -145, -7, 28, 122, -235, -111, 196, -158, 92, -7, -194, 227, 4, 228, -231, -189, 97, 111, 224, -4, 101, 0, 10, 28, 227, 84, 216, -179, -5, -71, 0, 130, -161, 99, 6, 45, 144, 0, -234, 222, 62, -142, 180, -191, 6, -75, -14, 69, -196, 119, -7, -126, 232, -11, 91, 111, -110, -235, 0, 0, 109, 0, 130, 108, -134, 0, 4, 9, -175, 136, -234, 236, -238, 39, 114, -73, 106, 72, 215, 0, 192, 163, 141, -204, -78, 4, -55, -56, 12, -201, -92, -172, -228, -202, -2, 158, -142, -92, 6, 134, 132, -54, -177, 116, -59, 225, 184, 181, -122, 61, 217, 175, -18, -8, 1, 23, 10, 179, -21, 9, 63, -7, 20, -10, 18, 231, 71, -4, 121, -86, -204, 112, -17, 55, 163, -13, 91, -30, -237, -205, 15, -229, 177, 69, 198, -161, 73, -111, 54, -21, -67, 234, -155, -145, -43, -171, -186, -105, 146, 236, -24, -178, -172, 200, -76, -10, -146, 10, -142, -205, 159, 56, 20, 112, -232, 2, -232, 4, 32, 13, -127, -50, -122, -155, -27, 84, 6, -1, -198, -130, -107, -155, -111, 118, 75, 155, 13, -16, 0, 17, -16, 2, 1, -7, 186, 144, 18, 94, -22, 114, -166, -209, 9, -52, 30, 122, 151, 165, -8, -5, -16, 78, 9, -59, -119, -174, 158, 144, -161, -123, 132, 48, -60, -165, 58, 1, -110, -179, -45, -144, -96, 92, -108, -2, 128, 173, 187, -8, -242, 53, 148, 91, -71, 9, 214, -230, -164, -11, 6, 181, -116, -79, -242, -227, -7, 0, 21, 61, -2, -71, -160, -229, -133, 12, 65, 80, 0, -133, -10, -7, 225, -131, 57, 2, 65, -30, 145, 206, 11, 76, 163, 92, 192, 103, 231, 1, 153, -221, -153, -71, 65, 230, 189, 13, 228, 204, 228, -4, -67, -158, 133, 21, 225, -165, 74, 168, -13, 119, 129, 95, -17, 73, 20, -187, -7, 24, 60, 239, -2, -76, -166, 220, 176, 78, 174, 152, 144, 125, 81, 123, -229, 140, -230, -3, 27, 75, 133, 157, -10, 7, -176, -14, -11, 225, 79, -201, 120, -130, -157, 118, 7, 25, 6, -232, 50, 5, 45, -167, 210, -40, 74, 7, -19, -64, 69, 51, 61, -7, 122, -190, -12, 37, 192, -207, 158, -48, 10, -219, -4, 0, -2, 181, -40, 1, -193, 20, 236, -69, -16, 122, -147, -76, 231, -2, 0, -102, 151, -46, -243, 135, 2, 227, -213, -16, 7, -102, -18, -35, 2, -109, 214, 101, -123, 151, -26, -105, -20, 234, 66, -196, 19, 166, 28, 33, 89, -60, -27, -16, 231, 88, 165, 2, 139, 97, -169, 0, -192, -143, -81, -14, -90, 128, -68, 2, -171, -90, -215, -163, 48, -11, -194, 4, -95, 88, -26, -112, -89, -197, 128, -7, 218, 12, -114, -24, 221, 168, -204, 7, 108, 155, 13, -166, 17, -148, -10, -180, 6, 2, 78, 3, -142, -92, 206, -234, 1, 43, -19, 125, 182, 222, -151, 2, -239, 84, 68, -1, -215, -27, -13, 9, -130, 7, 133, 159, 23, -1, 121, -16, -121, 83, -4, 1, -150, 21, 5, -158, 166, 60, -108, 2, -27, 110, -222, -225, -108, 147, -198, -155, 24, 130, 2, 0, -235, -161, 61, 64, 0, -43, -169, -152, 152, 0, 171, -23, -19, 100, 89, 215, 77, 71, -188, 151, -93, -112, -13, 154, -40, -24, -237, 226, -19, -1, 99, 159, -179, 2, -2, 168, 13, -183, 24, 7, 56, -168, 141, 141, 127, 141, 1, 168, -155, 179, 0, 197, 113, -10, 126, -4, 212, 95, -235, -38, 69, 78, -52, 39, -97, 187, -37, -26, 21, -9, 10, 204, 120, -95, 4, 176, -17, 18, 121, -5, -23, 110, 233, 196, 205, -7, -26, 231, -231, 2, -3, 0, -14, 57, 9, -234, -1, 1, -4, -152, 0, 23, 12, 173, -37, 78, 160, -22, -57, -13, 43, 125, -183, -114, -130, -175, 10, 81, 14, 27, -1, 216, 190, -184, -19, -2, -55, -233, 53, -73, -16, 62, -198, -221, -21, -128, -196, 48, -150, -19, 42, 161, 32, 40, 81, 138, -11, -243, -16, -187, -64, -16, -97, -200, -7, -224, 4, -40, -134, 8, -1, 119, 155, -75, -123, -1, 102, 2, 48, -125, 149, 187, -199, 210, -2, 121, 28, -49, 113, 88, 6, -8, -126, 13, 10, 218, 105, 88, -75, 159, -8, -234, 64, 81, -226, 236, 15, -158, -193, 146, -210, 10, -231, -93, -233, -179, 108, -165, -174, 225, 109, 58, 12, 118, 3, 189, 2, 146, 0, 9, 15, 75, 28, 176, -94, 55, -234, 83, 156, -191, -15, 1, 45, 6, 9, 147, 23, 24, -45, -229, 78, -224, -17, -4, -87, 119, -148, 195, -7, 226, 4, -150, 112, 1, -228, 105, -14, 217, 157, 152, -207, -239, 6, -78, -235, 136, -131, 106, -123, 86, -207, 150, 173, -4, 231, -2, 193, -230, 28, -229, -2, 114, -131, 86, -14, -34, -225, -226, 20, -166, 176, -15, 20, 55, 141, 52, -186, -53, 28, 17, 233, 75, -166, 130, -12, 1, 92, 36, -192, 2, -134, 149, 121, 4, -226, -100, -230, 228, 147, -119, 100, 94, -164, 106, 51, -204, -147, 17, -238, -138, -30, 151, -209, -59, 48, -237, -26, -197, 78, 155, 24, 204, 33, 6, -60, -165, 62, 122, 58, -212, -228, 10, 76, 71, 169, -103, -26, -166, -76, 15, 65, 0, 207, 19, -153, 65, 231, -4, 4, -30, -187, -14, -9, 86, -13, 226, -221, 80, -24, 177, 14, 91, 4, -1, 144, 21, 7, -19, 232, 5, -130, -202, 3, -230, 0, 5, -233, -210, 10, 110, -75, -43, 132, -171, -171, -13, 102, 174, -179, -19, 23, 113, 189, 20, 53, 0, -2, -115, -196, 121, 164, 9, 22, 124, 9, -18, 20, -111, 26, 157, -233, 212, 6, -2, -192, 70, -237, -120, 144, 4, -230, -9, -168, 14, -102, 220, -227, 24, -123, -141, 56, -82, -176, -220, -147, -225, -238, 153, -238, 12, 6, -18, 89, -17, -106, 4, -112, 149, -196, 2, -9, 23, -122, 96, -176, -106, -89, -131, 228, -224, 83, 3, -204, 128, 26, 78, 53, 0, -188, -98, -34, -144, 173, 162, 69, 233, 0, 230, -138, 14, -180, -60, -81, -207, -178, -107, 4, -100, -128, 127, -130, 64, 130, -196, 17, -209, -133, -232, 28, -168, -223, -59, -148, 28, -123, -153, 80, -5, 40, 102, -55, 125, 0, -53, 10, 14, 130, -22, -2, -23, -155, 162, -201, 234, -207, 82, -58, -38, -191, 89, -157, -67, 190, 223, 6, -147, 176, -161, 138, -176, 24, -65, -231, -157, -226, 187, -196, -171, -7, 9, 165, 101, 230, 98, 230, -13, -194, -212, -108, 0, -176, -125, -201, -35, -100, 8, 138, -156, -205, 129, -237, 61, 0, 127, -180, -37, 96, -231, -210, -142, 81, -12, -24, -7, 129, 77, 46, -76, -152, 136, 117, 0, 70, 10, -111, 0, -67, 20, 72, 146, -18, -180, -4, 114, 7, 2, 235, 154, -112, 23, 209, 144, -224, -11, -237, -22, -150, 121, 17, -165, 6, -4, -120, 71, -166, 93, 179, -228, 111, -111, 0, 12, -13, 63, 28, 42, -4, 125, -64, 157, 60, 9, 215, 63, -147, 6, -234, 190, 13, 171, -19, 122, 78, -232, -183, -185, -210, -131, -13, 106, 161, 108, -11, -34, 58, 124, -11, -16, -147, -233, -98, 136, -179, -37, 20, 83, 20, -234, -10, -222, -127, -215, 105, 109, 143, -186, 1, -66, 40, -23, -19, -96, 82, -86, -86, 232, -169, 10, -22, 35, 90, 24, 9, -207, -52, 211, 203, 54, 110, 27, 227, -141, 105, -108, -11, 227, -232, -154, -17, 168, -232, 10, 65, 0, -190, 9, 114, -34, -99, 152, 86, 176, -63, 1, 156, 114, 179, -11, 29, 49, 92, -89, 13, 40, -122, 176, 46, 195, 236, 227, 7, -97, 186, -6, 13, 32, -168, 0, 18, -110, 81, 54, -234, 151, -168, 167, 102, 75, 6, 138, 192, 207, -38, 23, -172, 241, -1, 119, -202, 2, 0, 138, 230, -73, 83, 22, -10, 228, -196, -175, 122, -6, 61, 17, 217, -35, -120, 64, -239, 2, 225, 154, -234, -3, -233, 138, 10, -133, -178, -55, 155, -4, 111, -235, 8, 15, 12, -19, -93, 37, -48, 6, -228, 181, 225, -120, 78, -163, 119, 23, 125, -155, 15, 20, -37, 97, -8, 4, 59, 43, -155, 132, 0, 211, -146, 174, 124, -136, -29, -6, -171, 207, 233, 233, 75, -60, -5, -98, 119, 0, -177, 40, 9, -40, 59, 13, 179, 54, 70, -222, -35, 23, -60, 240, -210, 15, -192, 17, -32, 32, -176, 9, -82, 146, -15, 151, -90, -52, 6, -141, 59, -232, 27, -217, -22, -219, 158, -56, -214, -90, -70, -32, -23, -229, -34, 135, -1, 4, 17, -228, 12, 15, 23, 141, 236, -183, 160, 134, -56, 225, 12, -5, 215, 221, 31, 36, 185, 4, -109, 233, 158, -30, -209, -204, 4, -174, 18, -41, 62, -174, -111, 140, -73, 92, -2, -27, 114, 10, -60, 96, 48, 3, 77, 112, 157, -11, -201, -105, 176, -155, 20, 149, -161, -4, 100, 23, -134, 165, -3, 173, 91, -2, 235, 83, -9, -15, 189, 4, -46, -60, 138, -154, -166, -20, 185, -243, 181, 236, 81, 74, 166, -128, -205, 228, -240, 174, -237, -57, -166, 204, -95, -111, -10, -242, 36, 102, -224, -136, -108, 20, -169, 6, 9, -193, -11, -59, -209, -153, -7, -15, -79, 92, 30, -222, 233, 9, -138, 6, 222, 223, 23, 66, 90, -187, 81, 0, -170, -65, 225, -172, 67, -48, 56, 233, 20, 163, -62, 0, 28, 155, 232, -7, 160, 149, 48, 141, 106, 155, 23, -116, -213, -114, 88, 3, -201, -126, 130, 24, -4, 47, -220, 25, 10, 144, 64, -24, 47, 106, -74, 121, -11, -73, 18, -1, -15, -8, 9, -62, 46, 223, 133, 157, 160, 106, -5, -21, 163, -73, 65, 0, 218, -97, -205, -92, 26, 143, 130, 26, -228, 9, 2, 123, -4, 32, 0, 46, 155, -231, 31, -5, -1, 119, 122, 9, 174, -24, 4, 2, -146, -4, -209, -2, 22, 195, 61, 201, -38, -229, 6, 31, 42, 2, 12, 128, -116, -119, 223, -11, -14, 0, -166, 2, 1, 114, 163, 60, -10, 23, -166, -227, -56, -71, 18, -163, 147, 96, -209, -3, 28, 62, -11, 95, 168, -9, 14, 23, 128, 59, -199, 228, -52, 84, 163, 135, -92, 7, 46, -4, 1, 138, 12, 22, -14, -158, -63, -7, -19, 135, -123, -13, 181, 3, -220, 209, -231, 160, -238, 72, 51, 212, -13, -149, 77, 13, -143, -133, -123, 32, -19, -225, 131, -125, -2, 56, 105, 83, 100, 189, 46, -132, -29, 92, -7, -92, 62, 13, 163, -147, -103, 164, -136, -194, -37, -168, -201, 138, 82, -24, -191, 230, 8, 117, -106, 4, -140, 148, 11, 232, 12, 177, -35, 104, 2, -209, -4, 9, -6, 9, -119, 35, 156, -48, -8, -155, 38, -9, 4, 126, 247, -3, 209, 168, 192, 12, 17, -86, 99, 20, -59, -170, -118, 15, -237, 154, 0, 92, -185, -235, -205, 6, 12, 110, -204, -5, -237, 197, -40, -225, 0, 209, 1, -166, 111, 18, -29, -160, 15, -168, 36, 2, -183, -161, -25, 11, -243, 88, 143, 0, -127, 0, 168, -136, -228, -95, 58, 184, -217, 133, -1, 0, -213, -29, -199, -6, 100, -185, -2, 204, -4, 1, -101, 133, -114, -177, 117, 28, -127, 227, 0, 226, 230, -139, 184, 89, 7, -226, 164, 69, -231, 218, 0, -213, 135, -6, -6, -61, 193, -110, -62, 4, -117, 6, -163, 146, 9, 74, -230, 15, 17, -146, -220, 37, 42, 99, 105, 5, -218, -90, 91, 81, 59, -11, -125, 103, 100, 0, -160, -17, -112, -106, -160, -87, 97, -11, -22, -76, -229, 99, -130, -218, -168, -120, -7, -144, 177, -33, -194, -92, -27, -169, 0, -5, -155, 160, -13, -8, -78, 229, -205, -6, 9, -5, 8, 122, 0, 24, -4, 178, 6, 0, -178, 18, -188, -68, 9, -161, -232, -34, 9, -185, 112, 14, -166, 37, -2, -50, 198, 164, 2, 103, 13, 81, 10, -34, 91, -18, 33, 147, -234, 181, 51, 127, -155, -232, -177, 43, 81, -54, 114, -13, 179, 162, 30, 11, 191, 18, 138, -35, 190, 152, -146, 0, 163, 190, -2, 195, 18, 7, 0, 217, -8, -114, 140, -152, -166, 125, -174, -160, -136, 143, 119, -29, 181, -215, 144, -114, 7, -177, 122, -228, -17, 130, -34, -19, 10, 4, -226, 155, -73, 124, 108, -122, 20, -151, 102, 141, -93, 9, 27, 147, 186, 1, 171, -228, -68, -52, 12, 2, 107, 226, 136, 1, 9, 14, 23, 189, -68, -16, 21, -19, 13, 6, -27, 144, 141, 0, -231, 24, -9, 141, -114, 15, -93, -210, 198, 15, -124, 19, -228, -25, -60, 165, 106, -71, -10, 192, 10, -128, 118, -235, -163, 2, -25, 0, -158, 26, -150, 67, 168, -228, -127, -142, -122, -10, -217, 31, -40, 26, -237, 26, 4, -19, -171, 120, 98, 50, -93, 110, 180, 237, -222, 61, -229, -7, -228, 124, 189, -20, 4, -89, -30, 112, 234, 133, -62, 1, 225, 220, 143, 226, -160, 100, -138, -45, -230, -215, 18, 9, 72, 118, 140, -48, 12, -11, 75, 9, -2, 73, 2, 1, 200, 26, -221, 15, 151, 47, 110, 233, -164, -191, 100, -117, 62, 50, 20, -203, -67, -182, -13, -239, 193, 133, -204, 23, -83, 126, 168, 25, -9, -5, -60, 193, -114, 73, 9, -236, 226, 151, -125, 70, -92, 38, -170, 0, 143, 21, -5, -84, -149, -26, 171, 114, -23, -226, 0, -134, -29, 140, -2, -7, 164, 7, -22, -34, -17, 0, 76, 15, -198, 1, -116, 17, 94, 130, 147, 114, 6, 65, 38, -194, -196, 92, -8, 15, 241, 1, 53, -168, -11, -5, -240, -172, -15, 21, 10, -60, -213, -13, -73, 37, -57, 42, 19, 0, 9, 94, 154, -76, 107, -67, 12, -153, 205, 152, -12, -161, 36, 54, -17, -45, 214, -70, -142, -35, -172, -237, 12, -46, 114, -101, -180, 201, 15, 141, 78, 13, 21, 140, 193, 145, -111, 136, 237, -122, -43, -194, 5, 205, -199, -131, -232, -78, -163, -75, -27, -196, 109, 8, -37, 121, -6, -18, -19, 0, -123, -1, -139, -98, -16, -117, -139, 42, 2, 109, -19, -95, -82, 0, 42, 95, -210, -225, 135, 50, 130, 1, -143, -86, 0, 0, -15, 6, 70, 214, 93, -20, -190, -11, -231, 48, -62, 190, -7, 204, -100, -144, 86, 133, 242, -43, 21, -232, 12, -2, 70, -156, 102, -23, -125, 118, 7, 84, 163, 136, 84, 217, 144, -195, -38, 166, -6, -1, 225, -97, 61, -163, 236, 120, 4, -164, -42, -12, -179, -115, 192, 89, 161, 201, -6, -55, 18, 138, -65, 19, -134, 17, 29, 152, 10, -19, -188, -109, 18, 0, -170, -79, -32, 217, 152, -65, -237, 10, 0, 97, 103, -20, -153, 6, -215, -186, -16, 120, -30, 87, -158, 18, 220, 8, -98, -193, 81, 21, 1, 10, -210, 7, -108, -7, -32, 154, 108, 120, -149, 12, 17, -1, -2, -155, 141, -92, -70, 62, 24, 14, -11, -232, -147, -12, 59, -5, -117, -107, -6, -133, 2, -95, 2, -81, -168, -131, 59, -100, 50, 145, -9, 121, 67, 20, 228, -204, -108, 97, 122, -168, -240, 168, -76, 36, -210, -65, -5, -60, 10, -111, 9, 19, -155, -40, 159, 4, 3, 128, -160, 205, 9, 224, 132, -122, -23, 103, 1, 1, 1, 7, 12, 169, -101, 4, -26, 4, -160, -250, 138, 0, 69, 61, -219, -13, -232, -168, -87, 174, 138, 21, 1, -8, 132, 9, 9, -221, 30, -202, -171, 11, 143, 146, -169, 162, -21, -210, 156, 24, 74, -217, 0, 153, 185, 45, -142, 136, 159, -163, 164, 1, 182, -145, 18, -47, -5, 140, 77, -98, 55, 10, -172, 184, -45, -136, -168, -18, -9, 177, 150, -7, -68, -14, -106, 88, 186, -232, -228, 206, 171, 35, 1, 18, 32, 0, 171, 76, -62, -29, -3, 113, -2, -90, 151, 157, -108, -207, 31, 51, 98, 70, 184, 95, 197, 125, 106, -116, 7, 210, -58, 97, -214, 133, 114, 1, -50, 144, 13, 0, -225, 132, 23, 2, -16, -207, -187, 26, 114, -1, 10, -117, -178, 112, -109, 6, -150, 205, 147, -65, 0, 105, -94, 226, -164, 97, 121, 118, -235, 10, -73, 13, 14, 201, -41, -21, 227, 125, 24, 125, -73, -133, 37, 25, -128, -193, 58, 154, 125, 0, 78, -68, 20, 39, 24, 55, -151, -4, 18, 10, -183, -128, 147, 54, 80, -134, 91, 233, 105, 184, 154, -231, -176, 231, 39, -93, 204, -15, 127, 99, -53, 58, 31, 0, -4, 59, -79, 8, 209, -14, 110, 24, 206, -228, 0, -234, 111, -2, -133, 200, 157, 236, 15, -232, 115, 7, -11, 149, -108, 9, -152, -24, -9, 132, -226, -132, 115, -177, -231, 187, 4, 184, -235, 226, 2, 6, -182, -8, -195, 122, -16, 2, -150, 193, 37, -237, 53, -48, -133, 209, 127, 5, -127, 0, -120, 145, 132, 143, -233, 58, -41, 146, 4, 87, -7, 154, -15, 0, 152, 112, 222, 48, -148, -156, 87, -232, 1, -125, 10, -114, -1, 204, 43, 28, 2, -1, 4, -117, 244, -3, -166, -125, -242, 173, 135, -3, -91, -32, 239, -11, 24, -87, 106, 146, 166, 54, -101, -10, -54, -112, 52, 0, 0, -207, 135, 186, 24, -138, 106, 192, -125, -196, -2, 225, 62, 0, 105, -68, -89, 9, 32, 116, 16, -207, 187, 125, 25, -128, -163, -166, 184, -146, 80, -138, 135, -1, 209, 77, 17, -1, 138, 230, -21, 177, 61, 48, 9, 9, -2, -123, -33, 235, -234, -52, -11, 204, -166, 9, -227, -174, 88, 149, 119, -234, 3, 114, -207, -2, -91, 21, -30, 6, 146, 48, 99, 36, -201, -111, -138, 13, -123, 149, -70, 1, 20, -106, 71, 187, 212, 171, 150, 144, -10, -228, 133, 146, -242, 0, -5, 144, -193, 6, -226, -11, -201, -144, 129, 97, 163, 194, 64, 13, -138, 163, 225, 0, 0, 197, 217, 9, -127, 45, -95, 220, 116, -160, -130, 29, 18, 77, -63, 17, 4, -11, 68, 106, 230, 0, -21, -152, 122, 114, 48, 3, 155, -190, -122, 216, -18, 7, -172, 129, 3, 126, -70, 24, -53, 2, -141, 15, 28, 145, -29, -194, -103, 140, 122, 54, -52, -3, -185, 1, 4, -75, -130, -16, 43, 91, 15, 107, -51, -2, -171, 65, 121, 99, -109, -97, 207, 15, -127, -114, -123, -78, 122, 4, 97, 198, -64, -131, 64, -21, -234, 184, 77, 62, -79, 2, -165, 9, -177, 146, 106, 168, 181, 21, 100, -4, -234, -111, 149, 184, -196, 12, -99, 8, 129, -11, 240, 13, 81, 184, 134, -210, 118, 9, 64, 110, -79, 163, 168, -8, 22, -2, 105, -185, -148, 142, 12, -123, -202, 0, -170, 192, 32, 61, 36, -186, 28, 61, 1, 20, -89, 210, 19, -98, -145, 24, -209, -228, 55, 10, 119, 6, 111, -156, 157, -177, 103, -11, -227, 50, 9, -105, 1, 202, -168, 129, -32, -119, 92, -134, -10, -68, 174, 0, -105, -174, -19, 1, 7, -73, -15, 165, -6, -2, -188, 91, 192, 86, -81, 0, 36, -24, -1, -140, 192, 228, -1, 18, -7, 59, 69, 119, -11, 125, 100, -7, 6, 132, -6, 24, 29, 21, 0, -137, 83, 135, 20, 27, -125, -24, 68, -27, 1, -96, -117, 168, -53, -196, -169, -199, -131, 113, 169, 170, -155, -140, 116, 28, 8, -19, -137, 4, -150, -188, -229, 157, 1, -101, 94, -232, 181, 120, -210, 221, -91, -2, -130, -2, -90, -75, -11, 154, 63, -73, 96, -16, -229, 144, -226, 116, -30, -19, -2, -19, 120, 119, 168, 230, -29, -19, 110, 34, -23, 159, 129, 42, 54, -10, -20, 159, 105, 114, 9, -100, 133, -75, -15, 190, -23, 0, -46, -212, 86, 12, -213, 43, 9, 133, 158, 91, -45, -19, -2, 20, -204, 28, 207, 96, 12, 12, -2, -15, 159, -235, -177, -26, -2, 6, -120, 6, -218, -234, 119, -237, -89, 0, 158, -238, -14, -216, -226, 17, 203, -147, 174, -146, 119, 0, -234, -4, -96, 212, -8, 0, -2, 34, 12, 24, -130, -166, -7, -4, -179, 148, -130, 23, -157, -11, -30, 112, 70, -24, 233, -16, 118, 13, 128, -147, -179, 109, 222, 189, 0, -208, 17, -10, -119, -231, -184, 20, 237, 2, 97, -82, 81, -1, 121, 182, 180, 118, -67, -161, -19, 124, 7, 49, 14, 129, 236, 177, 51, 191, -18, 125, 100, 97, 58, -143, 140, -75, 9, 40, 140, -119, -50, 2, -42, -156, -70, 13, -116, -5, 14, 159, -43, 4, 13, -15, 9, -30, 89, -25, 147, -202, -221, -122, -73, -223, 49, 144, 163, -143, 143, -185, 115, 168, 86, -16, 154, -222, 22, -228, -152, 198, 225, 7, 138, -163, 132, 9, -219, 39, -180, -105, 56, -142, -133, 206, -209, 42, 60, -78, -232, 112, -168, 95, 26, 232, 15, -45, 225, 69, 0, -53, -116, 4, 88, 110, -127, 77, 73, -91, 84, 119, 231, -139, -117, -4, 234, 116, 50, 45, 198, -155, -183, 54, 32, -148, 12, 195, 176, -15, 17, -109, -35, -52, 1, -68, 167, 166, 45, -133, 147, 74, 34, -168, -224, -15, 5, -11, 73, -127, -29, 184, 30, 42, -11, -158, 17, 108, 150, 6, 173, 135, -122, -18, -119, -16, 53, -68, -62, 102, 28, 120, 119, 185, 38, 141, -97, -100, 27, -111, -79, -10, 12, 230, -122, 0, 132, -25, 3, 98, 81, 2, -231, 174, 13, 233, 39, -95, 94, 182, -14, 234, -4, 0, -228, -179, 4, 24, 13, 6, 234, 45, 162, 13, -5, 61, -196, 9, -16, -16, 130, -168, -130, 12, 195, 78, 17, -4, 10, 0, -114, -131, 50, 0, 9, 158, -6, 6, -179, 185, 2, -188, 0, 194, 30, 129, 0, -158, 217, -4, -19, -168, -235, -20, 179, 1, -7, -152, -9, 8, 4, 65, 201, -139, 19, -11, 118, 233, 176, 54, -4, -29, 15, -81, -238, -232, -146, 74, 174, -7, 113, -162, 122, -120, 236, -179, -6, -146, -13, 45, -70, 34, 226, 20, -244, 9, -10, 103, -202, -112, 119, 182, -138, 2, 181, 141, 52, 1, 83, -130, 166, -1, 39, 11, -56, 12, -11, -99, 4, -94, 2, -106, 217, 4, 159, -17, 151, -112, -89, 132, 72, 197, -10, -240, -122, -35, -223, -231, -196, 176, 108, -238, -131, -233, -4, 6, 154, 84, 163, 128, 130, 34, 39, -109, -152, -35, 133, 4, 50, -95, -20, 117, -169, 16, 114, 118, 110, -234, 42, -233, 75, 0, -131, 108, 122, 40, -143, 144, 58, -185, -164, -133, -98, -197, -65, 54, -5, 28, 231, 122, 201, 75, -10, -115, 140, -147, 9, 135, -35, -17, 105, -147, -7, 11, -4, 130, 4, -132, 182, 56, 92, -108, 125, 9, -146, 173, -16, 6, -6, 7, 143, -154, -5, -68, -24, 13, 6, 187, -169, -234, 163, -38, -45, -240, 110, 17, -168, 231, 110, 179, -133, -103, -2, 137, 39, 149, 231, -45, -86, 54, 100, 103, 37, -20, -2, -136, 37, 2, -238, -40, -58, 19, 133, -16, 207, -106, 11, -161, 2, 176, -232, -161, 146, -20, 171, -119, 4, 188, 60, -35, -119, 9, 99, -140, -6, -214, 2, -226, -2, -175, -222, 45, 29, -162, -194, -240, -210, 204, -190, -205, -24, 192, 21, 119, -51, 121, 47, 113, 234, -9, -147, -76, -100, -155, -87, -228, 20, 78, 4, -109, 2, 7, -114, -125, -128, 1, -161, -131, -16, 0, 63, -11, -164, -158, 57, -184, 4, 20, -220, -86, 133, -6, 61, 157, 207, 70, -227, -177, -192, 153, 230, -147, 239, -133, 0, 117, 181, -1, 93, -135, 84, 163, 10, -164, 107, 171, -4, 23, 128, -127, 166, -157, 232, -38, 233, -2, -231, -1, -65, 103, -120, 19, 4, 121, -12, 158, 72, 237, 230, -136, 135, 17, -51, 162, -10, 3, -38, 166, -8, 168, -40, -243, 111, 171, 19, -225, 32, -74, -226, 18, 174, 160, 10, -106, -100, -217, -164, -153, -10, 6, -84, -93, 48, 2, 83, 163, 217, 23, -153, 149, -47, 105, -17, 105, 14, -63, -57, 203, -135, -20, -49, -228, -16, 160, 26, 18, 94, -113, 217, -147, 32, 17, -2, 232, -142, 0, 50, 99, -226, -229, -19, 118, -11, 21, -230, 166, 106, -114, 111, 39, 153, 8, 119, -207, -237, 17, 152, -138, -179, 73, 51, -234, 0, -127, -7, 46, 12, -216, 127, -17, 218, -30, 127, 128, 106, 94, -137, -70, 73, -152, -205, -231, -8, 228, -235, -41, -228, 53, 40, 13, 69, 163, -204, 225, 89, -19, -187, -87, 104, 13, -20, -25, -201, 184, 50, 59, 40, 176, -224, -182, -109, 29, -65, -55, -63, -109, -186, -223, 141, 103, 132, 0, 51, -237, 48, -64, -136, -27, -11, 152, 87, -2, -185, -234, 1, 147, 73, -15, -125, 185, 50, 0, -131, 152, -4, -234, 172, 125, 3, -16, 95, 74, -143, -81, -2, 91, -150, 140, -201, 31, 168, -141, 20, 192, -103, -183, 147, 197, 106, -49, -123, 86, -19, 1, 113, 58, 105, 72, -19, 89, 154, 176, -224, 0, 37, 132, -199, 159, -105, 127, 233, -224, 230, -21, 16, 9, 12, -19, 15, -89, -24, -199, -183, 155, -226, 6, 207, -8, 97, -29, 116, 0, 160, -209, 77, -51, 147, 132, -11, 51, 71, -89, -125, -2, 159, 8, -14, -169, -186, 149, 2, -185, 36, 94, -35, -68, 2, -20, 109, -68, -153, -5, -228, 90, -7, -138, -122, 17, -138, -171, 228, -231, 18, 212, 0, -130, 233, 7, -57, -99, 166, -152, 215, -150, -9, 104, 159, 12, -11, -41, 146, -12, -129, 39, -19, -205, 182, 234, 168, -194, -131, 109, 13, -179, 1, 6, 6, -59, -124, 142, -32, -10, -59, -179, -209, 15, 165, 9, 80, 17, 15, 40, 36, -209, 21, -198, 242, 2, 1, 13, 161, 184, -54, -49, -199, 143, -71, 24, 198, 154, 110, 207, -4, -133, 147, 8, 117, 7, 233, -166, -14, 102, 114, -198, -146, -11, 14, -49, -153, -162, 73, -171, 15, 130, 217, 22, 0, 116, -177, 163, 177, -229, -180, -11, 132, -6, -228, 21, -5, -26, 163, -196, 171, -119, -114, -173, -229, -210, 136, 53, 7, -235, -38, 142, -225, -199, 145, -191, -125, 95, -4, -46, -151, -8, 104, 205, 214, 160, -66, -100, 129, 2, -24, -114, -106, 140, -245, 1, -54, 1, -114, 97, 136, -10, -17, -175, 151, -11, 0, -164, -66, 155, 174, -150, -144, -223, -188, 130, 9, -114, 171, -150, -229, 62, 173, 0, -209, 147, -128, -91, 121, -207, 89, 9, -40, 171, 40, 7, 236, -9, 40, -100, 61, -129, 180, 18, 42, -235, 118, -11, -182, -24, -7, 86, 2, 36, 86, 163, -24, 143, -231, -194, 197, 24, -41, -15, -24, -207, 0, 112, -136, -226, 190, 97, 179, 0, 29, 7, -37, -228, -174, -149, -178, 99, 127, 15, -4, -82, 0, 232, 119, -99, -4, 54, -4, -229, -237, 108, 173, 103, -210, -156, -5, -5, 29, 7, 174, -239, 231, 22, -24, 0, -232, 147, -150, 3, -96, 17, -100, 72, 45, -213, 209, 148, 160, -19, -99, 13, 84, 28, -114, 110, -134, -73, 233, -16, -218, -116, 102, 147, 200, 171, -13, 9, -125, 89, 232, -45, 176, 10, 231, -173, 6, 194, -106, 18, 42, 203, -116, -219, -16, 66, -139, 22, 198, -163, 132, 78, 97, 228, 190, 73, 12, 154, 10, 73, -172, 164, -171, -147, 125, -68, 83, -108, 227, -82, 121, -7, 18, -192, 121, 64, -172, 42, -152, -60, -229, 19, -158, -232, -1, -117, 157, -6, 28, 176, 133, 9, -229, -18, -103, -150, -109, 230, -182, 186, -24, 12, 6, -2, 29, -23, 170, -117, -116, -11, -212, -226, -21, 7, -207, -8, 21, 10, -41, -4, 234, 42, -44, -234, 88, 226, -108, 138, -160, 232, -177, 136, -232, -134, -192, 169, 133, 17, 135, -9, 2, 163, -68, 179, 0, 13, 15, -19, -182, -141, 23, -114, 131, -9, 63, -27, 88, -9, 0, 234, -6, -32, 234, 199, 22, -114, -1, -70, 9, 163, 65, -55, 19, 15, 152, -232, 140, -147, 160, 13, -57, 13, 39, 196, -97, -46, 15, 45, -97, -127, 51, -2, 209, -5, -142, -90, -37, -5, 73, -217, -107, -16, -22, -92, 92, 34, -152, -178, 171, 70, 24, 124, -37, -16, -52, 218, -16, 198, 15, 4, -139, -8, 233, -195, 0, -35, 62, 227, 116, -116, -38, 206, 128, 159, -20, -164, -193, -168, 9, 193, 230, 74, -84, -169, 9, 228, -19, -2, 0, 225, -92, 20, 129, -119, 20, -9, -146, 32, -4, 132, 0, 12, 2, 187, 223, 84, 125, 189, -48, -152, 177, -38, 204, 17, -8, 169, 187, 0, 194, 54, -64, 179, -32, 163, -59, 154, 166, 127, 222, 7, 114, -21, 143, 63, 10, -5, -128, 127, 190, 72, -213, -62, -201, -136, -78, -6, -68, 20, 20, -127, 100, -7, 127, -34, -193, 193, 147, 12, -1, -186, 69, -158, 21, -152, 220, 79, 11, -67, 171, 10, 160, -63, -76, -140, -161, 77, -193, 4, -45, 149, -130, 201, 3, 121, -86, -19, 151, 182, 119, 9, -209, 122, 31, -35, 75, -171, 30, 2, -152, 186, 187, -169, 0, -164, 146, -91, -79, 102, -221, -147, -163, 7, -79, 170, 18, -202, -183, -11, -19, -2, 65, 15, -181, 177, 136, -21, 47, -215, -152, -98, 177, 144, 0, 230, 103, 4, 206, -53, 211, -11, 18, 5, -168, -101, -4, -25, -76, 144, -218, -227, -163, -26, 214, 155, 15, 151, -144, 186, -117, 1, -29, -173, 51, -204, 0, 230, 94, -112, 0, 1, 20, 110, -127, 0, -1, 0, 136, 54, -111, -107, -157, 127, -23, -146, 183, 10, 182, -147, -156, -105, -24, 2, -16, 9, 130, -196, 26, 0, 138, -20, 10, -106, -5, 152, 200, -223, 84, -103, -160, -14, 24, -19, 12, 72, -96, 8, 236, -243, 37, 4, -18, 18, 25, -116, -5, 157, 8, -97, -131, -7, -18, 0, 174, -160, -152, 7, 124, 230, -95, 2, 30, 20, -19, -124, -38, -11, 6, 12, 143, 15, 150, 140, -158, -149, 204, 204, 128, -131, -16, -1, 156, 13, 95, 173, 189, -88, 2, 237, 149, 0, -103, -16, -29, -117, 233, -16, -179, 186, -232, 232, -51, -6, -18, 192, 9, -199, 14, 154, 174, 110, 148, -165, -3, 21, 121, 0, -9, -209, 156, -20, -221, -84, 9, -228, 28, 53, 185, -232, 50, -141, 176, 129, 7, 24, -228, 61, -143, -19, -231, -156, -49, -132, -10, 230, -227, 24, 127, 75, 154, 160, 24, 125, 72, -197, -7, -29, 12, 43, 37, 10, -106, 6, -179, -16, -27, 63, -15, 10, 182, 20, 67, 121, -2, -221, 14, 71, -141, -15, 101, -37, -164, 146, 122, 160, -215, 18, -111, -12, 160, 110, 243, 7, -24, -87, 89, 25, -231, 1, -1, 87, 30, -148, -18, 1, -179, -108, -225, 135, -1, -196, 144, -160, -140, -2, -13, -5, -225, 240, -205, -4, 151, -18, -18, 33, 212, -2, 207, -4, -228, 157, 100, 141, 55, -201, 150, 17, 1, -120, -106, -35, 75, 181, -178, -1, -140, -15, -114, 6, -177, 9, -92, -101, -245, -9, 225, 45, 166, 6, -183, -8, -7, -86, 0, 104, -136, 6, 220, 119, -153, -73, -10, 28, 1, -123, 151, 43, -228, -142, -6, 223, 163, 0, 2, -177, 23, 103, 160, 12, 51, 28, 0, 14, -45, 12, 84, 15, -57, 66, 122, 5, -16, 1, 0, -78, -26, 9, -230, 226, -98, 199, 141, 13, -7, -52, 46, -23, 7, 48, 29, -190, -10, 50, 147, 87, 25, 156, 80, -4, 2, 12, 186, -111, -140, -87, 234, -230, 59, -231, 26, -79, 113, -36, -228, 20, 10, 135, 162, 119, 77, -149, 87, -231, 17, 36, 4, 1, -2, 76, 43, 24, -35, 0, -116, 17, -109, 239, 226, 102, 105, -32, -169, 146, 200, -108, 13, 37, -150, 152, 2, 10, -120, 6, -153, 140, -202, 105, -105, -149, 1, 225, -6, -67, 207, 217, -121, 9, -4, 12, -232, 109, -178, -52, 140, 223, -70, 102, -104, 4, -172, 3, 156, 81, 195, -95, -3, 178, -139, 94, 236, -123, -232, 15, -153, -4, 7, 161, 148, -220, 14, -100, -69, -4, -157, -82, -227, 47, -112, -139, 88, 81, 17, -227, 73, 36, 114, -1, 144, 217, -136, 12, -25, 223, -43, 128, 151, -223, 144, 9, -194, 236, -161, 86, 24, 18, 153, 6, 6, -224, 224, 15, -56, 78, 190, 230, -16, -6, -26, 6, -89, 6, 43, -27, 15, 236, -13, 61, -2, 12, -175, 18, -86, -212, -15, -163, -48, -164, 16, 0, -197, -227, 89, -64, -226, 109, 4, 10, -9, -2, -35, -212, 94, -169, -172, -17, 36, 56, -1, 195, -112, 166, 91, -30, -228, -139, 4, -232, 151, 6, 0, 22, 87, 59, -229, 162, 222, -102, 124, 110, -227, -162, -185, 6, -4, -228, -6, 113, -11, 92, -60, -7, 150, -122, 182, 159, -117, 168, -16, 2, 84, -6, 10, -7, -212, 0, 209, 7, -5, 230, -24, 207, 133, 157, -12, 42, 63, -112, 155, -30, -15, 100, -7, 173, 151, 20, 3, -209, 181, 73, 187, 6, -37, 234, -5, -84, 69, 101, -68, 172, -29, 140, 20, -59, 9, -5, -149, -19, 230, 28, -16, 93, -86, -136, 35, -120, -1, -228, 0, 237, 127, 233, -111, -202, -198, -6, -21, 229, -60, 151, 12, -8, 100, 206, 62, -18, -204, 76, 127, -155, -81, 0, 58, -7, -155, -151, 190, 10, 147, 215, -235, 0, -145, 124, 32, 79, 106, 225, 84, -127, 70, -199, 196, -13, 235, 124, -58, 4, -225, -240, 59, -228, 9, -207, 36, 9, 20, -128, 122, -188, 184, -228, -99, 187, -199, 140, -81, 151, -7, -142, -41, 26, 231, -23, 187, 61, -127, -7, 2, 163, 47, -71, -117, 236, -220, -8, -169, -163, 86, -193, -147, -188, -9, -4, -71, 16, -158, -186, -231, 235, -29, 9, 22, 182, 61, -193, 91, 179, 105, 0, 93, 100, -122, 10, 63, 94, 179, 130, 14, -95, -108, 9, 129, -214, -161, 117, 230, 6, -2, 95, -90, -130, 37, -103, 0, 135, -4, 140, -246, -46, 9, 1, -209, -227, -27, -19, 10, 236, -60, -131, 168, -224, 0, -42, 2, 4, -120, -75, 15, 17, 130, -202, -1, -19, -190, -180, -4, 7, 177, 21, -59, -6, 37, 108, 95, 12, -160, -38, 185, 20, 181, 193, -116, -35, 24, -45, 10, -139, 128, -1, -69, 26, -18, 125, -43, -226, 143, 4, 23, 184, 140, 9, 202, 16, 121, 121, 159, 165, 166, -13, 124, -65, -24, 12, -130, 101, -119, -41, 9, 27, 0, -112, 138, -105, 123, -19, 91, 225, 50, 119, -137, 157, -106, 92, 31, 3, 18, 100, 89, -231, -27, 207, 97, 230, 0, -2, 6, -229, -47, -122, -227, 142, -199, 46, -168, -6, 201, -99, -142, 118, 176, 89, -7, 129, -66, -127, 184, 184, 10, -5, 89, 24, 192, 49, -99, -229, -10, -5, 198, 153, 236, -209, 241, -88, -232, -133, 10, 104, -209, 203, 144, 123, 171, -232, 70, -104, 204, 137, 24, -15, -19, -143, 1, 48, 9, 0, -235, -189, -9, -160, 28, 36, -139, 0, -32, 152, 2, 15, 81, 25, 147, 20, -37, -10, -137, 95, 1, -117, 1, -179, 24, 13, 0, -82, 144, -103, 137, -231, -36, 184, 230, 12, -179, 181, -210, -155, -201, 220, 9, -123, 152, 97, 4, 165, 7, -163, 209, -8, -16, -95, 28, 102, 1, 10, 15, -198, 128, 73, 228, 174, 187, 24, -114, -19, -109, -111, 9, -139, -26, 132, -32, -6, -44, 201, -62, -24, 140, 4, 91, -68, -51, 10, 173, 196, -231, 1, -209, 230, 47, -134, 71, -163, -107, -20, -114, 0, -40, 69, 212, -158, 6, -86, -7, -134, -155, 9, 234, 77, -66, 48, 18, 4, -182, -125, -6, 45, -156, -115, 124, 9, -159, 32, -153, 4, -226, -2, -197, 1, -190, -23, 23, 148, -135, -119, 22, 31, 61, 118, 94, -217, 234, -100, -62, 12, -8, 187, -171, 35, -10, -40, -55, 6, -92, -169, -9, -16, -4, 220, 13, -60, 7, -158, 88, -11, 43, 97, 114, 84, 24, -128, -23, 37, 136, -136, 143, -160, 0, 228, -73, 24, 20, 116, -9, -222, -40, -30, -156, -37, -201, -240, -10, 102, 207, 9, -119, -99, 12, -6, -196, 61, 117, 231, -90, -9, 102, 158, 45, -8, -15, -14, -214, 228, 159, 10, -134, 107, 4, -131, -12, -181, -48, -35, -73, -161, 121, 152, 75, 58, -7, -144, 233, -19, 175, 217, -8, -169, -22, 176, 68, 15, -224, 201, -43, -11, 13, 124, 234, 31, 154, 155, 11, 177, 173, 128, 109, 0, 159, 17, -79, -19, 206, -43, 6, 166, 33, -123, 27, -224, 231, 24, -219, 135, 17, -161, -70, -166, -4, 75, 157, 10, -223, 237, 150, 200, -152, -128, 132, -164, 12, 4, -207, 84, 0, -226, -16, -96, 156, -86, 16, 47, 141, 168, -223, 94, 12, -187, 160, -97, -107, 12, 5, -2, -9, 2, 53, -162, 118, -67, 207, 82, 19, 15, -12, 0, -17, 34, 31, -192, -9, -194, -17, 168, 159, 171, 12, -4, 184, -8, -225, -81, 59, -179, -205, 125, -29, -6, 230, -130, 99, -163, 193, 225, -135, 24, 1, 103, 20, -27, 220, 133, 21, 114, -67, 1, 13, 192, -51, 31, 9, -52, -239, -63, -78, 155, -7, -4, -127, 234, 0, 115, 179, 150, -127, 114, -7, 185, 10, 217, -137, -103, 1, 0, 237, 228, -78, -10, 156, 155, -131, -144, -19, -106, 155, 129, 14, -98, -138, -7, -130, -232, -231, 215, -14, 127, 170, 217, 162, 223, 162, 0, -185, 192, 31, 0, 92, -70, -146, 163, -9, 80, 191, 36, 235, 41, 190, 28, -10, -23, -168, 37, -108, 122, 51, -27, 110, 12, 65, -82, -2, 26, -177, 4, -240, -2, 1, -142, 48, -237, 3, 58, 222, -42, -169, 2, -191, 9, 20, -36, -148, 26, 225, 0, 4, 171, -228, 77, 114, 150, -24, -135, 23, 13, -168, 32, -205, -215, -87, -5, 5, 96, 121, 149, 69, 236, 168, -1, -131, 86, -12, -136, 120, -97, -138, -11, -231, -116, 20, 137, -52, 50, 154, 107, -2, -234, -112, 132, 0, 56, -5, 198, 133, -240, -100, 231, -32, -8, 131, 10, -63, -166, -85, 4, -4, -2, 42, 22, -174, -6, 31, 77, 38, -7, 235, 106, 168, 207, 209, -67, -35, -199, 42, -42, -122, 136, -65, 0, 24, 217, -179, 146, -8, -2, 24, 1, 230, 17, 236, 149, -18, 113, 29, 71, -11, -99, 73, 9, 50, -11, -78, 0, 16, 0, -7, 238, -234, 8, 140, -24, -110, 130, 182, -235, 40, 121, 123, -106, -155, -68, -161, 103, -190, 166, 130, -13, -166, 27, 164, 83, 28, -57, -57, 0, -16, 20, -21, 17, 192, 151, -59, 81, -61, 4, -84, 17, 0, -136, 30, 238, -9, 63, 157, 163, 124, 2, -141, 140, 122, -15, -205, -23, 84, -127, -140, 22, 83, -229, 12, -79, 13, -93, 0, 42, 181, -191, -22, 43, 231, 152, 135, -130, 140, 2, -24, -21, 21, 24, 86, 10, -101, -90, -160, 40, -217, -2, -217, -246, 173, -240, -32, -178, 168, -154, -109, -157, 2, 43, -114, 146, -73, 92, -134, 107, 201, 34, 5, -223, -221, 0, -161, 152, 5, 165, -5, 0, -17, -138, -119, -106, 230, 4, 181, -19, 10, 62, 201, 0, -1, -16, -6, 12, 140, -129, -143, 228, 158, 16, 165, -91, 95, 9, -22, 15, -11, 64, 132, 28, 168, 129, 175, 168, -89, 185, 168, 207, 0, -16, -202, -107, 60, 222, 114, 78, 56, -201, 138, 9, 26, 154, 106, -146, -229, -196, 4, 17, -7, 54, -37, 14, 94, 6, 148, 193, 2, -15, 113, 64, -4, -134, -91, -125, -4, 99, -237, -93, -73, -15, 50, -96, 9, -11, 160, 21, 116, -12, -54, 25, -141, -34, -76, -119, -205, -24, 80, 119, 179, 222, -2, 18, -8, 137, 116, -16, 194, 65, 171, -193, 163, 9, -198, -223, 2, -100, -174, 218, -233, -16, 2, -82, 4, 23, 207, 107, 206, 6, 0, 61, -86, 7, -91, 151, -5, -171, -14, -100, 0, 162, -166, 113, -50, -240, 116, 27, 230, -5, -172, 2, -161, 143, 56, 94, 190, -153, -183, 1, 40, -87, -15, -144, 214, -89, 9, -100, 0, -224, 1, 48, 46, 9, -224, 15, 26, -5, 0, -155, 2, 108, 69, -197, -27, 18, 18, 94, -15, 0, 1, 24, 1, -40, -29, 187, 144, 64, -7, 229, 20, -82, -7, -70, -221, -27, -177, 168, 61, -48, -29, -5, 127, 86, 77, 1, 125, 14, 149, -25, -171, 230, -79, 28, 156, -52, 25, 119, -106, -117, -199, 155, -166, -194, -202, 4, -237, 182, -193, 182, -163, -13, 30, 118, -179, 10, -152, 73, -71, 65, -104, 233, -227, -99, 190, 116, 37, 1, -67, 13, -1, -64, 12, 132, -4, -143, -95, -81, 6, -29, 7, 61, -6, -165, -51, 110, -202, -237, 4, 83, 56, 6, -153, -45, -24, -14, -166, -234, 2, 226, 89, -51, 119, -138, -2, 6, 116, 205, -135, 127, -2, 91, 89, -202, -233, 138, 9, 9, 159, -57, -89, 2, -149, -13, -114, 31, -9, -59, -5, -114, 64, 168, -199, 5, 89, -4, 148, -37, 2, -4, 176, -225, 232, -6, 164, -196, -174, 221, -237, -136, 147, 185, -59, -80, 135, -182, -229, -165, -86, 113, 64, -15, -166, 170, -16, -169, 132, 55, 225, 231, -171, 1, 222, 112, 127, -11, -117, -168, 15, 61, -14, -196, 9, -225, -230, 32, 1, 13, -23, 129, 149, -228, 212, -8, -21, -3, 230, 0, 2, 10, -7, -11, -117, -35, -46, 144, -78, -174, 151, 39, 62, 102, 17, -2, -123, 234, -71, -187, 49, 176, -19, -51, 101, 0, -196, 9, -207, 227, 150, 217, 123, 64, -68, -178, 36, 5, 115, 17, -246, 97, 231, 164, -79, 91, 17, 137, -139, 43, 42, 182, 196, -138, -86, -116, 67, 186, 191, -116, -120, 198, -30, 96, -110, -208, 146, 32, 129, 96, -34, 29, 40, -116, -152, -16, 56, 198, 231, -109, 239, 11, -232, 185, 0, 1, -109, -156, -138, 127, -17, -237, 17, 4, 145, 58, -70, -239, 145, -146, 108, 111, 0, -100, 185, -180, -114, 110, 93, -193, -11, 203, 15, -86, -238, 18, -11, -29, -2, -5, 10, -137, -10, -182, 0, 7, -228, -219, 24, -175, -24, 132, 125, 181, 177, 13, 25, 15, 9, -232, 7, -172, -223, 111, 235, 0, 0, 13, -225, -15, -168, 0, -208, -150, -207, 163, -62, 14, 206, -29, 20, -71, 176, 148, -161, 102, 121, 151, 28, -6, 133, 241, -109, -43, 10, -32, -62, -11, -135, -123, 193, -155, -187, 30, 121, 64, -143, -71, -137, -18, 180, 74, -105, 215, 13, -21, 9, -147, -7, 54, 67, 119, -179, 62, -8, -144, 223, 7, 9, 128, 239, -73, -138, 54, -192, 111, -7, -129, -202, 21, 4, 78, -179, 10, 17, -120, 14, 4, 99, -202, 82, 84, -101, 38, 21, -153, 6, -2, 96, -165, 15, -221, 132, -235, 227, 10, -239, -48, 140, 137, -163, 40, -11, 233, 132, -150, -127, -7, 0, -47, 2, -18, 153, -1, 15, -18, -166, 138, -122, -21, 46, -232, 204, -184, -24, 24, -127, -74, 26, 125, -233, 36, 0, -140, -21, -230, -190, -117, 102, -139, 18, 21, -205, -82, -98, -15, -48, -18, 6, 20, 103, -211, -229, -192, -196, -116, 7, 162, -54, -165, -235, 94, 11, 221, -232, 14, -179, 58, 6, -16, 7, 14, 152, -13, 116, 13, -163, -229, -8, -160, 235, 0, 2, -125, -70, -54, -158, -102, -233, 65, -196, -32, -16, -144, 30, 24, -4, -171, 18, -191, -40, -179, 144, -78, -143, -140, 15, 0, 26, 151, -209, 0, 52, -132, -133, -194, -226, -125, 232, 22, -48, 226, 67, -53, -100, -119, 12, -232, 192, 15, 143, 60, 6, -34, 195, -106, -188, 13, 144, -4, 56, 29, -70, 20, 19, -150, -7, -66, 230, -30, -103, 10, 5, 108, -97, -213, -220, -2, -232, -176, 0, 0, -232, 29, 65, 2, 228, 143, -70, 36, 12, -1, 114, -105, -12, 1, -9, -219, -26, -23, -226, -125, 101, -116, 129, -227, 48, 133, -176, -59, -8, 4, -43, 209, 220, 129, 233, 84, 0, -147, -163, 223, 16, -161, -20, -212, -231, 5, -146, 138, -20, -75, 18, -122, -4, 0, -83, 92, -139, -237, 47, -204, 38, 83, 48, -5, -56, 7, -158, 119, 71, 9, 99, 91, 23, 170, 236, 94, 149, -25, -228, -205, 89, 176, -127, 122, -45, -2, -131, 149, 19, 245, 76, 24, 13, 159, -231, -144, 22, 96, -8, 99, 32, 106, -183, -38, 199, -2, -95, 122, -75, 10, 225, -163, -233, -64, 185, 45, -7, 0, 199, -196, -52, 84, -212, 1, 95, 200, -106, -150, -19, -2, -66, -79, 162, -171, 1, 23, -205, -196, -29, -4, 1, 168, -212, 234, -228, 181, -207, 234, 99, 226, 129, 196, -141, 0, -26, -212, 99, 187, 163, -230, 24, 119, -7, 169, 173, 1, 0, 138, 184, -40, -41, 50, -227, -106, -78, 58, -142, -7, 160, 2, 15, 155, 145, 221, 141, -31, -213, -145, -12, 6, 1, 48, 4, -11, 176, 42, -16, -228, 74, -166, -145, -8, -230, -11, 102, -11, 103, -11, 10, 181, 7, 64, 210, -232, 107, -6, -6, 184, 33, 53, 192, -95, -100, 35, -228, -62, 12, -21, -234, 4, 15, 163, 220, 133, -164, 211, -13, -8, 10, -169, -209, -23, 22, -109, 15, -158, -147, -190, 9, 108, -152, 127, 5, -185, 0, -164, -76, -228, 1, 21, 10, -124, -163, -186, -8, 62, 17, 91, -93, -86, -238, 39, -195, 53, 165, 151, 100, -25, -133, 15, 179, 19, -210, -4, -7, -37, 61, 130, -166, -67, 1, -12, -18, 51, -88, -8, -7, -42, 230, -45, 207, 75, -7, 156, 4, -97, 14, 1, -15, 29, 22, -123, -130, -231, 103, 1, 217, 134, 147, -172, 86, 6, -169, -187, 84, 151, -150, -11, 18, -172, -103, -205, 126, -26, -20, 19, 13, -229, -202, 69, -171, 92, -9, 119, 166, -16, 125, -24, -224, 233, 2, 0, 6, -140, 181, 5, -231, -174, 226, 1, 92, 155, -132, 159, -24, -7, -173, -237, -164, -22, 61, -19, -245, 1, 12, 22, -232, 25, 18, 0, -129, 125, -16, -147, -7, 78, 234, 84, 53, 154, 227, 141, 59, -57, -202, -217, -166, 53, 0, -161, -25, 182, 114, 141, 177, -200, -14, 236, 133, -34, -93, -38, 224, 82, -134, -124, 21, -230, -1, 237, -169, -2, 83, 0, 127, -106, 9, -136, 6, -155, 170, -86, -70, -228, 67, -226, -168, 141, 30, -210, -191, 177, 136, 96, 50, 117, 20, -230, -117, -11, -172, -15, 108, -227, 56, -114, 182, -152, 12, 20, -25, 181, -14, 58, -221, 192, 2, 12, 130, 24, -145, 162, 127, -155, 3, -21, 121, -192, -179, 230, -15, 1, 154, 155, 122, -233, -212, -148, -190, -204, 79, -183, 99, 231, -91, 61, 36, -124, 36, 136, 138, 0, 4, 163, 66, 96, -212, 182, -158, -158, 209, -24, -96, 42, -183, -63, -102, -61, 89, 1, 145, 9, 15, -27, -103, 2, -14, -10, 86, 19, 15, 195, 2, 18, -175, 0, 223, 17, 118, 143, 138, 113, -6, 68, -103, 94, 10, -179, 0, -98, 72, 88, -127, 145, -119, -179, 114, 163, 225, -228, 118, -214, 125, -6, -5, 10, -16, -64, -73, -139, 0, -125, 231, 6, -84, -196, -18, -171, 34, -41, -27, -51, -4, 220, -5, 81, -7, 132, -214, -74, -65, -90, 15, 21, -161, -112, 154, -92, 134, 207, -201, 0, -175, 136, 67, -56, 106, 20, 170, 128, 78, 119, -13, 177, 133, -41, -187, 114, -144, 12, -8, 1, 145, 102, -19, 20, 21, 59, -103, 125, 157, 3, 99, -93, -18, -177, 18, 131, -138, 4, -12, -10, 4, -116, 106, -230, 33, 7, -15, -245, -4, -71, -7, 132, 228, 37, 4, -225, 0, -23, 0, 129, 166, 64, -21, 129, -40, 116, 0, 16, 146, -161, 101, -160, 51, -13, -64, -87, 20, -231, 15, 0, -17, 0, 31, 13, -133, 237, 105, 233, 183, 225, 105, 7, 225, 10, 207, -16, 21, 9, -96, 185, -204, 2, 46, 198, 3, -23, -128, 17, -43, -103, 198, -191, -9, 108, 182, -16, 191, -20, 1, 95, 4, -163, 6, 100, -175, 119, -22, -16, 1, 157, 26, 7, -229, -8, 212, -65, 0, 97, 22, 143, 22, -162, 13, -156, 214, -19, 135, 146, 34, -114, 8, -183, 88, -122, -19, -230, 122, -190, -5, -129, 119, -202, 174, 130, -8, -109, 133, -42, 90, -2, -24, 12, 121, -13, 144, 95, -9, -112, 15, -220, -209, -127, 28, -2, 20, -169, 230, -5, -215, 168, 4, 91, -19, 232, 68, 119, -18, 12, -5, 23, -234, 128, -2, 12, 10, -13, 1, 56, -9, -27, -14, -97, 20, 168, 9, -18, 198, 61, -75, -109, 115, 78, 18, 235, 0, 17, -98, 9, -232, 212, 155, 142, 113, 89, -2, -122, -2, 1, -73, 177, -7, 233, 67, -153, -16, 94, 141, 118, -228, -65, 35, 113, 1, 109, 212, -220, -142, 56, 9, 152, 151, 100, -11, 146, 163, -6, 12, -115, -38, 2, -231, 4, -127, -46, 9, -228, -56, 195, 17, -2, -133, 99, -176, -112, -97, 12, 1, -155, -84, 0, -242, -2, -24, 0, 133, -5, 6, 61, 0, -101, 40, -11, -4, -169, 67, 19, -7, -134, 239, -183, 170, 84, -29, -11, 114, 213, 139, 236, 88, 107, 128, 9, 69, 191, -16, 226, -131, -230, 137, -212, -1, 19, 181, -190, -11, -127, -97, -90, 165, -19, -190, 114, -107, -78, 151, 42, -20, -111, -7, 228, -171, 1, -204, -186, -38, 16, 176, 218, -35, -185, 146, 9, -125, -49, -46, 66, 117, 135, -20, -239, -72, 97, -11, -1, -16, 114, -19, -138, 12, -12, -9, -190, -19, -23, 160, -138, 153, 157, -5, -107, -221, -210, 45, -79, 114, -6, 136, -164, 8, 141, -111, 47, 1, 173, 146, 2, -176, -204, -71, -109, 152, 6, 222, -5, -234, -43, 2, -158, -131, 189, 3, 32, -125, -111, 18, -79, 187, 2, -234, 168, 40, -29, -96, 5, 193, -223, 220, -120, -67, -21, 59, -2, -232, -86, 71, 27, -24, 4, 12, -2, -103, 141, -100, -17, -157, 125, -133, 40, -186, 0, -95, -23, 82, 161, -240, 181, -116, -48, 77, -68, -60, -3, -89, 6, -168, 119, 184, 6, -157, 187, -7, -43, -5, 12, -237, -23, 103, 2, -11, -152, 0, 113, 17, -92, 9, -145, -166, -112, -5, 218, 119, 95, 42, 59, 12, 13, -160, -231, 12, 49, -3, -100, 7, -219, -98, 91, -161, 177, -89, -52, 119, 236, -172, 235, -73, -210, 145, 165, 236, 99, -78, -119, 189, 98, -149, 160, 135, -6, -12, 9, 11, -116, 13, -155, -232, -27, -78, -193, -63, 1, -128, -21, 184, 7, 232, 2, 17, 171, -16, 0, -160, 177, -128, 67, 2, 215, -40, -98, 25, 15, 37, 174, -67, 2, -90, 61, -2, -232, 1, 10, 236, 80, 4, -132, 182, 15, 15, -40, -205, -5, 17, -209, -217, 191, -2, -158, 75, 29, 1, 24, -76, 10, 122, 9, -25, -142, 201, 105, -89, 17, 26, -157, 151, 0, 6, 121, -186, -78, 195, 218, -4, -9, 174, -4, -47, 61, -139, -73, -22, 0, -191, 168, 230, -232, -64, -150, 233, 110, -218, 157, -13, -171, 2, 65, -142, -212, -172, 0, 8, -86, -6, -166, -232, -150, 190, 124, 130, 75, -78, 124, 28, 4, 32, 230, -181, -232, -153, 9, -43, -140, -223, 230, -50, -8, 150, -97, -204, 197, 84, 106, 171, 62, 152, 0, 4, 13, 0, -61, -187, -102, 154, -155, -178, -22, 82, -10, -6, -160, -155, 48, 116, 94, -101, 247, 95, -5, 130, 176, 209, 20, 166, -158, 2, 128, -131, 3, 8, -90, 119, -147, 95, 13, 210, 42, -98, 91, 126, -168, 27, -7, 157, 168, -81, 51, 227, -64, -128, 9, 25, 10, 9, 64, 234, -156, -52, 12, -127, -194, -1, -127, 114, 146, 148, 209, -51, -19, 176, 79, -2, -130, 12, -135, -21, -209, 146, -142, 15, -144, -123, 0, -226, 17, -176, -196, 101, 203, -228, -2, -70, 172, -185, 185, -47, -82, 241, -10, 9, -236, 233, 128, -98, 149, -127, 206, -59, -7, -128, -155, 116, -149, 51, 92, -192, -180, -101, 10, -43, 1, -39, 0, 32, -127, 58, 10, 11, 15, 154, -43, 125, -136, 1, -45, -97, 24, -49, 11, 105, 6, -40, 92, 109, 1, 60, -65, 45, -188, -40, 143, -232, -6, 47, -12, 137, 13, 225, -233, -93, 204, -114, 149, 8, -67, 152, 15, 247, 230, -21, -2, 114, -218, -203, 15, -169, 43, 45, -122, 30, 14, -127, -181, 108, 174, -175, -11, -130, -250, 88, 233, 12, 1, -46, -111, 12, 96, 11, 30, 92, 9, -102, 232, -183, 9, 195, -43, 158, -115, -87, 179, -145, -100, 74, 9, -166, -2, 9, 21, 24, 201, -16, -8, -217, -201, -4, -209, -3, 21, 195, 12, 6, 110, -5, 53, 122, -29, -223, 24, -147, -128, -2, 109, 6, -119, -171, -187, -52, 171, 200, 45, -146, -2, -52, -138, 213, 136, -163, -49, 135, 45, 0, -95, 17, -16, 108, 79, 12, 1, 27, -45, 235, -84, 2, 3, 91, -173, 244, 99, -82, 0, 77, -185, 1, 95, -224, -182, 33, 5, -86, 14, -86, -2, 15, 150, 163, 63, 119, -28, 0, 166, 43, -153, -5, -119, -196, -46, 231, 6, -32, 21, 23, 1, -129, -152, 10, 92, 4, -174, 176, 109, -163, 21, 1, -150, -108, 9, -4, -40, 89, 4, -125, 125, 35, -125, -51, -19, -157, 18, 0, 19, 79, 23, -34, 146, -41, -2, 100, -134, 204, 87, -196, 154, 4, -21, -78, 109, -224, 88, -19, -34, 2, -45, 32, -7, -82, 220, -4, -117, -168, -231, 62, -14, 7, -89, 204, -161, 19], \"xaxis\": \"x\", \"y\": [123, -5, 205, 151, 17, 271, 7, 4, 389, 154, 0, 217, 229, 0, 149, 185, 214, 269, 260, 253, 149, 284, 28, 3, 93, 250, 185, 144, 88, 1, 7, 16, 25, 289, 78, 246, 23, 39, 23, 154, 78, 238, 17, -6, 135, 231, -1, 31, 22, 261, 74, 247, 90, 153, 9, 217, 236, 195, 249, 159, 222, 27, 153, 232, 261, 214, 42, 28, 0, 2, 126, 295, 200, 195, 195, 252, 115, 197, 6, 159, 37, 18, 147, 41, 263, 164, 156, 74, 106, 234, 102, 18, 242, 288, -8, 175, 46, 139, 218, 36, 42, 14, 205, 225, 9, 205, 227, 139, 218, 257, 193, 88, 264, 151, 0, 147, 26, 160, 26, 205, 209, 243, 129, 77, 238, 14, 293, -2, 4, 270, 129, 56, -5, 301, 249, 165, 46, 8, 140, 16, 233, 116, 12, 236, 17, 183, 249, 15, 3, 6, 9, 222, 208, -3, -6, 23, 144, 23, 176, 137, 279, 242, 211, 71, 3, 181, 74, 203, 9, 201, 192, 192, 7, 262, 89, 149, 123, 0, 178, 112, 238, 46, 71, 153, 231, 116, 189, -11, -3, 0, 36, 140, 146, 282, 229, 247, 53, 201, 210, 249, 123, 34, 0, -2, 134, 151, 46, 134, 105, 22, 221, 20, 156, 80, -1, 257, 210, 97, 55, 7, 257, 90, 239, 232, 265, 134, 164, 8, 96, 11, 250, 6, 65, 129, 426, 193, 243, 156, 7, 16, 22, 159, 183, 257, 657, 1, 296, 178, 173, 215, 254, 115, 197, 156, 229, 183, 216, 208, 186, 244, 263, 17, 138, 252, 1, 127, 126, 276, 28, 213, 104, 181, 219, 3, 257, 113, 45, 127, 148, 71, 129, 165, 250, 93, 28, 228, 198, 4, 30, 134, 0, 125, 11, 7, 11, 26, 242, 36, 49, 16, 259, 42, 105, 252, 14, 241, 26, 7, 17, 32, 0, 157, 53, 20, 198, 4, 31, 215, 12, 15, 34, 228, 20, 77, 193, 127, 106, 16, 232, 187, 11, 167, 51, 18, 2, 271, 142, 108, 26, 259, 203, 14, 20, 23, 262, 61, 104, 197, 195, 12, 25, 222, 159, 15, 236, 85, 23, 25, 217, 39, 242, 69, 99, 249, 219, 257, 173, 229, 3, 185, 22, 235, 227, 11, 235, 41, 259, 241, 26, 19, 247, 15, 9, 189, 110, 183, 192, 254, 7, -2, 249, 88, 0, 11, 11, 199, 175, 3, 50, 0, 252, 239, 185, 65, 20, 213, 236, 203, 34, 72, 36, 162, 31, 273, 181, 162, 204, 219, 149, 457, 223, 181, 15, 170, 257, 23, 17, 237, 249, 61, 148, 1, 0, 165, 115, 13, 0, 12, 82, 197, 21, 104, 242, 233, 85, 252, 214, 63, 148, 213, 37, 206, 12, 0, 252, 258, 223, 1, 205, 120, 291, 123, 37, 191, 17, 44, 244, 150, 5, 198, 120, 164, 227, 203, 280, 183, 21, 258, 16, 210, 467, 82, 156, 33, 83, 62, 225, 247, 186, 257, 50, 46, 149, 101, 253, 214, 0, 232, 249, 273, 195, 247, 228, -5, -13, 64, 204, 3, 15, 27, 244, 254, 239, 252, 4, 186, 274, 244, 72, 0, 201, 213, 198, 28, 39, 224, 146, 3, 237, 7, 192, 223, 271, 315, 257, 252, 172, 0, 230, 218, 197, 288, 170, 247, 262, 17, 222, 8, 23, 0, 16, 244, 47, 175, 211, 136, 134, 70, 9, 139, 148, 3, 239, 207, 190, -25, 171, 211, 18, 234, 257, 139, 30, 111, 179, -36, 123, 7, 209, -5, 6, 113, 266, 17, 34, 198, 159, 228, 116, 168, 257, 145, 4, 16, 278, 17, -2, 249, 189, 213, 244, -6, 192, 195, 20, 26, 12, 47, 16, 222, 22, 244, -1, 176, 11, 192, 187, 3, 47, 4, 3, 237, 126, 183, 164, 127, 21, 190, 193, 112, 225, 33, -6, 264, 211, 3, 31, 277, 223, 208, 203, 205, -1, 189, 0, 231, 271, 203, 39, 205, 126, 254, 12, 247, 0, 20, 20, 214, 26, 108, 0, 140, 195, 41, 7, 101, 22, 115, 8, 252, 80, 257, 7, -1, 0, 132, 131, 60, 187, 17, 119, 269, 178, 4, 44, 260, 4, 99, 7, 272, 23, 52, 11, 121, 164, 95, 217, 247, 218, 3, 197, 184, 31, 213, 317, 149, 121, 96, 154, 17, 167, 15, 15, 19, 267, 299, -4, 131, 63, 3, 9, 213, 146, 229, 25, 233, 36, 244, 214, 26, -11, 167, 201, 102, 15, 8, 124, 48, 21, 27, 83, 0, 165, 11, 36, 91, 36, 41, 8, 162, 250, 16, 241, 156, 242, 183, 129, 249, 220, 61, 190, 154, 179, 17, 191, 247, 7, 21, 129, 234, 47, 45, 38, 219, 230, 183, 114, 213, 14, 218, 146, 236, 129, 125, 3, 47, 238, 25, 3, 224, 224, 23, 1, 249, 205, 110, 135, 268, 216, 225, 220, 197, 11, 172, 14, 11, 132, 112, 11, 129, 48, 223, 75, 181, 164, 154, 71, 127, 187, 183, 131, 267, 77, 184, 9, 113, 85, 287, 258, 39, 201, 2, 228, 268, 247, 183, 159, 209, 2, 244, 242, 332, 126, 189, 4, 200, 257, 203, 99, 204, 218, 219, 192, 183, 7, 26, 0, 197, 272, 34, 31, 20, 91, 124, 326, 7, 71, 90, 178, 15, 283, 263, 154, 8, 151, 158, 9, 94, 260, 14, 23, 120, 97, 103, 12, 235, 44, 0, -1, 193, 230, 273, -2, 266, 239, 176, 165, 26, 67, 203, 20, 247, 14, 269, -13, 247, 107, 225, 23, 120, 165, 173, 42, 142, 7, 31, 41, 203, 219, 39, 89, 134, 169, 42, 16, 176, 17, 188, 244, 97, 194, 159, 75, 268, 50, 209, 110, 0, 26, 0, 224, 164, 0, -11, 17, 127, 233, -2, 140, 246, 154, 138, 22, -19, 50, 239, 169, 20, 175, 151, 228, 198, 36, 223, 247, 20, 313, 259, 23, 198, 203, 211, 263, 11, 187, 131, -19, 271, 201, 183, 266, 26, 137, -1, 326, 123, 11, 56, 243, 21, 23, 19, 205, 228, 11, 215, -14, 183, 4, 184, 163, 279, 266, 115, 209, 117, 260, 242, 124, 228, 206, 37, 252, 238, 20, 42, 188, 246, 247, 129, 217, 132, 60, 17, 277, 167, 1, 146, 195, 139, 105, 201, 236, 247, 290, 198, 210, 1, 261, 231, 2, 30, 265, 132, 209, 7, 16, 58, 154, 0, 246, 214, 11, 26, 264, 9, 20, 11, 170, 176, 2, 136, 254, 16, 234, 201, 268, 173, 26, 29, 127, 179, 26, 28, 101, 239, 247, 246, 301, 59, 0, 0, 134, 56, 22, 56, 255, -2, 25, 104, 186, 12, 166, 28, 15, 232, 278, 23, 154, 159, 213, 203, 21, 183, 236, 257, 47, 15, 174, 8, 12, 47, 14, 248, 65, 252, 0, 15, 2, 174, 7, 45, 52, 4, 1, 13, 187, 23, 42, 216, 18, 7, 5, 254, 261, 12, 209, 12, 163, 141, 52, 262, 165, 8, 148, 60, 193, 254, 30, 15, 169, 149, 50, 31, 217, 91, 181, 137, -6, 230, 228, 200, 16, 20, 173, 12, 126, 254, -2, 221, 193, 113, 31, 190, 220, 52, 94, 8, 254, 3, 16, 0, 105, 11, 162, 246, 64, 218, 244, 124, 148, 208, 1, 99, 113, 183, 154, 239, 242, 15, 159, 219, 300, 25, 175, 8, 203, -2, 115, 242, 249, 203, 184, 211, 224, 15, 252, 16, 124, 208, 252, 216, 26, -1, 231, 22, 3, -1, 74, 10, 11, 237, 184, 3, 21, 18, 165, 6, 138, 146, 186, 21, 251, 74, 239, 53, 170, 242, 66, 31, 85, 256, 86, 211, -1, 78, 11, 159, 30, 80, 174, 9, 15, 34, 30, 124, 224, 11, 249, 228, 187, 102, 213, 127, 222, 153, 313, 4, 118, -16, 223, 47, 188, 53, 116, 91, -5, 266, 118, 183, 157, 179, 138, 224, -21, 189, 228, 220, 11, 11, 164, 86, 21, 16, 181, 7, 16, 269, 11, 209, 298, 231, 83, -5, 115, 229, 19, 167, 197, 33, 236, 11, 124, 121, 94, 127, 9, 247, 4, 1, 1, 169, 14, 241, 257, 119, 228, 156, 85, 31, -11, 144, 22, 13, 164, 63, 8, 255, 188, 265, 243, 13, 5, 268, 91, 26, 242, 257, 244, 201, 157, 7, 110, 134, 237, 214, 3, 14, 228, 57, 13, 342, 160, 15, 11, 20, 288, 31, 214, 232, 195, -6, 22, 181, 21, 159, 7, 257, -16, 190, 211, 39, 249, 165, 247, 194, 146, 14, 26, 135, 113, 28, 257, 228, 19, 26, 8, 73, 256, 41, 178, 169, 144, 239, 203, 176, 7, 23, 64, 264, 43, 222, 216, 14, -16, 2, 214, 225, 241, 16, 183, 30, 131, 64, 258, 66, 74, 86, 269, 1, 159, 190, 13, 159, 82, 232, 31, 72, 14, 11, -15, 418, 203, 241, 13, 168, 203, 203, 676, 148, 452, 268, 23, 131, 14, 3, 105, 277, 25, 61, 66, 236, 16, 146, 184, 18, 45, 34, 28, 164, 208, 216, 127, 232, 14, 151, 62, 142, 0, 72, 247, 35, 199, 211, 16, 114, 6, 89, 228, 123, 316, 12, 1, 182, 250, 306, 249, 13, 242, 213, 193, 44, 2, 21, 17, 7, 22, 56, 149, 329, 134, 202, 242, 2, 244, 20, 11, 12, -2, 203, 151, 11, 16, 223, 153, 151, 106, 257, 260, 159, 14, 164, 1, 227, 21, 253, 142, 33, 243, 225, 137, 172, 3, 16, 264, 58, 231, 11, 15, 187, 197, 159, 139, 1, 214, 208, 111, 258, 56, 126, 241, 246, 252, 0, 193, 149, -2, 104, 156, 176, 135, 22, 203, 260, 159, -1, -2, 107, 184, 25, 2, 148, 190, 195, 11, 20, 110, 238, 52, 240, 186, -3, 37, 179, 44, 43, 0, 252, 244, 157, 241, 16, 185, 146, 148, 24, 21, 249, 0, -6, 42, 208, 263, 14, 233, 244, 203, 209, 22, 63, 274, 121, 31, 112, 184, 3, 228, 108, -17, -8, 164, 27, 13, 12, 267, 104, 102, 248, 211, 83, 250, 249, 293, 330, 258, 70, -2, 153, 23, 192, 21, 257, 190, 10, 16, 6, 168, 143, 1, 229, 247, 37, 265, 2, 112, 198, 232, 258, 195, 265, 228, 212, 201, 22, 285, 261, 60, -21, 176, 272, 197, 103, 36, 36, 246, 38, 23, 53, 127, 34, 227, 22, 126, 55, 111, 217, 31, 124, 15, 143, 118, 203, 26, 31, 126, 283, 34, 274, 217, 149, 268, 168, 6, 37, 85, 195, 96, -10, 0, 15, -5, 47, 246, 31, 16, 141, 203, 169, -13, 209, 17, 217, 82, 237, 113, 254, 2, 164, 261, 200, 244, 164, 19, 148, 67, 9, 11, 174, 1, 85, -5, 164, 70, 165, 263, 162, 270, 198, 14, 131, 237, 1, 12, 175, 216, 256, 3, 153, 252, 237, 149, 189, 132, 198, 132, 254, 8, 178, 168, 96, 239, 41, 316, 247, 6, 30, 277, 25, 1, 139, 14, 173, 4, 260, 12, 70, 52, 244, 32, 23, 382, 143, 244, -6, 6, 255, 206, 198, 170, 119, 22, 23, 0, 250, 277, 7, 139, 157, 162, -4, -19, 4, 254, 151, 7, 146, 7, 251, 5, 214, 224, 207, 104, 2, 237, 15, 287, 249, 110, 47, 88, 189, -1, 213, 255, 7, 75, 111, 247, 11, 271, 72, 270, 262, 101, 265, 189, 56, 72, 129, 129, 239, -6, 142, 252, 231, 164, 208, 146, 33, 215, 172, 101, 246, 57, 197, 8, 3, 19, 232, 56, 252, 503, 185, 229, 200, 60, 130, 142, 85, 7, 148, 256, 87, 148, 99, 193, 74, 82, 187, 174, 45, 26, 30, 7, 7, 14, 25, 203, 1, 7, 170, 132, 274, 2, 129, 6, 238, 26, 163, 169, 227, 22, 26, 75, 138, 200, 22, 7, 237, 179, 255, 124, 20, 121, 94, 7, 47, 208, 165, 16, 203, 321, 208, 227, 17, 17, -11, 26, 172, 124, 31, 55, 167, 2, 7, 443, 41, 708, 181, 203, 265, 44, 227, 165, 14, 17, 9, 22, 232, 214, 321, 0, 23, 67, 51, 153, 6, 37, 157, 164, -5, 236, 244, 132, 244, 14, 162, 11, 129, 231, 33, 205, 29, 64, 134, 11, 11, 9, 116, 0, 183, 85, 228, 78, 7, 257, 239, 21, 110, 249, 257, 108, -22, 139, 233, 138, 0, 249, 257, 50, 26, 201, 123, 173, 124, 239, 170, 15, 45, 36, 198, 32, 15, 141, 234, 188, 293, 134, 208, 9, 20, 237, 203, 31, 185, 224, 16, 253, 85, 225, 164, 3, 174, 33, -6, 114, 36, 174, 31, 255, 27, 2, 231, 1, 7, 7, 106, 198, 118, 19, 149, 243, 158, 57, 612, 3, 149, 247, 116, 16, -2, 83, 181, 269, 201, 7, 11, 252, -6, 110, 164, 214, 39, 291, 18, -3, 234, 162, 232, 12, 48, 262, 235, 0, 246, 85, 235, 1, 2, 4, 260, 153, 22, 52, 51, 178, 247, 201, 259, 102, 144, 0, 180, 134, 113, 173, 151, 56, 178, 42, 7, 11, 36, 173, 14, 353, 21, 250, 61, 70, 14, 214, 47, 55, 203, 242, 261, 99, 206, 47, 154, 260, 203, 219, 28, 9, 267, -3, 257, 160, 198, 37, 177, 7, 302, 5, 277, 99, 247, 7, 159, 272, 154, 174, 5, 252, 205, -5, 247, 254, -19, 174, 33, 34, 188, 154, 157, 244, 244, 129, 198, 255, 112, 42, 206, 283, 250, 264, 175, 190, 219, 11, 193, 174, 525, 149, 154, 4, 225, 264, 228, 195, 66, 250, 153, 237, -23, 279, 0, 9, 261, 164, 173, 16, 228, 228, 75, 528, 8, 267, 160, 141, 18, 0, 228, 220, 255, 190, -11, 3, 219, -2, 13, 45, 36, 118, 178, 201, 260, 232, 2, 258, 186, 142, 257, 254, 243, 224, 219, 198, -3, 25, 183, 243, 16, 198, 232, 194, 232, 220, 193, 236, 140, 252, 266, 223, 244, 3, 149, 185, 176, 17, 85, 242, 160, 11, 245, 201, 187, 15, 58, 119, 227, 27, 74, 23, 141, 29, 200, 11, 3, 200, 131, 208, 26, 10, 4, 22, 198, 260, 11, 242, 89, 67, 134, -6, 67, 107, 252, 203, 8, 254, 50, 82, 46, 52, 186, 7, 218, 133, 21, 264, 126, 70, 186, 232, 61, 31, 203, 113, 28, 254, 242, 56, 206, 1, 96, 149, -14, 71, 254, 192, 118, 247, 131, 219, 257, 187, 56, 219, 105, 52, 7, 206, -5, 176, 4, 7, 239, 52, 23, 258, 206, 126, 180, 180, 3, -5, 3, 99, 233, 154, -14, 239, 85, 122, 16, 258, 234, 228, 17, 4, 200, 11, 19, 119, 139, 148, 165, 219, 134, 228, 20, 21, 26, 2, 258, 138, 263, 210, 137, 14, 175, 12, 77, 201, 250, 67, 117, 17, 218, 170, 16, 275, 146, 165, 219, 165, 53, 134, 233, 274, 41, 232, 253, 74, 153, 11, 53, 261, 47, 257, 154, 240, -6, -8, 11, 237, 209, 22, 4, 244, 80, 82, 153, 11, 9, 170, 14, 277, 69, 227, 512, 256, 230, 236, 71, 145, 7, 22, 13, 168, 7, 187, 238, 570, 266, 269, 85, 59, 129, 45, 6, 203, 232, 243, 7, 23, 153, 215, 168, 68, 265, 257, 241, 61, 182, 132, 159, 203, 126, 129, 184, 64, 137, 80, 250, 223, 239, 199, 144, 123, 144, 7, 229, 65, 30, 214, 164, 246, 217, 272, 4, 179, 13, 311, 168, -2, 21, 18, 252, 4, 218, 137, 145, 71, 41, 22, 19, 227, 183, 115, 213, 7, 33, 56, 237, 247, 134, 277, 11, 11, 226, 146, 262, 106, 257, 7, 160, 249, 148, 184, 74, 277, 64, 260, 273, 190, 355, 29, 63, 25, 11, 129, 121, 120, 154, 208, 183, 12, 41, 1, 262, 257, 3, 89, 250, 164, 131, 263, 170, 217, 111, 242, 190, 15, 15, 175, 21, 154, 15, 264, 181, 223, 231, 187, 257, 64, 279, 69, 42, 92, 259, 11, 230, 229, 234, 14, 18, 193, 1, 193, 67, 17, 249, 194, 222, 148, 219, 140, 16, 200, 1, 203, 0, 164, 205, 12, 237, 11, 149, 261, 8, 262, 234, 154, 26, 255, 167, 170, 83, 28, -6, 164, 11, 160, 151, 82, 169, 216, 21, 5, 150, -2, 8, 0, 7, 120, 149, 51, 257, 115, -11, 203, 314, 1, 65, 258, 18, 0, 36, 11, 8, 205, 0, 17, 19, 183, 48, 237, 185, 262, 15, -2, 269, 162, 190, 142, 153, 262, 17, 254, 13, 0, 23, 136, 180, 216, 21, 33, 337, 31, 37, 141, 9, 157, -3, 36, 260, 132, 112, 139, -8, 13, 159, 185, 257, 122, 257, 309, 42, 39, 34, 183, 48, 4, 64, 19, 225, 667, -5, 39, 96, 37, 247, 95, 17, 151, 145, 31, 222, 341, 124, 105, 119, 95, 135, 164, 7, 181, 6, 38, 154, 198, 25, 22, 235, 1, 26, 116, 150, 48, 56, 86, 64, 7, 249, 209, 71, 80, 206, 190, 176, 201, 190, 13, 9, 149, 31, 179, 176, 190, 195, 48, 131, 34, 7, 153, 40, 174, 278, 202, 28, 45, 17, 181, 17, 232, 257, 212, 4, 178, 75, 179, 7, 178, 23, 25, 11, 160, 9, 7, 57, 52, 238, -6, 242, 16, 167, 224, 149, 195, 7, 97, 118, 242, 282, 296, 89, 235, 4, 120, 216, 3, 178, -13, 18, 189, 33, 239, 220, 231, 78, 232, 143, 56, 126, 0, 44, -11, 140, 31, -6, 28, 11, 262, 217, 236, 49, 267, 18, 12, 5, 191, 99, 42, 10, 22, 226, 184, 217, 159, 14, 146, 19, 61, 122, 239, 3, 35, 157, 246, -11, 124, 126, 252, 230, 206, 104, 142, 85, 14, 153, 228, 247, 140, 127, 189, 249, 137, 256, 23, 11, 530, 290, 19, 142, 246, 259, 24, 116, 178, 178, 107, 3, 144, 278, 242, 13, 446, 266, 97, 257, 141, -5, 217, 282, 237, 208, 173, 30, 205, 247, 252, 219, 23, 145, 2, 131, 206, 10, 46, 26, 17, 69, -5, 11, 244, 266, 90, 25, 254, 2, 208, 15, 31, -2, 128, 168, 272, 30, 8, 41, 290, 55, 151, 61, 51, -5, 20, 17, 188, 187, 174, 260, 79, 119, 490, 224, 17, 228, 14, 170, 7, 263, 189, 156, 266, 237, 26, 3, 137, 8, 58, 213, 205, 282, 3, 1, 1, 3, 112, 93, 227, 8, 153, 21, 19, 11, 209, 3, 241, 129, 7, -5, 272, 218, 12, 665, 144, 28, 259, 176, 119, 272, 126, 195, 6, 226, 11, 31, 210, 115, 211, -5, 14, 238, 262, 269, 7, 222, 75, 1, 255, 183, 19, 175, 164, 186, 249, 272, 257, -2, 129, 138, 11, 156, 218, 265, 213, 214, 0, 198, 44, 138, 262, 120, 561, 235, 36, 0, 36, 132, 5, 66, 253, 232, 154, 228, 140, 10, 36, 39, -5, 228, 244, 214, 170, 247, 0, 239, 26, 0, 216, 16, 252, 258, -5, 1, 231, 153, 242, 28, 100, 104, 231, 1, 174, 23, 283, 220, -1, 264, 12, -8, 200, 94, 98, 145, 232, 272, 15, 516, 244, 216, 157, 199, 66, 30, 223, 6, 199, 228, 198, 4, 194, 74, 28, 50, 123, 58, 193, 9, 21, 56, 252, 27, 273, 16, 4, 175, 137, 142, 280, 169, 126, 3, 25, 153, 13, 220, 213, 151, 178, 41, 248, 0, 165, -8, 61, 239, 25, 184, 90, 232, 8, 45, 11, 153, 242, 154, 37, 206, 58, 227, 0, 89, 11, 244, 0, 250, 11, 254, 48, 260, -15, -5, 228, 415, 146, 8, 227, 195, 17, 162, 78, 55, 8, 11, 156, 170, 239, 19, 267, 264, 148, 94, 267, 108, 68, 173, 15, 231, 222, 0, 101, 124, 259, 9, 247, 32, 119, 127, 214, 253, 3, 146, 252, 222, 251, -4, 201, 30, 183, 174, 8, 249, 47, 168, 188, 116, 231, 8, 205, 242, 227, 73, 3, 178, 129, 38, 1, 210, 36, 235, 227, 172, 186, 7, 241, 15, 14, 1, -11, 231, 139, 241, 252, 3, 169, 16, 72, 7, 18, 261, 35, 238, 0, 110, 70, 46, 23, 26, 269, 285, 164, -5, 155, 18, 142, 198, 143, 131, 2, 32, 83, 60, 126, 78, 12, -3, 272, 26, 192, 46, 16, 253, 0, 204, 21, 231, 80, 242, 201, 94, 247, 178, 257, 198, 214, 159, 33, 603, 257, 214, 159, -6, 60, 160, 0, 99, -1, 1, 90, 219, 282, 175, 11, 93, 26, 179, 260, 12, 174, 237, 252, 17, 225, 178, 195, 75, 4, 16, 26, 156, 154, 247, 1, 243, -8, 254, 236, 149, 249, 242, 213, 67, 203, 283, 18, -2, -2, 160, 184, 143, 106, 77, 6, 138, 41, 232, 192, 159, 269, 11, 222, -3, -6, 3, 153, 25, 175, 200, 257, 208, 206, 231, 21, 271, 22, 242, 67, 145, 194, 295, 12, 6, 30, 26, 247, 153, 164, 235, 246, 50, 208, 16, 8, 249, 244, 44, 8, 239, 23, 218, 82, 20, 172, 148, 175, 244, 227, 119, 262, 220, 150, 1, -6, 186, 249, 159, 285, 52, 0, 209, 254, 20, 151, 179, 4, 176, 243, 278, 120, 208, 271, 239, 3, 203, 26, 178, 260, 156, 187, 283, 26, 179, 228, -3, 195, 85, 246, 16, 132, 239, 31, 278, 164, -6, 144, 257, 185, 11, 153, 248, 32, 208, 33, 168, 139, 28, 183, 83, 61, 22, 71, 4, 229, 75, 197, 137, 14, 252, -1, -2, 1, 146, 120, 170, 39, 168, 252, 132, 5, 217, 263, 148, 176, 31, 197, 26, 94, 183, 224, 102, 84, 238, 15, 13, -6, 101, 269, 184, 91, 237, 24, 268, 229, 41, 15, 224, 236, 172, 74, -6, 231, 203, 14, 189, 19, 216, 143, 4, 198, 247, 11, 67, 143, 8, -2, 173, 12, 158, 68, 107, 213, 239, 1, 178, 60, 189, -11, 267, 267, 234, 224, 145, 41, 42, 177, 8, 149, 234, 178, 53, 101, 116, -13, 18, 242, -10, 211, 239, 7, 21, 12, 32, 172, -2, 69, 185, 244, 7, 170, 246, 253, -1, -7, 100, 13, 200, 7, 149, 145, 0, 243, 13, 0, 74, 0, 227, 257, 23, 175, 252, 17, 246, -10, 181, 140, 25, 1, 15, 170, 23, 3, 194, 112, 265, 162, 231, 228, 9, 229, 142, 244, 44, 22, 165, 290, 206, 7, 253, 36, 127, -1, 20, 131, 44, 263, 6, 61, 47, 241, 6, 235, 230, 120, 7, 11, 209, 175, 252, 21, 104, 244, 194, 257, 17, 80, 189, 172, 172, 21, 120, 222, -34, 169, 6, 198, 213, 22, 45, 17, 21, 205, 73, 56, 267, 268, 222, -13, 192, 20, 23, 131, 239, 134, 174, 0, 36, 15, 216, 23, 151, 149, 13, 154, 255, 168, 255, 53, 0, 209, 14, 39, 134, 231, 50, 124, 108, 144, 7, 0, 181, 31, 31, 213, 214, 147, 4, 15, 201, 2, 183, 263, 15, 99, 114, 91, 154, 245, 156, 276, 249, 169, 247, 17, 7, 41, 137, 192, 148, 87, 69, 233, 131, 151, 265, 11, 104, 21, 262, 50, 190, 27, 2, 223, 267, 0, 263, 146, 143, 260, 37, 15, 151, 154, 25, -13, -15, 146, 255, 132, 101, 197, 164, 12, 115, 145, 143, 178, 259, 13, 227, 230, 158, 156, 190, 138, 61, 190, 264, 380, 22, 124, 47, 51, 246, 145, 157, 203, 143, 619, 110, 230, 61, 242, 190, 155, 188, 21, 153, 60, 10, 217, 232, 1, 232, 247, 163, 56, 7, 173, 186, 256, 247, 170, 85, 99, 257, 249, 180, 75, 154, 225, 7, 197, 7, 13, 14, 215, -28, 9, 165, 208, 213, 254, 62, 26, 242, 11, 164, 191, 237, 7, -11, 197, 75, 78, 118, 20, 46, 108, 249, 74, 188, 241, -19, 85, 252, 115, 244, 138, 254, 83, 238, 53, 251, 218, 14, 211, 103, 266, 30, 220, 6, 45, 0, 126, 193, 254, 118, 164, 3, 225, 25, 30, 67, 264, 149, 213, 65, 239, 145, 0, 56, 4, 159, 167, 19, 127, 9, 247, 146, 120, 4, 172, 127, 2, 148, 2, 63, 47, 60, 244, 23, 129, 268, 135, 41, 157, 42, 126, 0, 148, 208, -1, 12, 247, 164, 105, 127, 31, 224, 20, 215, 47, 26, 17, -16, 0, 165, 214, 52, 265, 249, 260, 230, 21, 14, 15, 224, 268, 108, 62, 104, 260, 225, 0, 113, 7, 217, 167, 45, 50, 74, 16, 3, 228, 13, 274, 205, 119, 14, 216, -11, 195, 239, 247, 18, 236, 0, 178, 0, 11, 239, 1, 8, 18, 247, 27, 189, 85, 67, 46, 4, 222, 107, 69, 14, 178, 51, 9, 113, 7, 231, 181, 13, 239, 9, 287, 142, 127, 38, 257, 206, 206, 25, 263, 36, 175, 246, 173, 271, 214, 3, 145, 242, 1, 78, 203, 22, 56, 39, 124, 8, 11, 205, 220, 186, 246, 112, 258, 19, 123, 111, 288, 159, 36, 227, 36, 189, 1, 75, 0, 22, 167, 15, 145, 19, 3, 6, 138, 4, 238, 210, 217, 227, 236, 213, 197, 216, 110, 148, 21, 277, 116, 20, 241, 22, 178, 246, 8, 2, 129, 36, 16, 15, 18, 113, 201, 246, 216, 36, 264, 4, 200, 23, 236, 260, 115, 264, 131, 198, 252, 36, 122, 131, 189, 154, 53, 223, 109, 186, 9, 52, 13, 252, 209, 119, 7, 7, 36, 41, 18, 198, 149, 248, 0, 1, 252, 170, 28, 234, 83, 179, 174, 148, 11, 237, 7, 20, 2, 72, 235, 181, 261, 7, 36, 278, 39, 149, -10, 85, 102, 247, 0, 3, 259, 200, 176, 187, 45, 233, 16, 227, 219, 105, 9, 132, 82, 1, 7, 7, -11, 195, 237, 34, 254, 145, 147, 203, 42, 52, 198, -8, 21, 22, 175, 186, -6, 9, 172, 252, 275, 48, 201, 190, 11, 88, 130, 165, 119, 74, 108, 236, 110, 2, 7, 15, 102, 127, 154, 26, 75, 273, 0, 190, 9, 16, 17, -1, 4, 167, 6, 225, 28, 82, 0, 115, 37, 132, 7, 245, 255, 41, 36, 9, 273, 33, 236, 16, 12, 109, 77, -5, 255, 178, 157, -21, 12, 13, 17, 243, 23, 221, 237, 43, 14, -10, 217, 141, 162, 132, 272, 194, 0, 97, 268, 7, 262, 61, 15, 210, 214, 184, 14, 53, 285, 30, 211, 3, -10, 188, 266, 13, 82, 0, 0, 204, 7, 172, -1, 224, 17, 254, 242, 209, 247, 13, 236, 591, 13, 149, 157, 116, 11, 0, 149, 277, 195, 260, 187, -6, 149, 4, 3, 2, 129, 113, 19, 1, 28, 211, 47, 272, 263, 7, 168, 71, 267, 268, 159, 252, 100, 159, 201, 2, 238, 44, 30, 2, 145, 140, 157, 239, 613, 178, 80, 146, 705, 220, 250, 175, 194, 12, 223, 230, 15, 455, 94, 6, 209, 6, 231, 36, 219, 11, 151, 27, 129, 179, 214, 36, 239, 225, 241, 208, 154, 258, 264, 252, 172, 288, 272, 268, 6, 129, 21, 222, 175, 21, 217, 201, 195, 254, 272, 9, 143, 261, 31, 242, 201, -19, 41, 213, 242, 134, 168, 203, 255, 0, 0, 246, 26, 246, 153, 85, 26, 167, 7, 14, 183, 242, 162, 52, 137, 258, 211, 31, 252, 31, 187, 153, 3, 33, 260, 187, 230, 135, 20, 255, 176, 0, 236, 164, 225, 183, 105, 272, 452, 65, 198, 7, 16, -8, 233, 246, 229, 25, 213, 157, 232, 19, 2, 190, 228, 159, 183, 20, 162, 9, 620, 186, 218, 250, 7, 31, 148, 179, 213, 34, 21, 235, 231, 0, 184, 131, 229, 7, 107, 154, 242, 2, 7, 134, 183, 151, 13, 201, -5, 143, 26, 6, 253, 287, 134, 223, 1, 124, 4, 169, 142, 20, 14, 255, 2, 31, 12, 175, 11, 254, 230, 140, 145, 47, 131, 21, 16, 223, 264, 146, 103, 241, 121, 13, 25, 15, 21, 165, 7, 202, 15, 160, 232, -5, 37, 228, 176, 62, 205, 173, 231, 14, 157, 47, 222, 223, 236, 36, 19, 26, 144, 237, 14, 154, 192, 7, 237, 247, 26, 135, 91, 3, 30, 11, 187, 33, 3, 239, 206, 200, 82, 274, 218, 3, -6, 185, 129, 282, 135, 252, 28, 115, 45, 20, 279, 252, 190, 249, 86, 9, 18, 201, 28, 88, 175, 248, 247, 106, 261, 95, 187, 126, 174, 211, 12, 6, -3, 203, 123, 15, 115, 254, 138, 167, 10, 277, 173, 204, 3, 26, 11, 210, 17, 252, 243, 1, 193, 185, 9, 198, 113, 234, 205, 185, 201, 178, 259, 261, 291, 22, 233, 252, 143, 193, 14, 15, 164, 253, 233, 203, 315, 73, 183, 198, 11, 265, -6, 43, 238, 178, 9, -2, 138, 184, 159, 258, 172, 159, 7, 188, 258, 138, 265, 13, 224, 23, 30, 165, 116, 157, 139, 7, 257, 121, 39, 167, 94, 208, 129, 220, 55, 51, 169, 247, 261, 134, 58, 224, 18, 132, 63, 0, 261, 80, 158, 37, 145, 8, 161, 154, -3, 77, 3, 18, 267, 190, 164, 257, 9, 220, 152, 213, 259, 526, 246, 82, 157, 179, 246, 162, 113, 69, 15, 129, 11, 7, 197, 247, 6, 49, 234, 32, 227, 126, 214, 261, 33, 181, 251, 28, 222, 121, 0, 247, 36, 23, 79, 11, 262, 129, 41, 167, 252, 86, 217, 170, 265, 173, 154, 48, 4, 321, 56, 203, 4, 196, 42, 188, 19, 172, 11, 301, 190, 252, 123, 255, 13, 211, 39, 233, 12, 138, 7, 145, 198, 165, 57, 85, 6, 31, 82, 8, 164, 233, 6, 0, 23, 111, 15, 11, 228, 150, 26, 17, 3, 13, 213, -15, 263, 139, 212, 4, 183, 7, 190, 37, 132, 22, 19, 278, 22, -7, 164, 257, 60, 206, 172, 31, 2, 95, 242, 154, 61, 211, 269, 148, -1, 149, 223, 229, 206, -24, 238, 9, 206, 154, 31, 23, 195, 6, 0, 247, 153, 113, 61, 208, 209, 239, 26, 23, 124, 8, 247, 275, 132, 4, 17, 7, 2, 34, 236, 12, 256, 178, 272, 0, 170, 132, 18, 244, 30, 26, 17, 11, 183, 37, 20, 205, 220, 137, 39, 249, 53, 252, 3, 4, 129, 203, 177, 34, 269, 220, 156, 216, 162, 3, 36, 12, 21, 227, 148, 242, 2, 249, 131, 21, 141, 183, 91, 2, 230, 203, 205, 185, 227, 252, 228, 244, 36, 162, 285, 2, 2, 235, 31, 0, 175, 263, 50, 7, 9, 259, 217, 16, 82, -13, 247, 14, 156, 1, 269, 11, 178, 185, 132, 164, 89, 37, 146, 156, 83, 126, 48, 159, 86, 227, 442, 234, 262, 36, 168, 211, 260, 225, 220, 205, 159, 50, 124, 160, 192, 13, 206, 219, 224, 9, 115, 23, 208, 78, 0, 250, 126, 164, 16, 23, 59, 156, 204, 227, 306, 30, 185, 252, 175, 110, 193, 129, 0, 126, 144, 169, 2, 224, 4, 242, 129, -2, 217, 236, 181, 219, 203, 257, 287, 2, 6, 115, 10, 65, 0, 12, 198, 230, 159, 26, 120, 126, 173, 172, 126, 31, 30, 184, 246, 17, 219, 303, 41, 95, 25, 11, -1, 214, 224, 11, 167, 264, 126, 241, 194, 105, 34, 28, 14, 18, 213, 131, 23, 277, 165, 23, 242, 250, -10, 199, 170, 221, 80, 100, 231, 3, 277, 145, 242, 12, 156, 269, 267, 238, 89, 53, 226, 224, 64, 0, 17, 268, 154, 194, 20, 111, 11, 202, 115, 251, 233, 110, 250, 37, 21, -3, 317, 224, 115, 183, 9, 159, 15, 146, 22, 7, 25, 291, 178, 238, 145, 183, 260, 252, 253, 227, 205, 236, 131, 16, 192, 233, 176, 205, 176, 13, 77, 183, 9, 221, 170, 7, 36, 197, 125, 209, 247, 96, 14, 176, 144, 16, 167, 259, 160, 47, 33, 234, 0, 134, 27, 146, 214, 20, 187, 132, 7, 52, 383, 0, 164, 3, 151, 200, 242, 257, 222, 30, 211, 14, 247, 209, 0, 238, 119, 11, 186, 273, 80, 26, 197, 254, 62, 22, 149, 184, 144, 247, 0, 241, 0, 11, 205, 200, 20, 82, 242, 557, 195, 282, 208, 37, 156, 73, 7, 247, 226, 18, 14, 263, 148, 0, 242, 143, 205, 21, 26, 219, 11, 242, 7, 252, 85, 131, 209, 272, 131, 7, 188, 269, 241, 208, -3, 192, 218, 221, 17, 14, 11, 296, -1, 209, 75, 124, 206, 285, 231, 258, 7, 214, 244, 198, 125, 185, 9, 220, 19, 263, 244, 269, 222, 8, 203, 80, 7, 45, 213, -17, 34, 7, 22, -11, 180, 208, 25, 4, -14, 15, 58, 231, 60, 252, 203, 150, 252, 247, 0, 254, 195, 242, 241, 8, 277, 99, 232, 3, 199, 12, 0, 247, 141, 153, 261, 142, 256, 2, 142, 200, 239, 246, 8, 17, 3, 145, 1, 131, 240, 12, 17, -5, 53, 39, 56, 178, 39, 93, 239, 282, 269, 170, 99, 215, 3, 246, 61, 213, 8, 267, 126, -17, 242, 173, 213, 590, 239, 264, 195, 52, 9, 223, 164, 11, 0, 101, 268, 31, 272, 253, 193, 75, 260, 181, 242, 119, 6, 110, 261, 263, 232, 252, 274, 0, 22, 173, 4, 239, 67, 187, 225, 120, 22, 164, -15, 9, 37, 227, 4, 203, 252, -17, 26, 179, 272, 183, 21, 253, 4, 6, 138, 118, 235, -6, 140, 14, 183, 95, 176, 18, 341, 272, 170, -2, 235, 243, 157, 247, 219, 138, 243, -16, 17, 129, 154, 267, 11, 74, 213, 60, 59, 135, 255, 259, 604, 257, -6, 26, 254, 261, 247, 256, 13, 250, 193, 107, 43, 197, 42, 222, 480, 197, 239, 205, 203, 16, 194, 323, 70, 219, 77, 250, 29, 233, 201, 17, 12, 159, 206, 238, 26, 110, 198, 165, 137, 14, 218, 124, 86, 140, 179, 62, 261, 6, 175, 121, 38, 11, 13, 135, 264, -2, 175, 26, 100, 236, 181, 244, 174, 252, 242, 116, 229, 247, 153, 11, 123, 257, 272, 28, 244, 138, 252, 160, 123, 9, 244, 1, 205, 7, 4, 194, 244, 11, 267, 206, 259, 246, 160, 199, 214, 244, 137, 206, 147, 254, 223, 42, 195, 136, 22, 46, 252, 0, 169, 1, 249, 13, 215, 7, 225, 210, 119, 296, 218, 137, 55, 533, 17, 154, 248, 211, 175, 11, 213, 26, 172, 0, 241, 228, 46, 10, 231, 131, 15, 2, 64, 267, 6, 146, 70, 15, 143, 242, 213, 14, 180, 15, 36, 242, 238, 179, 164, 65, 39, 250, 88, 23, 193, 274, 254, 55, 249, 33, 209, 184, 269, 27, 256, 197, 7, 260, 7, 224, 217, 131, 15, 20, 242, 3, 14, 25, 0, 132, 225, 242, 0, 164, 190, 16, 10, 188, 184, 61, 200, 0, 199, 11, 224, 0, 124, 124, 21, 2, 205, 56, 289, 107, 570, 23, 241, 28, 13, 13, 137, 159, 6, 22, 12, 247, 75, 175, 291, 45, -1, 26, 170, 2, 3, 309, 158, 180, 139, 52, 184, 129, 148, 56, 174, 8, 277, 189, 19, 85, 208, 124, 17, -13, 16, 14, 170, 188, 237, -16, 127, 205, 33, 187, 3, 30, 165, 159, 146, 190, -1, 239, 0, 52, 4, 15, 242, 27, 46, 0, 227, 105, 34, 224, 85, 91, 48, 192, 75, 124, 164, 20, -36, 220, 178, 123, 32, 136, 214, 236, 41, 230, 18, 3, 248, 120, 157, 198, 115, 36, 187, 261, 221, 214, 296, 111, -3, 84, 232, 26, 147, 138, 222, 230, 85, 219, 63, 192, 7, 187, 20, 224, 148, 104, 518, 221, 228, 86, 86, 50, 121, 228, 193, 115, 105, 70, 246, 20, 151, 170, 325, 151, 239, 169, 146, 11, 218, 248, 244, 91, 208, 257, 248, 67, 238, 16, 214, 209, 214, 242, 170, 174, 0, 156, 203, 261, 15, 66, 15, 200, 185, 4, 31, 262, 12, 72, 156, 186, 33, 45, 44, 246, 2, 153, 3, 199, -16, 230, 229, 142, -2, 4, 100, 159, 241, 9, 20, 41, 241, 148, 249, 249, 61, 265, 77, 15, 56, 33, 158, 124, 2, 129, 6, 6, 258, 25, 105, 11, 186, 39, 197, 115, 19, 222, 58, 16, 180, 246, 170, 115, 2, 269, 224, 36, 149, 2, 83, 55, 176, 27, 6, 142, 225, 183, 19, 203, 45, 1, 179, 22, 197, 30, 144, 266, 102, 252, 172, 16, 282, 206, 198, 235, 110, 216, 6, 45, 257, 184, 170, 62, 20, 131, 23, 170, 26, 224, 246, 108, 3, 257, 9, 187, 214, 274, 174, 36, 72, -13, 135, 220, 57, 186, 44, 4, 164, 18, 203, 200, 31, 22, 19, 7, 275, 252, 244, 55, 7, 241, 246, 232, 192, 19, 512, 242, 264, 8, 195, 144, 269, 234, 216, 116, 194, 34, 146, 36, 18, 108, 15, 160, 262, 8, 162, 301, 211, 91, 25, 2, 222, 146, 22, 266, 201, 99, 5, 53, 20, 16, 214, 274, -11, 235, 222, 262, -12, 261, 244, 111, 0, 199, 206, 252, 217, 233, 254, 219, 217, 167, 20, 249, 128, 37, 71, 156, 196, 147, 9, 21, 189, 87, 167, 252, 171, 13, 77, 213, 172, 219, 251, 104, 2, 4, 187, 33, 257, 36, 94, 386, 52, 105, 192, 0, 40, 222, 0, 266, 230, 81, 72, 173, 127, 16, 23, 3, 67, 47, 194, 250, 194, 139, 7, 12, 183, -5, 36, 9, 262, 167, 195, 257, 7, 0, 77, 19, 135, 261, 109, -1, 8, 120, 261, 149, 257, 151, 252, 219, 257, 225, 205, 127, 1, 28, 45, 7, 252, 99, 47, 283, 167, 237, 200, 146, 17, 173, 4, 206, 216, 26, 219, 111, 97, 153, 156, 1, 66, 252, 173, 126, 626, 242, 276, 293, 246, 242, 228, 247, 3, 198, 3, 159, 126, 272, 6, 266, 247, 246, 209, 80, 81, 67, 23, 179, 88, -5, 253, 253, 156, 149, 172, 28, 176, 219, 205, 104, 6, 315, 231, 8, 3, 231, 237, 252, 269, 262, 236, 224, 260, 156, 34, 195, 101, 12, 203, 160, 173, 102, 157, 246, 242, 138, 257, 242, 282, 236, 0, 23, 58, 259, 246, 80, 129, 107, 0, 23, 131, 164, 2, 251, 222, 80, 123, -3, 258, 0, -6, 12, 2, 17, 148, 203, 144, 205, 192, 17, 23, 144, 7, 233, 11, 224, 1, 205, 151, 0, 52, 64, 229, 20, 140, 46, 227, 135, 183, 115, 347, 22, 216, 180, 134, 17, 195, 72, 149, 28, 189, 6, 13, 228, 129, 195, 15, 31, 273, 33, 213, 31, 255, 135, 208, 41, 60, -10, 154, 23, 237, 86, 260, 31, 249, 198, 56, 134, 211, -3, 229, -2, 4, 8, 36, 52, 210, 675, 56, 2, 30, 210, 6, 187, 184, 226, 178, 186, 211, 3, 268, 26, 165, 243, 218, 266, 195, 232, 201, 20, 45, 134, 3, 244, 19, 23, 244, 31, 140, 17, 168, 39, 276, -3, 1, 232, -16, 116, 44, 200, 219, 37, 135, 154, 149, 227, 140, 21, 241, 124, 68, 274, 7, -21, 201, 14, 224, 84, 76, 216, 97, 257, 86, 48, 195, 237, 138, 251, 159, 153, 252, 65, 250, 205, 205, 188, 7, 187, 2, 227, 0, 80, 52, 48, 9, 517, 323, 183, 228, 219, 190, 58, 151, 237, 239, 249, 22, 8, 140, 52, 64, 221, 252, 213, 162, 41, 4, 223, 300, 246, 169, 137, 140, 259, 129, 290, 249, 0, 87, 272, 201, 41, 7, 250, 13, 138, 153, 112, -5, 20, 280, 17, 12, 0, 82, 249, 129, 267, 56, 75, 22, 169, 214, 257, 134, 203, 204, 89, 272, 213, 252, 200, 189, 115, 228, 225, -14, 167, 7, 263, 45, 195, 0, 8, 2, 41, 265, 238, 232, 185, 252, 251, 75, 220, 7, 167, 15, 26, 257, 127, 247, 250, 237, 31, 34, 57, 41, 362, 97, 28, 22, 16, -10, 22, 120, 254, 28, 93, 246, 197, 219, 190, 14, 88, -6, 205, 201, 193, 237, 153, 167, 156, 246, 257, 121, 181, 37, 82, 195, 198, 26, 69, 36, 183, 127, 146, 149, 47, 12, 198, 33, 52, 23, 9, -3, 21, 14, 26, 112, 224, 20, 21, 2, 67, 238, 121, 138, 3, 252, 123, 9, 228, 21, 129, 21, -2, 188, 182, 89, 9, 262, 138, 235, 254, 216, 162, 12, 0, 13, 140, 162, 65, 87, 207, 172, 44, 218, 0, 165, 282, 274, 247, 173, 236, 141, 53, 255, 108, 8, 184, 197, 153, 244, 247, -9, 83, 235, 7, 113, 1, 252, 201, 110, 90, 56, 224, 36, 250, 33, 46, 257, 220, -8, 222, 17, 222, 189, 1, 151, 217, -6, -8, 257, 192, 16, 11, 173, 93, 147, 267, 193, 262, 16, 88, 264, 52, 138, 137, 33, 22, 203, 96, 2, 44, 28, 126, 195, 209, 193, 40, 6, 132, 84, 9, 246, 151, 7, 52, 22, 91, 257, 33, 269, 28, 5, 195, 6, 249, 121, 143, -8, 194, 127, 3, 534, 160, 203, 224, 19, 223, 121, 7, 222, 239, 50, 1, 20, 252, 247, 159, 206, 23, 17, 215, 3, 264, 50, 241, 264, 19, 28, 257, 0, 17, 168, 16, 219, 28, 255, -3, 187, 15, 88, -1, 55, 221, -19, 167, 95, 206, 9, 53, 6, 28, 162, 247, 247, 1, 37, 244, 272, 116, 63, 132, 8, 118, 244, 254, 6, 88, 126, 228, 252, 16, 249, 25, 263, -10, 180, 215, 238, 254, 225, 247, 240, 252, 129, 1, -2, 7, 290, 233, 7, 91, 183, 0, 28, 19, -19, 160, 142, 266, 135, 141, 200, 16, 187, 159, 33, -6, 172, 69, 62, 162, -6, 3, 46, 123, 2, 167, 16, 247, 15, 261, 121, 7, 2, 69, 262, 34, 120, 1, 244, 30, -6, 149, 139, 262, 89, 113, 210, 216, 254, 141, 19, 4, 108, 225, 61, 209, 14, 75, 193, 82, 85, 173, 88, 185, 246, 135, 6, 238, 0, 211, 237, 13, 165, 88, 153, 178, 266, -10, 28, 178, 216, 288, 26, 205, 15, 20, 153, 64, 331, 244, 282, 108, 159, 194, 23, 21, 274, 131, 274, 19, 77, 129, 244, 4, 249, 211, 255, 250, 261, 260, 226, 249, 184, 186, 38, 246, 200, 129, 160, 7, 14, 242, 9, 213, 195, 233, 21, 16, 34, 164, 184, 126, 190, 11, 7, 332, 169, 160, 203, 0, 200, 36, 227, 362, 75, -13, 235, 213, 233, 3, 94, 3, 145, 179, 271, 67, 287, 113, 12, 205, 17, 225, 34, 30, 126, 201, 254, 209, 216, 16, -5, 235, 16, 142, 254, 140, 277, 0, 16, 209, 242, 189, -6, 22, 28, 137, 3, 206, 194, 33, 119, 112, 58, 26, 178, 224, 1, 247, 178, 0, 224, 0, 62, 260, 111, 255, 41, 20, 239, 165, 3, 154, 0, 242, 187, 152, 232, 192, 101, 15, 112, 187, 282, 193, 208, 214, 229, 247, 7, 20, 13, 143, 174, 0, 14, 215, 254, 42, 181, 75, 222, 216, 155, 255, 123, 224, 118, 237, 247, 23, 258, 256, 299, 53, 33, 47, 85, 6, 15, 7, 148, 11, 186, -1, 41, 208, 195, 260, 0, 201, 45, 201, 33, 167, 65, 160, 175, 312, -5, 1, 228, 33, 25, 4, 13, 257, 15, 208, 112, 242, 222, 22, 159, 211, 74, 15, 3, 225, 17, 239, 213, 185, 172, 7, 19, 226, 0, 28, 8, 151, 188, 39, 9, 0, 279, 26, 31, 252, 85, 19, 181, 252, 170, 2, 17, 191, 154, 188, 247, 173, 271, 187, 0, 252, 156, 46, 21, 119, 208, 8, -1, -10, 146, 168, 127, 7, 124, 199, 118, 15, 183, 8, 175, 218, 19, 1, 193, 31, 232, 20, -1, 0, 51, 226, 12, 193, 231, -6, 247, 203, 180, 11, 175, 257, 267, 238, 20, 3, 252, 178, 259, 4, 242, 15, 7, 19, 214, 55, 225, 7, 24, 11, 3, 116, 107, 249, 153, 15, 223, 219, 206, 30, 0, 215, 274, 52, 51, -19, 194, 20, 73, 64, 21, 13, 129, 18, 244, 35, 134, 246, 201, 181, 149, 2, 175, 110, 55, 214, 187, 229, 104, 9, 274, 18, 0, 134, 44, 200, 6, 9, 242, 154, 30, 160, 16, -3, 217, 183, 224, 249, 165, 190, 101, 1, 231, 244, 206, 30, 170, 272, 7, 214, 3, 241, 41, 210, 17, 238, 260, 13, 13, 66, 46, 492, 6, 164, 164, 21, 242, 17, 291, 154, 91, 115, 146, 229, 3, 1, 4, 14, 140, 200, 237, -10, 268, 11, 87, 113, 0, 16, 186, 6, 63, 181, 33, 88, 0, 20, 11, 69, 19, 252, 260, 160, 90, 189, 282, 258, 7, 0, 34, 244, 52, -16, -3, 242, 180, 209, 16, 259, 162, 249, 1, 44, 30, 173, 126, 246, 41, 189, 48, 21, 228, 156, 257, 7, 262, 174, 151, 224, 75, 110, -17, 88, 1, 19, 237, 233, 252, -15, 83, 7, 213, 94, 250, 247, 55, 241, -23, 8, 283, 168, 1, 16, 7, 94, 159, 9, 250, 226, 22, 28, 0, 78, 34, 242, 290, 213, 124, 165, 241, 12, 200, 253, 242, 1, 111, 274, 4, 108, 235, 221, 224, 159, 205, 165, 126, 49, 236, 146, 110, 217, 8, 257, 20, 23, 261, 185, 263, 704, 110, 44, 200, 249, 44, 190, 15, 193, 255, 165, 305, 42, 174, 214, 154, 26, 37, 39, 13, 124, 476, 12, 203, 254, 118, 23, 162, 156, 25, 195, 496, 7, 217, 151, 19, 206, 139, 4, 129, 229, 238, 225, 17, 206, 119, 253, 36, 114, 129, 249, 237, 218, 55, 135, 21, 47, 4, 52, 181, 282, 16, 197, 25, 15, 50, 19, 17, 268, 170, 167, 3, 72, 560, 44, 201, 11, 123, 26, 278, 6, 20, 19, 188, -1, 11, 173, 17, 242, 134, 137, 193, 107, 216, 19, 2, 195, 19, 167, 206, 25, 1, 11, 262, 7, 242, 254, 45, 123, 197, 254, 26, 261, 246, 252, 170, 192, 148, 442, 247, 14, 112, 244, 77, 197, 242, 5, 13, 144, 241, 26, 214, 100, 251, 236, 232, -1, 187, 198, 6, -5, 2, 21, 61, 149, 25, 20, 313, 221, 148, 31, 184, 154, 224, 19, 11, 252, 272, 18, 11, 8, 3, 165, 162, 11, 93, 9, 139, 142, 247, 26, 205, 24, 167, 211, 112, 167, 268, 2, 97, 198, 258, 245, -4, 121, 237, 170, 165, 108, 6, 116, 97, 214, 253, 249, 62, 21, 172, 172, 241, 192, 48, 160, 80, 83, 44, 238, 251, 155, 214, 65, 132, 105, -11, 124, 47, 257, -16, 260, 144, 160, 11, 19, 21, 194, 228, 97, 10, 243, -11, 254, 242, 30, 283, 209, 188, 247, 19, 37, 193, 72, 152, 83, 7, 225, 134, 10, 30, 112, 142, 31, 237, 219, 7, 214, 214, 66, 185, 187, 261, -15, 214, 293, 230, 129, 7, 241, 19, 3, 139, 260, 14, 16, 216, 150, 239, 204, 6, 252, 170, 164, 213, 244, 153, 3, 15, 58, 239, 25, 7, 206, 41, 170, 32, 30, 218, 20, 250, 225, 23, 139, 15, 26, 198, 244, 7, 192, 176, 0, 23, 33, 203, -14, 174, 49, 93, 263, 12, 18, 176, 183, 205, 154, 181, 160, 0, 28, 154, 228, 17, 242, 160, 190, 222, 263, 149, 192, 12, 116, 156, 200, 259, -16, 3, 146, 58, 192, 137, 247, 242, 132, 228, 140, 213, 100, 96, 41, 26, 159, 11, 246, 41, 19, 63, 173, 230, 227, 28, 0, 40, 23, -5, 231, 239, 22, 183, 178, 173, 273, 11, 201, 200, 96, 6, 107, 112, 119, 71, 242, 260, 238, 156, 168, 187, 178, 0, -5, 170, 131, 261, 11, 266, 12, 267, 210, 2, 19, 174, 1, 213, 83, 20, 211, -3, 12, 87, 6, 17, 72, 29, 224, 154, 224, 272, 188, 4, 236, 121, 23, 19, 127, 165, 126, 69, 3, 76, 0, 127, 101, 250, 11, 14, 26, 16, 195, 208, 138, 137, 69, 160, 80, 13, 101, 37, 236, 34, 30, 154, 186, 26, 1, 276, 3, 108, 13, 227, 38, 218, 134, 289, 134, 262, 160, 267, 241, 59, -2, 144, 21, 58, 218, 53, 19, 221, 25, 15, 43, 4, 624, 0, 175, 78, 14, 15, 86, 190, 72, -8, 41, 222, -1, 208, 11, 164, 14, 167, 216, 213, 205, 9, 181, 100, 139, 232, 36, 255, 154, 237, 41, 242, 18, 15, 33, 188, 36, 195, 11, 9, 33, 224, 257, 23, 264, 258, 261, -6, 209, 269, 183, 247, 277, 152, 14, 192, 9, 183, 2, 41, 1, 243, 148, 148, 205, -21, 247, 164, -6, 244, 228, 198, 151, 213, 193, 2, 26, 143, 39, 252, 258, 14, 41, 206, 171, 39, 254, 206, 13, 37, 11, 187, 17, 151, 216, 233, 3, 189, 183, 173, 17, 33, 183, -11, 8, 154, 17, 218, 269, 205, 269, 190, 12, 9, 134, 25, 42, 258, 242, 183, -14, 162, 6, 105, 167, 13, 261, 11, 252, 195, 224, 2, 158, 1, 26, 52, 135, 86, 294, 237, 26, 104, -11, 247, 29, 50, 229, 86, 19, 7, 193, 244, 10, 159, 203, 89, 239, 246, 221, 6, 115, 22, 110, 16, 159, 28, 154, 242, 250, 144, 36, 29, 10, 7, 190, 241, 75, 110, 26, 165, 187, 16, 17, 178, 213, 31, 14, 257, 126, 25, 233, 178, 70, -5, 11, 131, 93, 124, 11, 217, 247, 115, 146, 239, 134, 238, 5, 138, 19, 9, 127, 116, 237, 206, 0, 11, 242, 268, 269, 231, -6, 124, 247, 259, 193, 219, 153, 28, 24, 202, 203, 47, 165, 174, 129, 16, 228, 238, 223, 71, 246, 23, 47, 185, 208, 135, 269, -6, 56, 69, 106, 156, 236, 296, 247, 113, 11, 395, 250, 37, 134, 208, 63, 195, 26, 247, 11, 218, -1, 522, 218, 132, 17, 178, 18, 16, 13, 239, 15, 173, 110, 12, 255, 148, 25, 263, 225, 219, 115, 188, 149, 72, 234, 94, 201, -15, 140, 2, 165, 77, 6, 179, 262, 214, 165, 20, 22, 31, 143, 208, 16, 42, 249, 183, 38, 260, 205, 3, 135, 0, 90, 154, 219, 219, 118, 48, 25, 5, 178, 247, 149, 0, 7, 46, 257, 156, 18, 31, 213, 208, 100, 252, 20, 201, 140, 198, 228, 131, 27, -2, 26, 250, 249, 185, 163, 264, 193, 242, 90, 18, -4, 0, 7, 272, 3, 165, 16, 170, -1, 85, 77, 198, 149, 6, 159, 19, 12, 72, 183, 121, 144, 222, 19, 274, 109, 277, 242, 186, 105, 90, 213, 250, 1, 15, 15, 13, 83, 135, 246, 124, 82, 29, 19, 178, 258, 64, 267, 241, 96, 169, 22, 200, 28, -10, 248, 85, 11, 228, -13, 205, 219, 142, 20, 183, 41, 130, 252, 129, 15, 34, -5, 0, 172, 160, 201, 145, 214, 93, 10, 139, 214, 179, 85, 29, 233, 6, 192, 7, 7, 145, 4, 148, 225, 141, 143, 117, 220, 37, 190, 224, 36, 712, 260, 85, 167, 228, 41, 216, 164, 27, 101, 272, 146, 9, 0, 269, 233, 69, 102, 146, 134, 56, 227, 257, 86, 257, 17, 14, 244, 11, 15, 101, 252, 135, 266, 11, 190, 236, -11, 70, 157, 11, 207, 11, -2, 268, 232, 17, 139, 16, 64, 144, -7, 190, 230, 203, 19, 257, -5, -3, 174, 11, 90, 146, 277, 167, 13, 277, 351, 45, 136, 21, 219, 11, 205, 179, -6, 241, 228, 209, 252, 178, 0, 179, 7, 208, 288, 277, 113, 227, 26, 7, 233, 148, 8, 124, -1, 173, 140, -5, 232, 12, 197, 255, 22, -2, 259, 204, 243, 126, 15, 36, 7, 262, 197, 11, 189, 198, 248, 56, -6, 148, 208, 150, 124, 254, 257, 214, 178, 257, 145, 39, 56, 0, 8, 143, 190, 222, 86, 18, 1, 18, 11, 18, 7, 198, 217, 225, 260, 165, 9, 237, 241, 16, 156, 26, 247, 102, 20, 21, -6, 26, 37, 23, 137, 134, 43, 170, 228, 8, 6, 258, 121, 242, 141, 197, 129, 138, 182, 210, 227, 284, 178, 61, 626, 233, 261, 265, 247, 0, 2, 266, 40, 255, 165, 115, 242, 257, 252, 241, 239, 12, 0, 203, 11, 115, 254, 287, 190, 201, 156, 9, 137, 208, 227, 4, 165, 75, 53, 246, 134, 28, 279, -3, 251, 209, 268, 175, 78, 252, 183, 226, 277, 236, 95, 82, 145, 262, 236, 23, 288, 89, 254, -6, 239, 52, 242, 186, 184, 115, 124, -1, 129, 30, 198, 26, 2, 262, 181, 254, 484, 73, 172, 257, 269, 154, 36, 194, 209, 260, 141, 11, 12, 139, 135, 0, 211, 283, 32, 131, 61, 16, 16, 37, 140, 228, 9, 252, 216, 26, 89, 254, 179, 639, 2, -1, 11, 10, 94, 231, 82, 184, 209, 23, 220, 22, 135, 9, 7, -6, 6, 23, 201, 237, 208, 43, 188, 203, 242, 201, 134, 11, 1, 10, 159, 232, 264, 10, 190, 185, 6, 160, 225, 13, 160, 149, 28, 235, 48, 198, 45, 22, 4, 260, 97, -8, 187, 15, 248, 156, 34, 1, 247, 242, 69, 222, 232, 218, 7, 252, 0, 49, 181, -2, 11, 237, 259, 51, 201, 64, 225, 3, 184, 40, 167, 0, 162, 209, 169, 261, 247, 216, 137, 116, 11, 78, 221, 170, 279, 11, 178, 116, 237, 77, 225, 16, 30, 110, 6, 94, 183, 138, 0, 163, 260, 274, 249, 178, 148, 219, 165, 12, 51, 167, 291, 11, 252, 6, 63, 193, 257, 241, 0, 219, 634, 159, 247, 2, 151, 21, 36, 12, 190, 96, 214, 230, 148, 140, 169, 535, 118, 190, 247, 239, 20, 269, 137, 7, 118, 244, 0, 52, 26, 257, 297, 172, 8, 255, 254, 11, 14, 195, 36, 172, 183, 8, 2, 7, 261, 232, 14, 26, 1, 37, 32, 248, 252, 176, 231, 238, 2, 75, 3, 190, 0, 242, 39, 2, 138, 198, 263, 4, 280, 11, 224, 291, 149, 41, 132, 17, 89, 13, 232, 13, 263, 11, 31, 254, 298, 222, 183, 155, -3, 17, 206, 178, 164, 21, 47, 175, 190, 183, 145, 23, 298, 140, 185, 21, 48, 247, 257, 239, 229, 0, -7, 203, 181, 239, 45, 1, 195, 19, 104, 89, -5, 213, 2, 75, 99, 11, 16, 96, 201, 165, 85, 196, 104, 37, 145, -2, -11, 249, 11, 20, 233, 115, 0, 61, 219, 22, 9, 42, 56, 259, 120, 228, 55, 11, 74, 23, 229, 231, 30, 246, 287, 41, 47, 233, 11, 25, 228, 173, 238, 203, 216, 13, 65, 255, 16, 222, 108, 254, 26, 184, 6, 26, 26, 7, 208, 264, 140, 159, 1, 81, 55, 1, 178, 197, 192, 146, 101, 213, 164, 190, 261, 122, 238, 192, -2, 185, 244, 243, 34, 14, 143, 258, 23, 211, 213, 262, 6, -2, 219, 80, 193, 244, 216, 6, 181, 446, 12, 235, 0, 190, 14, 11, 17, 257, 131, 6, 6, 131, 209, 6, 56, 1, 169, 75, 107, 154, 272, -3, 11, 9, 223, 19, 259, 221, 21, 11, 53, 186, 129, 52, 11, 71, 183, 7, 209, 758, 216, 17, 265, 241, 154, 0, 155, 2, 175, 56, 210, 127, 242, 246, 34, 213, 303, 21, 237, 14, -6, 257, 107, 204, 85, 242, 16, 203, 216, 200, 255, 213, 199, 303, 17, 258, 39, 178, 178, 93, 237, 115, 75, 140, 159, 188, 169, 276, 183, 245, 88, 61, 257, 223, 233, 80, 110, 7, 30, 173, 17, 468, 26, 165, 53, 168, 249, 2, 250, 175, 2, 1, 20, 50, 218, 61, 25, 23, 234, 157, 242, 159, 11, 143, 201, 163, 124, 227, 34, 181, 11, 162, -5, 187, 56, 1, 257, 175, 2, 22, 16, 272, 7, 228, 1, 0, 33, 124, 46, 25, 7, 249, 213, 173, 223, 12, 26, 16, 255, -10, 183, 28, 19, 251, 26, 4, 0, 31, 37, 3, 258, 0, 172, 86, 149, 213, 179, 17, 146, 272, 11, -2, 201, 11, -16, 228, 230, 206, 247, 16, 227, -10, 235, 23, 20, 84, 134, 6, 213, 227, 159, 226, 198, 252, 44, 238, 220, 170, 203, 3, 176, 272, 255, 135, 17, 6, 7, 198, 249, 252, 260, 8, 272, 250, 216, 244, 59, 7, 48, 272, 23, 247, 208, 268, 170, 222, 16, 149, 178, 228, 238, 160, 235, 16, 21, 290, 23, 18, 139, -2, 278, 149, 164, 198, 11, 159, 91, 78, -12, 246, 23, 132, 132, 15, 33, 19, 15, 12, 222, 264, 188, 113, 252, 47, 203, 198, 89, 4, 89, 257, 61, 12, 214, 3, 250, 0, 137, 149, -6, 32, 36, 34, 178, 14, 195, 9, 45, 237, 21, 162, 11, 254, 7, 8, 265, 22, 46, 230, 149, 75, -10, 6, 156, 175, 74, 205, 15, 88, 37, -3, 155, 122, 15, 165, 183, 216, 36, 178, 55, 241, 14, 120, 17, 11, 0, 262, 267, 41, -5, 269, 4, -1, 225, 258, 232, 0, 203, 4, 11, 214, 7, 0, 23, 154, 252, 255, 104, 57, 7, 60, 154, 178, 8, 221, 252, 21, 82, 283, 263, 3, 100, 167, 110, 249, 287, 36, 6, 184, 208, 527, 126, 0, 91, 62, 88, 170, 52, 222, 6, 18, 200, 7, 185, 273, 239, 190, 3, 2, 160, 47, 262, 110, 246, 262, 149, 218, 186, 11, 209, -1, 241, 132, 194, 7, 82, 190, 258, 264, 28, 15, 238, 16, 161, 74, 165, 162, 146, -3, 14, 136, 279, 0, 61, 227, 209, -6, 47, 208, 246, 33, 7, 26, 157, 239, -6, 22, 15, 134, 15, 4, 4, 242, 164, 113, 41, 7, 241, 247, 180, 254, 17, 11, 4, 134, 124, 159, 113, 146, 273, 206, 213, 11, 162, 206, 11, 118, 74, 13, 127, 228, 28, 230, 249, 131, 251, 0, 374, 224, 216, 26, 23, 154, 22, 184, 7, 293, 254, 258, 206, 241, 38, 21, 169, 116, 12, 121, 44, 258, 135, 273, 16, -2, 229, 181, -5, 146, 252, 11, 167, 297, -1, -6, 129, 12, 225, 78, -16, 140, 16, 25, 14, 151, 116, 233, 190, 189, 173, 8, 45, 236, 263, 313, 121, 203, 2, 249, 197, 82, 33, 110, 95, 111, 288, 40, 14, 175, 242, 146, 228, 210, 242, 258, 262, 123, 197, 197, 1, 260, 82, 203, 67, 9, 269, 23, 188, -11, 48, 173, 138, -6, 279, 23, 140, 189, 222, 249, 272, 86, 228, 195, 27, 31, 12, 224, 7, 151, 17, 22, 42, -30, 71, 186, 242, 26, 64, 135, 257, 239, 239, 13, 25, 269, 7, 129, 203, 136, 217, 14, 91, 147, -1, 0, 12, 45, 183, 11, 205, 14, 7, 36, 58, 230, 214, 108, 99, 9, 198, 4, 142, 41, 258, 188, 77, 252, 54, -6, 246, 13, 263, 170, 101, 30, 178, 154, 267, 130, -5, 272, 197, 255, 0, 8, 51, 187, 116, 179, 197, 148, 14, 8, 208, 179, 450, 36, 24, 239, 0, 200, 205, 158, 19, 160, 197, 134, 262, 155, 22, 189, 252, 15, 239, 17, 11, 259, 198, 400, 11, 258, 20, 252, 71, 167, 43, 249, 174, 88, 247, 218, 253, 27, 118, 20, 192, 272, 143, 50, 259, 108, 143, 216, 198, 31, 23, 16, 4, 234, 105, 6, 12, 611, 11, 33, 138, 269, 28, 237, 31, 157, 92, 99, 17, 48, 8, 132, 247, 25, 168, 283, 137, 61, 9, 102, 228, 23, 198, 200, 194, 217, 228, 3, 4, 337, 23, 164, 230, 20, 15, 2, 249, 30, 242, 257, 605, 233, 74, 142, 188, 6, 145, -6, 47, 56, 1, 0, 12, 219, 225, 18, 4, 172, 6, 7, 41, 82, 223, 14, 11, 1, 214, 19, 119, 7, 34, 15, 6, 4, 267, 7, 46, 262, 22, 11, -15, 214, 265, 208, 252, 116, -3, 162, 249, 94, 11, 134, 121, 267, 31, 110, 312, 258, 0, 206, 257, 208, 228, 230, 184, 152, 18, 20, 89, 8, 176, 266, 84, 254, 146, 129, 25, 11, 21, 14, 168, 94, 255, 267, 232, 260, 1, 67, 48, 214, 203, 45, 244, 1, 249, 30, 213, 299, 247, 162, 170, 174, 208, 234, 61, 223, 247, 8, 257, 8, 213, 15, 134, 31, 4, 22, 169, 141, 25, 17, 26, 183, 262, 47, 63, 179, 26, 3, 263, 75, 234, 88, 170, 145, 3, 252, 440, 170, 143, 2, 262, 52, 212, 234, 236, 23, 141, 210, 45, 178, 141, 172, 249, -11, 252, 239, 183, 154, 214, 233, 1, 21, 64, 224, 56, 32, 174, 174, 266, 102, 134, 6, 28, 238, 159, 123, 121, 306, 175, -6, 210, 2, 224, 214, 233, 57, 77, 247, 85, 2, 246, 187, 47, 17, 202, 688, 120, 11, 123, 208, 242, 235, 13, 124, 228, 36, 9, 181, 11, 55, 193, 242, 239, 272, 13, 168, 242, 88, 46, 11, 58, 5, 221, 267, 0, 3, 21, 156, 263, 33, 244, 126, -4, 272, 265, 221, 0, 203, 55, 56, 11, 252, 119, 70, 217, 170, 252, 37, 33, 256, 235, 239, 18, 6, 214, 200, 116, 75, 207, 61, 164, 0, 195, 45, 263, 252, 226, 8, 214, -17, 239, 145, 4, 213, 203, 288, 186, -5, 609, 21, 7, 7, 206, 53, 9, 24, 272, 178, 173, 147, 148, 34, 242, 97, 266, 216, 143, 3, 11, 4, 21, 16, 0, 17, 61, -7, 56, 72, 9, 67, 11, 242, 9, 23, 60, 234, 20, -10, 214, 0, 64, 172, 208, 127, 4, 235, 247, 267, 290, 8, 241, 228, 301, 267, 240, 9, 33, 189, -13, 50, 23, 0, 159, 242, 55, 265, 137, -6, 240, 22, 56, 46, 229, 150, 53, 173, 41, 154, 265, 190, 179, 235, 13, 7, 247, 94, 115, 225, 140, 264, 255, 153, 443, 180, 267, 184, 203, 259, 254, 2, 19, 48, 303, 99, 50, 452, 173, 153, 188, 9, 20, 197, 15, -2, 6, 15, 134, 189, 3, 159, 26, 219, 158, 187, 156, 143, 137, 21, 220, 170, 265, 154, 15, 201, 165, 634, 22, 3, 235, 173, 11, 141, 31, 15, 61, 220, 157, 219, 217, 242, 244, 7, 190, 70, 227, 157, 227, 244, 8, 232, 246, 129, 169, 90, 7, 36, 0, 9, 11, 17, 151, 221, 717, 186, 33, 13, 121, 213, 1, 44, 246, 23, 19, 241, 4, 8, 8, 263, 3, 239, 7, 17, 12, 97, 11, 17, 18, 257, 173, 11, 195, 246, 138, 250, 20, 21, 252, 17, 236, 13, 41, 129, 242, 256, 197, 238, 66, 223, 85, 8, 176, 213, 100, 57, 6, 224, 252, 237, 140, 170, 25, 282, 257, -3, 201, 180, 14, 110, 223, 242, 1, 242, 211, 145, -2, 219, 146, 572, 18, 227, 17, 162, 122, 175, 242, 271, 3, 11, 201, 160, 190, 47, 102, 80, 183, 226, 239, 253, 21, 216, 274, 13, -8, 258, 24, 203, 224, 17, 9, 165, 11, 45, 385, 7, 102, 61, 244, 36, 20, 235, 14, 7, 190, 106, 252, 12, 132, 174, 161, 22, 148, 251, 219, 21, 167, 189, 21, 71, 0, 33, 210, 439, 23, 18, 237, 200, 1, 205, 153, 131, 11, 18, 194, 154, 239, 242, 223, 85, 11, 11, 12, 21, 63, -5, 195, 237, 164, 62, 190, 120, 255, 189, 216, 153, 234, 36, 258, 65, 222, 129, 4, 25, 291, 67, 244, 8, 149, 239, 21, 160, 283, 26, 414, 244, 45, 44, 241, 205, 208, 102, 667, 237, -5, -10, 64, 266, 157, 3, 6, 33, 5, 126, 15, 5, 28, 203, 227, 31, 232, 160, 272, 220, 113, 30, 113, 7, 4, 246, 30, 186, 291, 187, 274, 269, 254, 235, 7, 170, 436, 16, 37, 231, 257, 80, 106, 22, 181, 50, 110, 242, 214, 19, 260, 276, 6, 238, 257, 165, 205, 85, -1, 7, 123, 198, 226, 8, 15, 242, 216, 104, 193, 1, 239, 12, 242, 198, 6, 190, 165, 241, 154, 255, 165, 18, 254, -1, 12, 235, 90, 41, 136, 188, 0, 283, 29, 25, -21, -3, 236, 7, 22, 194, 6, 228, 12, 266, 247, 213, 11, 236, 310, 190, 288, 246, 34, 19, 208, -11, 88, 53, 31, 262, 70, 244, 269, 0, 236, 172, 192, 175, 138, 110, 280, 6, 82, 56, 238, 145, 208, 196, -10, 135, 249, 47, 180, 76, 582, 206, 0, 278, 26, 21, 16, 236, 64, 56, 1, 254, 176, 160, 212, -8, 236, 222, 124, 3, 61, 14, 6, 259, 242, 23, 122, 6, 258, 250, 8, 126, 273, 247, 110, 33, 28, 189, 249, 257, 15, 126, 262, -17, 7, 12, 91, 233, 156, 210, 219, 20, 14, 272, 151, 15, 250, 21, 70, 188, 96, 187, 56, 202, 6, 219, 255, 16, 223, 36, 244, 249, 153, 163, 39, 2, 96, 225, 165, 11, 37, 149, 228, 181, 193, 125, 11, 7, 129, 73, 321, 260, 201, 157, 291, 157, 220, 186, 7, 7, 242, 206, 67, 230, 138, 88, 0, 194, 209, 124, 227, 140, 189, 0, 17, 246, 262, 151, 14, 217, 214, 254, 124, 241, 252, 143, 0, 262, 23, 41, 188, 25, 6, 131, 77, 26, 127, -21, 256, 17, 223, 205, 154, 144, 272, 232, 198, 48, 215, 74, 164, 280, 0, 242, 190, 224, 212, 189, 214, -1, 264, 14, 8, 0, 203, 108, 235, 241, 264, 11, 34, 13, 74, 359, 135, 184, 217, 205, 252, 218, 211, 10, 57, 151, 236, 219, 143, 12, 115, 61, 154, 228, 225, 181, 2, 23, 197, 205, 279, 271, 8, 183, 134, 246, 281, 1, 26, 261, 67, 198, 268, 4, 225, 167, 70, 232, 235, 140, 16, 126, 17, 252, 187, 244, 228, -4, 260, 241, 6, 141, 198, 210, 11, 216, 162, 1, 36, 198, 200, 180, 85, 148, -1, 76, 260, 191, 178, 12, 242, 263, -2, 0, 13, 37, 9, 219, 168, 214, 211, 137, 86, 23, 235, 370, 252, 208, 213, 41, 169, 237, 69, 39, 221, 13, 9, 1, 36, 213, 247, 20, -5, 7, 148, 6, 217, 129, 21, 262, 238, 192, 104, 14, 232, 269, 159, 228, 232, 190, 115, 197, 178, 160, 247, 232, 57, 178, 89, 36, 219, 1, 26, 31, 238, 144, 257, 39, -2, 143, 53, 241, 19, 9, 252, 110, 123, 169, 148, 3, 262, 39, 265, 239, 21, 283, 241, 203, 159, 94, 181, 241, 91, 50, 34, 100, 8, -1, 183, 17, 33, 110, 17, 259, 45, 23, 178, 83, 178, 258, 201, 39, 190, 232, 58, 192, 51, 228, 242, 257, 239, 93, 3, 146, 2, 153, 4, 250, 90, 135, 80, 149, 38, 48, -5, 13, 157, 151, 39, 53, 229, 23, 221, 31, 83, 137, 97, 239, 3, 100, 208, 177, 60, 197, 157, 15, 156, 41, 175, 140, 115, 153, 239, 252, 267, 247, -2, 160, 18, 8, 131, 249, 7, 23, 298, 250, 28, 57, 260, -1, 265, 203, 0, 145, 141, 33, 60, 189, 58, 225, -14, 0, 193, 155, 238, 11, 239, 41, -1, 18, 264, 277, 12, 291, 71, 213, 25, 93, 19, 239, 179, 233, 50, 13, 62, 258, 246, 57, 244, 10, 12, 232, 126, 243, 34, 262, 83, 7, -5, 211, 244, 267, 121, 279, 28, 26, 134, 257, 242, 261, 30, 272, 31, 12, 0, 298, 165, 261, 20, 129, 157, 200, 197, 220, 149, 242, 220, 22, 37, 167, 137, 180, 6, 0, 13, 255, 205, 170, 162, 79, 258, 146, 21, 232, 190, 1, 194, 25, 78, 275, 201, 219, 262], \"yaxis\": \"y\"}],\n",
              "                        {\"coloraxis\": {\"colorbar\": {\"title\": {\"text\": \"shot_made_flag\"}}, \"colorscale\": [[0.0, \"#0d0887\"], [0.1111111111111111, \"#46039f\"], [0.2222222222222222, \"#7201a8\"], [0.3333333333333333, \"#9c179e\"], [0.4444444444444444, \"#bd3786\"], [0.5555555555555556, \"#d8576b\"], [0.6666666666666666, \"#ed7953\"], [0.7777777777777778, \"#fb9f3a\"], [0.8888888888888888, \"#fdca26\"], [1.0, \"#f0f921\"]]}, \"height\": 600, \"legend\": {\"tracegroupgap\": 0}, \"margin\": {\"t\": 60}, \"template\": {\"data\": {\"bar\": [{\"error_x\": {\"color\": \"#2a3f5f\"}, \"error_y\": {\"color\": \"#2a3f5f\"}, \"marker\": {\"line\": {\"color\": \"#E5ECF6\", \"width\": 0.5}}, \"type\": \"bar\"}], \"barpolar\": [{\"marker\": {\"line\": {\"color\": \"#E5ECF6\", \"width\": 0.5}}, \"type\": \"barpolar\"}], \"carpet\": [{\"aaxis\": {\"endlinecolor\": \"#2a3f5f\", \"gridcolor\": \"white\", \"linecolor\": \"white\", \"minorgridcolor\": \"white\", \"startlinecolor\": \"#2a3f5f\"}, \"baxis\": {\"endlinecolor\": \"#2a3f5f\", \"gridcolor\": \"white\", \"linecolor\": \"white\", \"minorgridcolor\": \"white\", \"startlinecolor\": \"#2a3f5f\"}, \"type\": \"carpet\"}], \"choropleth\": [{\"colorbar\": {\"outlinewidth\": 0, \"ticks\": \"\"}, \"type\": \"choropleth\"}], \"contour\": [{\"colorbar\": {\"outlinewidth\": 0, \"ticks\": \"\"}, \"colorscale\": [[0.0, \"#0d0887\"], [0.1111111111111111, \"#46039f\"], [0.2222222222222222, \"#7201a8\"], [0.3333333333333333, \"#9c179e\"], [0.4444444444444444, \"#bd3786\"], [0.5555555555555556, \"#d8576b\"], [0.6666666666666666, \"#ed7953\"], [0.7777777777777778, \"#fb9f3a\"], [0.8888888888888888, \"#fdca26\"], [1.0, \"#f0f921\"]], \"type\": \"contour\"}], \"contourcarpet\": [{\"colorbar\": {\"outlinewidth\": 0, \"ticks\": \"\"}, \"type\": \"contourcarpet\"}], \"heatmap\": [{\"colorbar\": {\"outlinewidth\": 0, \"ticks\": \"\"}, \"colorscale\": [[0.0, \"#0d0887\"], [0.1111111111111111, \"#46039f\"], [0.2222222222222222, \"#7201a8\"], [0.3333333333333333, \"#9c179e\"], [0.4444444444444444, \"#bd3786\"], [0.5555555555555556, \"#d8576b\"], [0.6666666666666666, \"#ed7953\"], [0.7777777777777778, \"#fb9f3a\"], [0.8888888888888888, \"#fdca26\"], [1.0, \"#f0f921\"]], \"type\": \"heatmap\"}], \"heatmapgl\": [{\"colorbar\": {\"outlinewidth\": 0, \"ticks\": \"\"}, \"colorscale\": [[0.0, \"#0d0887\"], [0.1111111111111111, \"#46039f\"], [0.2222222222222222, \"#7201a8\"], [0.3333333333333333, \"#9c179e\"], [0.4444444444444444, \"#bd3786\"], [0.5555555555555556, \"#d8576b\"], [0.6666666666666666, \"#ed7953\"], [0.7777777777777778, \"#fb9f3a\"], [0.8888888888888888, \"#fdca26\"], [1.0, \"#f0f921\"]], \"type\": \"heatmapgl\"}], \"histogram\": [{\"marker\": {\"colorbar\": {\"outlinewidth\": 0, \"ticks\": \"\"}}, \"type\": \"histogram\"}], \"histogram2d\": [{\"colorbar\": {\"outlinewidth\": 0, \"ticks\": \"\"}, \"colorscale\": [[0.0, \"#0d0887\"], [0.1111111111111111, \"#46039f\"], [0.2222222222222222, \"#7201a8\"], [0.3333333333333333, \"#9c179e\"], [0.4444444444444444, \"#bd3786\"], [0.5555555555555556, \"#d8576b\"], [0.6666666666666666, \"#ed7953\"], [0.7777777777777778, \"#fb9f3a\"], [0.8888888888888888, \"#fdca26\"], [1.0, \"#f0f921\"]], \"type\": \"histogram2d\"}], \"histogram2dcontour\": [{\"colorbar\": {\"outlinewidth\": 0, \"ticks\": \"\"}, \"colorscale\": [[0.0, \"#0d0887\"], [0.1111111111111111, \"#46039f\"], [0.2222222222222222, \"#7201a8\"], [0.3333333333333333, \"#9c179e\"], [0.4444444444444444, \"#bd3786\"], [0.5555555555555556, \"#d8576b\"], [0.6666666666666666, \"#ed7953\"], [0.7777777777777778, \"#fb9f3a\"], [0.8888888888888888, \"#fdca26\"], [1.0, \"#f0f921\"]], \"type\": \"histogram2dcontour\"}], \"mesh3d\": [{\"colorbar\": {\"outlinewidth\": 0, \"ticks\": \"\"}, \"type\": \"mesh3d\"}], \"parcoords\": [{\"line\": {\"colorbar\": {\"outlinewidth\": 0, \"ticks\": \"\"}}, \"type\": \"parcoords\"}], \"scatter\": [{\"marker\": {\"colorbar\": {\"outlinewidth\": 0, \"ticks\": \"\"}}, \"type\": \"scatter\"}], \"scatter3d\": [{\"line\": {\"colorbar\": {\"outlinewidth\": 0, \"ticks\": \"\"}}, \"marker\": {\"colorbar\": {\"outlinewidth\": 0, \"ticks\": \"\"}}, \"type\": \"scatter3d\"}], \"scattercarpet\": [{\"marker\": {\"colorbar\": {\"outlinewidth\": 0, \"ticks\": \"\"}}, \"type\": \"scattercarpet\"}], \"scattergeo\": [{\"marker\": {\"colorbar\": {\"outlinewidth\": 0, \"ticks\": \"\"}}, \"type\": \"scattergeo\"}], \"scattergl\": [{\"marker\": {\"colorbar\": {\"outlinewidth\": 0, \"ticks\": \"\"}}, \"type\": \"scattergl\"}], \"scattermapbox\": [{\"marker\": {\"colorbar\": {\"outlinewidth\": 0, \"ticks\": \"\"}}, \"type\": \"scattermapbox\"}], \"scatterpolar\": [{\"marker\": {\"colorbar\": {\"outlinewidth\": 0, \"ticks\": \"\"}}, \"type\": \"scatterpolar\"}], \"scatterpolargl\": [{\"marker\": {\"colorbar\": {\"outlinewidth\": 0, \"ticks\": \"\"}}, \"type\": \"scatterpolargl\"}], \"scatterternary\": [{\"marker\": {\"colorbar\": {\"outlinewidth\": 0, \"ticks\": \"\"}}, \"type\": \"scatterternary\"}], \"surface\": [{\"colorbar\": {\"outlinewidth\": 0, \"ticks\": \"\"}, \"colorscale\": [[0.0, \"#0d0887\"], [0.1111111111111111, \"#46039f\"], [0.2222222222222222, \"#7201a8\"], [0.3333333333333333, \"#9c179e\"], [0.4444444444444444, \"#bd3786\"], [0.5555555555555556, \"#d8576b\"], [0.6666666666666666, \"#ed7953\"], [0.7777777777777778, \"#fb9f3a\"], [0.8888888888888888, \"#fdca26\"], [1.0, \"#f0f921\"]], \"type\": \"surface\"}], \"table\": [{\"cells\": {\"fill\": {\"color\": \"#EBF0F8\"}, \"line\": {\"color\": \"white\"}}, \"header\": {\"fill\": {\"color\": \"#C8D4E3\"}, \"line\": {\"color\": \"white\"}}, \"type\": \"table\"}]}, \"layout\": {\"annotationdefaults\": {\"arrowcolor\": \"#2a3f5f\", \"arrowhead\": 0, \"arrowwidth\": 1}, \"colorscale\": {\"diverging\": [[0, \"#8e0152\"], [0.1, \"#c51b7d\"], [0.2, \"#de77ae\"], [0.3, \"#f1b6da\"], [0.4, \"#fde0ef\"], [0.5, \"#f7f7f7\"], [0.6, \"#e6f5d0\"], [0.7, \"#b8e186\"], [0.8, \"#7fbc41\"], [0.9, \"#4d9221\"], [1, \"#276419\"]], \"sequential\": [[0.0, \"#0d0887\"], [0.1111111111111111, \"#46039f\"], [0.2222222222222222, \"#7201a8\"], [0.3333333333333333, \"#9c179e\"], [0.4444444444444444, \"#bd3786\"], [0.5555555555555556, \"#d8576b\"], [0.6666666666666666, \"#ed7953\"], [0.7777777777777778, \"#fb9f3a\"], [0.8888888888888888, \"#fdca26\"], [1.0, \"#f0f921\"]], \"sequentialminus\": [[0.0, \"#0d0887\"], [0.1111111111111111, \"#46039f\"], [0.2222222222222222, \"#7201a8\"], [0.3333333333333333, \"#9c179e\"], [0.4444444444444444, \"#bd3786\"], [0.5555555555555556, \"#d8576b\"], [0.6666666666666666, \"#ed7953\"], [0.7777777777777778, \"#fb9f3a\"], [0.8888888888888888, \"#fdca26\"], [1.0, \"#f0f921\"]]}, \"colorway\": [\"#636efa\", \"#EF553B\", \"#00cc96\", \"#ab63fa\", \"#FFA15A\", \"#19d3f3\", \"#FF6692\", \"#B6E880\", \"#FF97FF\", \"#FECB52\"], \"font\": {\"color\": \"#2a3f5f\"}, \"geo\": {\"bgcolor\": \"white\", \"lakecolor\": \"white\", \"landcolor\": \"#E5ECF6\", \"showlakes\": true, \"showland\": true, \"subunitcolor\": \"white\"}, \"hoverlabel\": {\"align\": \"left\"}, \"hovermode\": \"closest\", \"mapbox\": {\"style\": \"light\"}, \"paper_bgcolor\": \"white\", \"plot_bgcolor\": \"#E5ECF6\", \"polar\": {\"angularaxis\": {\"gridcolor\": \"white\", \"linecolor\": \"white\", \"ticks\": \"\"}, \"bgcolor\": \"#E5ECF6\", \"radialaxis\": {\"gridcolor\": \"white\", \"linecolor\": \"white\", \"ticks\": \"\"}}, \"scene\": {\"xaxis\": {\"backgroundcolor\": \"#E5ECF6\", \"gridcolor\": \"white\", \"gridwidth\": 2, \"linecolor\": \"white\", \"showbackground\": true, \"ticks\": \"\", \"zerolinecolor\": \"white\"}, \"yaxis\": {\"backgroundcolor\": \"#E5ECF6\", \"gridcolor\": \"white\", \"gridwidth\": 2, \"linecolor\": \"white\", \"showbackground\": true, \"ticks\": \"\", \"zerolinecolor\": \"white\"}, \"zaxis\": {\"backgroundcolor\": \"#E5ECF6\", \"gridcolor\": \"white\", \"gridwidth\": 2, \"linecolor\": \"white\", \"showbackground\": true, \"ticks\": \"\", \"zerolinecolor\": \"white\"}}, \"shapedefaults\": {\"line\": {\"color\": \"#2a3f5f\"}}, \"ternary\": {\"aaxis\": {\"gridcolor\": \"white\", \"linecolor\": \"white\", \"ticks\": \"\"}, \"baxis\": {\"gridcolor\": \"white\", \"linecolor\": \"white\", \"ticks\": \"\"}, \"bgcolor\": \"#E5ECF6\", \"caxis\": {\"gridcolor\": \"white\", \"linecolor\": \"white\", \"ticks\": \"\"}}, \"title\": {\"x\": 0.05}, \"xaxis\": {\"automargin\": true, \"gridcolor\": \"white\", \"linecolor\": \"white\", \"ticks\": \"\", \"zerolinecolor\": \"white\", \"zerolinewidth\": 2}, \"yaxis\": {\"automargin\": true, \"gridcolor\": \"white\", \"linecolor\": \"white\", \"ticks\": \"\", \"zerolinecolor\": \"white\", \"zerolinewidth\": 2}}}, \"xaxis\": {\"anchor\": \"y\", \"domain\": [0.0, 0.98], \"title\": {\"text\": \"loc_x\"}}, \"yaxis\": {\"anchor\": \"x\", \"domain\": [0.0, 1.0], \"title\": {\"text\": \"loc_y\"}}},\n",
              "                        {\"responsive\": true}\n",
              "                    ).then(function(){\n",
              "                            \n",
              "var gd = document.getElementById('024c7f12-ee06-450f-bf58-9fbdadc83eda');\n",
              "var x = new MutationObserver(function (mutations, observer) {{\n",
              "        var display = window.getComputedStyle(gd).display;\n",
              "        if (!display || display === 'none') {{\n",
              "            console.log([gd, 'removed!']);\n",
              "            Plotly.purge(gd);\n",
              "            observer.disconnect();\n",
              "        }}\n",
              "}});\n",
              "\n",
              "// Listen for the removal of the full notebook cells\n",
              "var notebookContainer = gd.closest('#notebook-container');\n",
              "if (notebookContainer) {{\n",
              "    x.observe(notebookContainer, {childList: true});\n",
              "}}\n",
              "\n",
              "// Listen for the clearing of the current output cell\n",
              "var outputEl = gd.closest('.output');\n",
              "if (outputEl) {{\n",
              "    x.observe(outputEl, {childList: true});\n",
              "}}\n",
              "\n",
              "                        })\n",
              "                };\n",
              "                \n",
              "            </script>\n",
              "        </div>\n",
              "</body>\n",
              "</html>"
            ]
          },
          "metadata": {
            "tags": []
          }
        }
      ]
    },
    {
      "cell_type": "code",
      "metadata": {
        "id": "e_VyJ_IgiIM5",
        "colab_type": "code",
        "colab": {}
      },
      "source": [
        "X_train = train[features]\n",
        "y_train = train[target]\n",
        "X_test = test[features]\n",
        "y_test = test[target]"
      ],
      "execution_count": 0,
      "outputs": []
    },
    {
      "cell_type": "code",
      "metadata": {
        "id": "1PdBub2M6hg2",
        "colab_type": "code",
        "colab": {}
      },
      "source": [
        "dummy = DummyClassifier(strategy='stratified', random_state=1)"
      ],
      "execution_count": 0,
      "outputs": []
    },
    {
      "cell_type": "code",
      "metadata": {
        "id": "MWfSJ_bJiIUr",
        "colab_type": "code",
        "outputId": "edb78315-20c5-4176-b742-3fb34fdbd6e7",
        "colab": {
          "base_uri": "https://localhost:8080/",
          "height": 34
        }
      },
      "source": [
        "dummy.fit(X_train,y_train)"
      ],
      "execution_count": 37,
      "outputs": [
        {
          "output_type": "execute_result",
          "data": {
            "text/plain": [
              "DummyClassifier(constant=None, random_state=1, strategy='stratified')"
            ]
          },
          "metadata": {
            "tags": []
          },
          "execution_count": 37
        }
      ]
    },
    {
      "cell_type": "code",
      "metadata": {
        "id": "S96jqVufiISr",
        "colab_type": "code",
        "outputId": "f891c9c9-a7a3-45a4-ac21-66d1475f70bc",
        "colab": {
          "base_uri": "https://localhost:8080/",
          "height": 34
        }
      },
      "source": [
        "#evaluating baseline accuracy  for model\n",
        "dummy.score(X_test,y_test)"
      ],
      "execution_count": 38,
      "outputs": [
        {
          "output_type": "execute_result",
          "data": {
            "text/plain": [
              "0.5060888252148997"
            ]
          },
          "metadata": {
            "tags": []
          },
          "execution_count": 38
        }
      ]
    },
    {
      "cell_type": "markdown",
      "metadata": {
        "colab_type": "text",
        "id": "Dz2QHBiVy_Br"
      },
      "source": [
        "## 2. Hold out your test set.\n",
        "\n",
        ">Use the 2018-19 season to test. NBA seasons begin in October and end in June. You'll know you've split the data correctly when your test set has 1,709 observations."
      ]
    },
    {
      "cell_type": "code",
      "metadata": {
        "colab_type": "code",
        "id": "OPod6lBG_wTT",
        "outputId": "22690c05-be1a-438e-ba06-3d3e862d46e3",
        "colab": {
          "base_uri": "https://localhost:8080/",
          "height": 34
        }
      },
      "source": [
        "#Creating Test Set within Data Constraints\n",
        "df_2018_2019 = df.loc[(df['game_date'] >= '10-1-2018') & (df['game_date'] <= '6-30-2019')]\n",
        "df_2018_2019.shape\n"
      ],
      "execution_count": 58,
      "outputs": [
        {
          "output_type": "execute_result",
          "data": {
            "text/plain": [
              "(1709, 21)"
            ]
          },
          "metadata": {
            "tags": []
          },
          "execution_count": 58
        }
      ]
    },
    {
      "cell_type": "code",
      "metadata": {
        "id": "R1PfyaLp4TJx",
        "colab_type": "code",
        "outputId": "70777728-4c23-4f7f-e24f-9fd7aeb52f48",
        "colab": {
          "base_uri": "https://localhost:8080/",
          "height": 153
        }
      },
      "source": [
        "#Engineering Home Advantage for Golden State Warriors\n",
        "df_2018_2019['htm_adv'] = df_2018_2019['htm'].apply(lambda x: 1 if x == 'GSW' else 0)"
      ],
      "execution_count": 40,
      "outputs": [
        {
          "output_type": "stream",
          "text": [
            "/usr/local/lib/python3.6/dist-packages/ipykernel_launcher.py:1: SettingWithCopyWarning:\n",
            "\n",
            "\n",
            "A value is trying to be set on a copy of a slice from a DataFrame.\n",
            "Try using .loc[row_indexer,col_indexer] = value instead\n",
            "\n",
            "See the caveats in the documentation: http://pandas.pydata.org/pandas-docs/stable/indexing.html#indexing-view-versus-copy\n",
            "\n"
          ],
          "name": "stderr"
        }
      ]
    },
    {
      "cell_type": "markdown",
      "metadata": {
        "colab_type": "text",
        "id": "P9Nihzk6y_CF"
      },
      "source": [
        "## 3. Engineer new feature.\n",
        "\n",
        ">Engineer at least **1** new feature, from this list, or your own idea.\n",
        ">\n",
        ">- **Homecourt Advantage**: Is the home team (`htm`) the Golden State Warriors (`GSW`) ?\n",
        ">- **Opponent**: Who is the other team playing the Golden State Warriors?\n",
        ">- **Seconds remaining in the period**: Combine minutes remaining with seconds remaining, to get the total number of seconds remaining in the period.\n",
        ">- **Seconds remaining in the game**: Combine period, and seconds remaining in the period, to get the total number of seconds remaining in the game. A basketball game has 4 periods, each 12 minutes long.\n",
        ">- **Made previous shot**: Was Steph Curry's previous shot successful?\n",
        "\n",
        "    "
      ]
    },
    {
      "cell_type": "code",
      "metadata": {
        "colab_type": "code",
        "id": "A0pxdFtWy_Bz",
        "colab": {}
      },
      "source": [
        "#Engineering Home Advantage for Golden State Warriors\n",
        "df['htm_adv'] = df['htm'].apply(lambda x: 1 if x == 'GSW' else 0)"
      ],
      "execution_count": 0,
      "outputs": []
    },
    {
      "cell_type": "markdown",
      "metadata": {
        "colab_type": "text",
        "id": "eLs7pt7NFJLF"
      },
      "source": [
        "## **4. Decide how to validate** your model. \n",
        "\n",
        ">Choose one of the following options. Any of these options are good. You are not graded on which you choose.\n",
        ">\n",
        ">- **Train/validate/test split: train on the 2009-10 season through 2016-17 season, validate with the 2017-18 season.** You'll know you've split the data correctly when your train set has 11,081 observations, and your validation set has 1,168 observations.\n",
        ">- **Train/validate/test split: random 80/20%** train/validate split.\n",
        ">- **Cross-validation** with independent test set. You may use any scikit-learn cross-validation method."
      ]
    },
    {
      "cell_type": "code",
      "metadata": {
        "id": "Au-MalR2vGFB",
        "colab_type": "code",
        "colab": {}
      },
      "source": [
        "train, val = train_test_split(df, train_size=0.80, test_size=0.20, \n",
        "                              stratify=df['shot_made_flag'])"
      ],
      "execution_count": 0,
      "outputs": []
    },
    {
      "cell_type": "code",
      "metadata": {
        "colab_type": "code",
        "id": "LJ58CceDISXR",
        "colab": {}
      },
      "source": [
        "# Target is shot_made_flag\n",
        "target = 'shot_made_flag'\n",
        "#Dataframe dropping target\n",
        "\n",
        "train_features = train.drop(columns=[target])\n",
        "\n",
        "#obtain numeric features\n",
        "\n",
        "numeric_features = train_features.select_dtypes(include='number').columns.tolist()\n",
        "\n",
        "#Get Cardinality \n",
        "cardinality = train_features.select_dtypes(exclude='number').nunique()\n",
        "\n",
        "categorical_features = cardinality[cardinality <= 15].index.tolist()\n",
        "# print(categorical_features)\n",
        "\n",
        "#combine feature lists\n",
        "features = numeric_features + categorical_features"
      ],
      "execution_count": 0,
      "outputs": []
    },
    {
      "cell_type": "code",
      "metadata": {
        "id": "LsWmyRV61KEH",
        "colab_type": "code",
        "colab": {}
      },
      "source": [
        "X_train = train[features]\n",
        "y_train = train[target]\n",
        "X_val = val[features]\n",
        "y_val = val[target]\n",
        "X_test = df_2018_2019[features]\n",
        "y_test = df_2018_2019[target]"
      ],
      "execution_count": 0,
      "outputs": []
    },
    {
      "cell_type": "markdown",
      "metadata": {
        "colab_type": "text",
        "id": "oQ2lWlu7JPRt"
      },
      "source": [
        "## 5. Use a scikit-learn pipeline to encode categoricals and fit a Decision Tree or Random Forest model."
      ]
    },
    {
      "cell_type": "code",
      "metadata": {
        "colab_type": "code",
        "id": "X2S8mUuJy_CB",
        "outputId": "229b0939-6fda-48c0-f95f-b3b03ede1d7b",
        "colab": {
          "base_uri": "https://localhost:8080/",
          "height": 408
        }
      },
      "source": [
        "pipeline = make_pipeline(\n",
        "    ce.OneHotEncoder(use_cat_names=True),\n",
        "    SimpleImputer(strategy='median'),\n",
        "    RandomForestClassifier(n_estimators=300,n_jobs=-1)\n",
        ")\n",
        "\n",
        "pipeline.fit(X_train,y_train)\n"
      ],
      "execution_count": 45,
      "outputs": [
        {
          "output_type": "execute_result",
          "data": {
            "text/plain": [
              "Pipeline(memory=None,\n",
              "         steps=[('onehotencoder',\n",
              "                 OneHotEncoder(cols=['player_name', 'shot_type',\n",
              "                                     'shot_zone_basic', 'shot_zone_area',\n",
              "                                     'shot_zone_range', 'season_type'],\n",
              "                               drop_invariant=False, handle_missing='value',\n",
              "                               handle_unknown='value', return_df=True,\n",
              "                               use_cat_names=True, verbose=0)),\n",
              "                ('simpleimputer',\n",
              "                 SimpleImputer(add_indicator=False, copy=True, fill_value=None,\n",
              "                               m...\n",
              "                 RandomForestClassifier(bootstrap=True, class_weight=None,\n",
              "                                        criterion='gini', max_depth=None,\n",
              "                                        max_features='auto',\n",
              "                                        max_leaf_nodes=None,\n",
              "                                        min_impurity_decrease=0.0,\n",
              "                                        min_impurity_split=None,\n",
              "                                        min_samples_leaf=1, min_samples_split=2,\n",
              "                                        min_weight_fraction_leaf=0.0,\n",
              "                                        n_estimators=300, n_jobs=-1,\n",
              "                                        oob_score=False, random_state=None,\n",
              "                                        verbose=0, warm_start=False))],\n",
              "         verbose=False)"
            ]
          },
          "metadata": {
            "tags": []
          },
          "execution_count": 45
        }
      ]
    },
    {
      "cell_type": "markdown",
      "metadata": {
        "colab_type": "text",
        "id": "8kJXxFpty_CH"
      },
      "source": [
        "## 6.Get your model's validation accuracy\n",
        "\n",
        "> (Multiple times if you try multiple iterations.)"
      ]
    },
    {
      "cell_type": "code",
      "metadata": {
        "colab_type": "code",
        "id": "7560JKvxy_CJ",
        "outputId": "73f47d6d-15a2-4ac0-f802-bb64381930e6",
        "colab": {
          "base_uri": "https://localhost:8080/",
          "height": 34
        }
      },
      "source": [
        "print('Validation Accuracy', pipeline.score(X_val, y_val))"
      ],
      "execution_count": 46,
      "outputs": [
        {
          "output_type": "stream",
          "text": [
            "Validation Accuracy 0.5702005730659025\n"
          ],
          "name": "stdout"
        }
      ]
    },
    {
      "cell_type": "markdown",
      "metadata": {
        "colab_type": "text",
        "id": "YvyYY9tfy_CL"
      },
      "source": [
        "## 7. Get your model's test accuracy\n",
        "\n",
        "> (One time, at the end.)"
      ]
    },
    {
      "cell_type": "code",
      "metadata": {
        "colab_type": "code",
        "id": "wjV2dfl6y_CL",
        "outputId": "ec1719cd-8704-4ea1-ef4c-7d0a1d9b0af3",
        "colab": {
          "base_uri": "https://localhost:8080/",
          "height": 34
        }
      },
      "source": [
        "# encoder = pipeline.named_steps['onehotencoder']\n",
        "# encoded = encoder.transform(X_test)\n",
        "print('Test Accuracy', pipeline.score(X_test, y_test))"
      ],
      "execution_count": 47,
      "outputs": [
        {
          "output_type": "stream",
          "text": [
            "Test Accuracy 0.9065934065934066\n"
          ],
          "name": "stdout"
        }
      ]
    },
    {
      "cell_type": "markdown",
      "metadata": {
        "id": "xGL5stLvJCn1",
        "colab_type": "text"
      },
      "source": [
        "## 8. Given a confusion matrix, calculate accuracy, precision, and recall.\n",
        "\n",
        "Imagine this is the confusion matrix for a binary classification model. Use the confusion matrix to calculate the model's accuracy, precision, and recall.\n",
        "\n",
        "<table>\n",
        "  <tr>\n",
        "    <td colspan=\"2\" rowspan=\"2\"></td>\n",
        "    <td colspan=\"2\">Predicted</td>\n",
        "  </tr>\n",
        "  <tr>\n",
        "    <td>Negative</td>\n",
        "    <td>Positive</td>\n",
        "  </tr>\n",
        "  <tr>\n",
        "    <td rowspan=\"2\">Actual</td>\n",
        "    <td>Negative</td>\n",
        "    <td style=\"border: solid\">85</td>\n",
        "    <td style=\"border: solid\">58</td>\n",
        "  </tr>\n",
        "  <tr>\n",
        "    <td>Positive</td>\n",
        "    <td style=\"border: solid\">8</td>\n",
        "    <td style=\"border: solid\"> 36</td>\n",
        "  </tr>\n",
        "</table>"
      ]
    },
    {
      "cell_type": "markdown",
      "metadata": {
        "id": "nEvt7NkUJNao",
        "colab_type": "text"
      },
      "source": [
        "### Calculate accuracy "
      ]
    },
    {
      "cell_type": "code",
      "metadata": {
        "id": "FFszS2A5JJmv",
        "colab_type": "code",
        "outputId": "6352cf3e-72f7-4124-e954-2f571d4d4949",
        "colab": {
          "base_uri": "https://localhost:8080/",
          "height": 34
        }
      },
      "source": [
        "accuracy = (36+85)/(36+8+58+85)\n",
        "print(accuracy)"
      ],
      "execution_count": 48,
      "outputs": [
        {
          "output_type": "stream",
          "text": [
            "0.6470588235294118\n"
          ],
          "name": "stdout"
        }
      ]
    },
    {
      "cell_type": "markdown",
      "metadata": {
        "id": "XjHTmk8sJO4v",
        "colab_type": "text"
      },
      "source": [
        "### Calculate precision"
      ]
    },
    {
      "cell_type": "code",
      "metadata": {
        "id": "7qX1gbcMJQS_",
        "colab_type": "code",
        "outputId": "3509a297-8071-4af5-9a6b-406cb8d5d2ad",
        "colab": {
          "base_uri": "https://localhost:8080/",
          "height": 34
        }
      },
      "source": [
        "precision = (36)/(36+58)\n",
        "print(precision)"
      ],
      "execution_count": 49,
      "outputs": [
        {
          "output_type": "stream",
          "text": [
            "0.3829787234042553\n"
          ],
          "name": "stdout"
        }
      ]
    },
    {
      "cell_type": "markdown",
      "metadata": {
        "id": "pFug3ZKaJQ7A",
        "colab_type": "text"
      },
      "source": [
        "### Calculate recall"
      ]
    },
    {
      "cell_type": "code",
      "metadata": {
        "id": "L0OKc3JxJR4r",
        "colab_type": "code",
        "outputId": "a054516a-0c0f-4a23-d0a2-be51846b8cb0",
        "colab": {
          "base_uri": "https://localhost:8080/",
          "height": 34
        }
      },
      "source": [
        "recall = (100)/(100+8)\n",
        "print(recall)"
      ],
      "execution_count": 50,
      "outputs": [
        {
          "output_type": "stream",
          "text": [
            "0.9259259259259259\n"
          ],
          "name": "stdout"
        }
      ]
    }
  ]
}